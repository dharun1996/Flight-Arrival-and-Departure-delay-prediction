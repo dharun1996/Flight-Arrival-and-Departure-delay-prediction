{
  "nbformat": 4,
  "nbformat_minor": 0,
  "metadata": {
    "colab": {
      "name": "Departure Classification_Sadhana.ipynb",
      "provenance": [],
      "collapsed_sections": []
    },
    "kernelspec": {
      "name": "python3",
      "display_name": "Python 3"
    },
    "language_info": {
      "name": "python"
    }
  },
  "cells": [
    {
      "cell_type": "code",
      "metadata": {
        "colab": {
          "base_uri": "https://localhost:8080/"
        },
        "id": "FGyzbuvi1wEK",
        "outputId": "65ef05db-388d-4e4e-f932-86c00107d593"
      },
      "source": [
        "!python --version"
      ],
      "execution_count": null,
      "outputs": [
        {
          "output_type": "stream",
          "text": [
            "Python 3.7.10\n"
          ],
          "name": "stdout"
        }
      ]
    },
    {
      "cell_type": "code",
      "metadata": {
        "id": "644zX8LH115P",
        "colab": {
          "base_uri": "https://localhost:8080/"
        },
        "outputId": "0ff1c3db-7ae3-4726-8097-92e9e7b94665"
      },
      "source": [
        "from google.colab import drive\n",
        "drive.mount('/content/gdrive')"
      ],
      "execution_count": null,
      "outputs": [
        {
          "output_type": "stream",
          "text": [
            "Mounted at /content/gdrive\n"
          ],
          "name": "stdout"
        }
      ]
    },
    {
      "cell_type": "code",
      "metadata": {
        "id": "1faGdaWRBfzT"
      },
      "source": [
        "import pandas as pd\n",
        "df=pd.read_csv('/content/gdrive/My Drive/DSC672/DATA/data_scaled.csv')\n"
      ],
      "execution_count": null,
      "outputs": []
    },
    {
      "cell_type": "code",
      "metadata": {
        "colab": {
          "base_uri": "https://localhost:8080/",
          "height": 424
        },
        "id": "MgtHV6b1Cu-n",
        "outputId": "8d0f89f3-dc38-452d-e2bc-99ee2ebf8388"
      },
      "source": [
        "df"
      ],
      "execution_count": null,
      "outputs": [
        {
          "output_type": "execute_result",
          "data": {
            "text/html": [
              "<div>\n",
              "<style scoped>\n",
              "    .dataframe tbody tr th:only-of-type {\n",
              "        vertical-align: middle;\n",
              "    }\n",
              "\n",
              "    .dataframe tbody tr th {\n",
              "        vertical-align: top;\n",
              "    }\n",
              "\n",
              "    .dataframe thead th {\n",
              "        text-align: right;\n",
              "    }\n",
              "</style>\n",
              "<table border=\"1\" class=\"dataframe\">\n",
              "  <thead>\n",
              "    <tr style=\"text-align: right;\">\n",
              "      <th></th>\n",
              "      <th>TaxiOuttimeMinutes</th>\n",
              "      <th>DelayCarrierMinutes</th>\n",
              "      <th>DelayWeatherMinutes</th>\n",
              "      <th>DelayNationalAviationSystemMinutes</th>\n",
              "      <th>DelaySecurityMinutes</th>\n",
              "      <th>DelayLateAircraftArrivalMinutes</th>\n",
              "      <th>city</th>\n",
              "      <th>time</th>\n",
              "      <th>maxtempC</th>\n",
              "      <th>mintempC</th>\n",
              "      <th>totalSnow_cm</th>\n",
              "      <th>sunHour</th>\n",
              "      <th>uvIndex</th>\n",
              "      <th>moon_illumination</th>\n",
              "      <th>DewPointC</th>\n",
              "      <th>FeelsLikeC</th>\n",
              "      <th>HeatIndexC</th>\n",
              "      <th>WindChillC</th>\n",
              "      <th>WindGustKmph</th>\n",
              "      <th>cloudcover</th>\n",
              "      <th>humidity</th>\n",
              "      <th>precipMM</th>\n",
              "      <th>pressure</th>\n",
              "      <th>tempC</th>\n",
              "      <th>visibility</th>\n",
              "      <th>winddirDegree</th>\n",
              "      <th>windspeedKmph</th>\n",
              "      <th>TailNumber</th>\n",
              "      <th>DestinationAirport</th>\n",
              "      <th>DeparturedelayMinutes</th>\n",
              "    </tr>\n",
              "  </thead>\n",
              "  <tbody>\n",
              "    <tr>\n",
              "      <th>0</th>\n",
              "      <td>-0.696706</td>\n",
              "      <td>-0.133200</td>\n",
              "      <td>-0.052276</td>\n",
              "      <td>-0.214549</td>\n",
              "      <td>-0.013172</td>\n",
              "      <td>-0.175610</td>\n",
              "      <td>-0.879167</td>\n",
              "      <td>-0.018254</td>\n",
              "      <td>0.494536</td>\n",
              "      <td>0.822523</td>\n",
              "      <td>-0.08493</td>\n",
              "      <td>-0.01473</td>\n",
              "      <td>0.584145</td>\n",
              "      <td>0.125625</td>\n",
              "      <td>1.101640</td>\n",
              "      <td>0.867540</td>\n",
              "      <td>0.882580</td>\n",
              "      <td>0.793358</td>\n",
              "      <td>0.325023</td>\n",
              "      <td>-0.778821</td>\n",
              "      <td>0.261324</td>\n",
              "      <td>-0.259572</td>\n",
              "      <td>0.214704</td>\n",
              "      <td>0.820179</td>\n",
              "      <td>0.371536</td>\n",
              "      <td>0.541785</td>\n",
              "      <td>0.333371</td>\n",
              "      <td>N66831</td>\n",
              "      <td>IAD</td>\n",
              "      <td>0</td>\n",
              "    </tr>\n",
              "    <tr>\n",
              "      <th>1</th>\n",
              "      <td>-0.599715</td>\n",
              "      <td>0.186753</td>\n",
              "      <td>-0.052276</td>\n",
              "      <td>-0.113895</td>\n",
              "      <td>-0.013172</td>\n",
              "      <td>1.329416</td>\n",
              "      <td>-0.879167</td>\n",
              "      <td>-0.018254</td>\n",
              "      <td>0.494536</td>\n",
              "      <td>0.822523</td>\n",
              "      <td>-0.08493</td>\n",
              "      <td>-0.01473</td>\n",
              "      <td>0.584145</td>\n",
              "      <td>0.125625</td>\n",
              "      <td>1.101640</td>\n",
              "      <td>0.867540</td>\n",
              "      <td>0.882580</td>\n",
              "      <td>0.793358</td>\n",
              "      <td>0.325023</td>\n",
              "      <td>-0.778821</td>\n",
              "      <td>0.261324</td>\n",
              "      <td>-0.259572</td>\n",
              "      <td>0.214704</td>\n",
              "      <td>0.820179</td>\n",
              "      <td>0.371536</td>\n",
              "      <td>0.541785</td>\n",
              "      <td>0.333371</td>\n",
              "      <td>N521NK</td>\n",
              "      <td>ATL</td>\n",
              "      <td>1</td>\n",
              "    </tr>\n",
              "    <tr>\n",
              "      <th>2</th>\n",
              "      <td>-0.793697</td>\n",
              "      <td>-0.133200</td>\n",
              "      <td>-0.052276</td>\n",
              "      <td>-0.214549</td>\n",
              "      <td>-0.013172</td>\n",
              "      <td>-0.175610</td>\n",
              "      <td>-0.879167</td>\n",
              "      <td>-0.018254</td>\n",
              "      <td>0.494536</td>\n",
              "      <td>0.822523</td>\n",
              "      <td>-0.08493</td>\n",
              "      <td>-0.01473</td>\n",
              "      <td>0.584145</td>\n",
              "      <td>0.125625</td>\n",
              "      <td>1.101640</td>\n",
              "      <td>0.867540</td>\n",
              "      <td>0.882580</td>\n",
              "      <td>0.793358</td>\n",
              "      <td>0.325023</td>\n",
              "      <td>-0.778821</td>\n",
              "      <td>0.261324</td>\n",
              "      <td>-0.259572</td>\n",
              "      <td>0.214704</td>\n",
              "      <td>0.820179</td>\n",
              "      <td>0.371536</td>\n",
              "      <td>0.541785</td>\n",
              "      <td>0.333371</td>\n",
              "      <td>N971DL</td>\n",
              "      <td>ATL</td>\n",
              "      <td>0</td>\n",
              "    </tr>\n",
              "    <tr>\n",
              "      <th>3</th>\n",
              "      <td>-0.987679</td>\n",
              "      <td>-0.133200</td>\n",
              "      <td>-0.052276</td>\n",
              "      <td>-0.214549</td>\n",
              "      <td>-0.013172</td>\n",
              "      <td>-0.175610</td>\n",
              "      <td>-0.879167</td>\n",
              "      <td>1.168270</td>\n",
              "      <td>0.494536</td>\n",
              "      <td>0.822523</td>\n",
              "      <td>-0.08493</td>\n",
              "      <td>-0.01473</td>\n",
              "      <td>0.584145</td>\n",
              "      <td>0.125625</td>\n",
              "      <td>1.101640</td>\n",
              "      <td>0.338413</td>\n",
              "      <td>0.487496</td>\n",
              "      <td>0.418864</td>\n",
              "      <td>1.151352</td>\n",
              "      <td>0.602832</td>\n",
              "      <td>1.414447</td>\n",
              "      <td>-0.259572</td>\n",
              "      <td>0.379231</td>\n",
              "      <td>0.394988</td>\n",
              "      <td>0.371536</td>\n",
              "      <td>1.656321</td>\n",
              "      <td>1.079486</td>\n",
              "      <td>N75436</td>\n",
              "      <td>IAD</td>\n",
              "      <td>1</td>\n",
              "    </tr>\n",
              "    <tr>\n",
              "      <th>4</th>\n",
              "      <td>-0.502724</td>\n",
              "      <td>-0.133200</td>\n",
              "      <td>-0.052276</td>\n",
              "      <td>-0.214549</td>\n",
              "      <td>-0.013172</td>\n",
              "      <td>-0.175610</td>\n",
              "      <td>-0.879167</td>\n",
              "      <td>1.168270</td>\n",
              "      <td>0.494536</td>\n",
              "      <td>0.822523</td>\n",
              "      <td>-0.08493</td>\n",
              "      <td>-0.01473</td>\n",
              "      <td>0.584145</td>\n",
              "      <td>0.125625</td>\n",
              "      <td>1.101640</td>\n",
              "      <td>0.338413</td>\n",
              "      <td>0.487496</td>\n",
              "      <td>0.418864</td>\n",
              "      <td>1.151352</td>\n",
              "      <td>0.602832</td>\n",
              "      <td>1.414447</td>\n",
              "      <td>-0.259572</td>\n",
              "      <td>0.379231</td>\n",
              "      <td>0.394988</td>\n",
              "      <td>0.371536</td>\n",
              "      <td>1.656321</td>\n",
              "      <td>1.079486</td>\n",
              "      <td>N803AW</td>\n",
              "      <td>LAX</td>\n",
              "      <td>1</td>\n",
              "    </tr>\n",
              "    <tr>\n",
              "      <th>...</th>\n",
              "      <td>...</td>\n",
              "      <td>...</td>\n",
              "      <td>...</td>\n",
              "      <td>...</td>\n",
              "      <td>...</td>\n",
              "      <td>...</td>\n",
              "      <td>...</td>\n",
              "      <td>...</td>\n",
              "      <td>...</td>\n",
              "      <td>...</td>\n",
              "      <td>...</td>\n",
              "      <td>...</td>\n",
              "      <td>...</td>\n",
              "      <td>...</td>\n",
              "      <td>...</td>\n",
              "      <td>...</td>\n",
              "      <td>...</td>\n",
              "      <td>...</td>\n",
              "      <td>...</td>\n",
              "      <td>...</td>\n",
              "      <td>...</td>\n",
              "      <td>...</td>\n",
              "      <td>...</td>\n",
              "      <td>...</td>\n",
              "      <td>...</td>\n",
              "      <td>...</td>\n",
              "      <td>...</td>\n",
              "      <td>...</td>\n",
              "      <td>...</td>\n",
              "      <td>...</td>\n",
              "    </tr>\n",
              "    <tr>\n",
              "      <th>1279261</th>\n",
              "      <td>-0.502724</td>\n",
              "      <td>-0.133200</td>\n",
              "      <td>-0.052276</td>\n",
              "      <td>-0.214549</td>\n",
              "      <td>-0.013172</td>\n",
              "      <td>-0.175610</td>\n",
              "      <td>1.149694</td>\n",
              "      <td>1.959286</td>\n",
              "      <td>-0.867387</td>\n",
              "      <td>-0.458267</td>\n",
              "      <td>-0.08493</td>\n",
              "      <td>-0.20809</td>\n",
              "      <td>-1.037581</td>\n",
              "      <td>1.372490</td>\n",
              "      <td>-0.078925</td>\n",
              "      <td>-0.719842</td>\n",
              "      <td>-0.796527</td>\n",
              "      <td>-0.704618</td>\n",
              "      <td>-0.501307</td>\n",
              "      <td>-0.594601</td>\n",
              "      <td>1.013361</td>\n",
              "      <td>-0.259572</td>\n",
              "      <td>0.543759</td>\n",
              "      <td>-0.774288</td>\n",
              "      <td>0.371536</td>\n",
              "      <td>1.600594</td>\n",
              "      <td>-0.711189</td>\n",
              "      <td>N68842</td>\n",
              "      <td>IAD</td>\n",
              "      <td>0</td>\n",
              "    </tr>\n",
              "    <tr>\n",
              "      <th>1279262</th>\n",
              "      <td>0.855151</td>\n",
              "      <td>-0.133200</td>\n",
              "      <td>-0.052276</td>\n",
              "      <td>-0.214549</td>\n",
              "      <td>-0.013172</td>\n",
              "      <td>-0.175610</td>\n",
              "      <td>1.149694</td>\n",
              "      <td>-2.589056</td>\n",
              "      <td>-0.867387</td>\n",
              "      <td>-0.458267</td>\n",
              "      <td>-0.08493</td>\n",
              "      <td>-0.20809</td>\n",
              "      <td>-1.037581</td>\n",
              "      <td>1.372490</td>\n",
              "      <td>-0.078925</td>\n",
              "      <td>-0.808030</td>\n",
              "      <td>-0.796527</td>\n",
              "      <td>-0.798241</td>\n",
              "      <td>0.634896</td>\n",
              "      <td>1.708155</td>\n",
              "      <td>1.213904</td>\n",
              "      <td>-0.093937</td>\n",
              "      <td>1.037341</td>\n",
              "      <td>-0.774288</td>\n",
              "      <td>-4.079180</td>\n",
              "      <td>0.307732</td>\n",
              "      <td>0.482594</td>\n",
              "      <td>N75428</td>\n",
              "      <td>IAH</td>\n",
              "      <td>0</td>\n",
              "    </tr>\n",
              "    <tr>\n",
              "      <th>1279263</th>\n",
              "      <td>-0.502724</td>\n",
              "      <td>-0.133200</td>\n",
              "      <td>-0.052276</td>\n",
              "      <td>-0.214549</td>\n",
              "      <td>-0.013172</td>\n",
              "      <td>-0.175610</td>\n",
              "      <td>1.149694</td>\n",
              "      <td>-2.589056</td>\n",
              "      <td>-0.867387</td>\n",
              "      <td>-0.458267</td>\n",
              "      <td>-0.08493</td>\n",
              "      <td>-0.20809</td>\n",
              "      <td>-1.037581</td>\n",
              "      <td>1.372490</td>\n",
              "      <td>-0.078925</td>\n",
              "      <td>-0.808030</td>\n",
              "      <td>-0.796527</td>\n",
              "      <td>-0.798241</td>\n",
              "      <td>0.634896</td>\n",
              "      <td>1.708155</td>\n",
              "      <td>1.213904</td>\n",
              "      <td>-0.093937</td>\n",
              "      <td>1.037341</td>\n",
              "      <td>-0.774288</td>\n",
              "      <td>-4.079180</td>\n",
              "      <td>0.307732</td>\n",
              "      <td>0.482594</td>\n",
              "      <td>N57863</td>\n",
              "      <td>ORD</td>\n",
              "      <td>0</td>\n",
              "    </tr>\n",
              "    <tr>\n",
              "      <th>1279264</th>\n",
              "      <td>-0.017769</td>\n",
              "      <td>-0.133200</td>\n",
              "      <td>-0.052276</td>\n",
              "      <td>-0.214549</td>\n",
              "      <td>-0.013172</td>\n",
              "      <td>-0.175610</td>\n",
              "      <td>1.149694</td>\n",
              "      <td>-0.413762</td>\n",
              "      <td>-0.867387</td>\n",
              "      <td>-0.458267</td>\n",
              "      <td>-0.08493</td>\n",
              "      <td>-0.20809</td>\n",
              "      <td>-1.037581</td>\n",
              "      <td>1.372490</td>\n",
              "      <td>-0.293574</td>\n",
              "      <td>-0.719842</td>\n",
              "      <td>-0.697756</td>\n",
              "      <td>-0.704618</td>\n",
              "      <td>-0.088142</td>\n",
              "      <td>-0.901635</td>\n",
              "      <td>0.562139</td>\n",
              "      <td>-0.259572</td>\n",
              "      <td>0.872813</td>\n",
              "      <td>-0.667990</td>\n",
              "      <td>0.371536</td>\n",
              "      <td>-0.416716</td>\n",
              "      <td>0.034925</td>\n",
              "      <td>N73270</td>\n",
              "      <td>IAD</td>\n",
              "      <td>0</td>\n",
              "    </tr>\n",
              "    <tr>\n",
              "      <th>1279265</th>\n",
              "      <td>-0.696706</td>\n",
              "      <td>-0.133200</td>\n",
              "      <td>-0.052276</td>\n",
              "      <td>-0.214549</td>\n",
              "      <td>-0.013172</td>\n",
              "      <td>-0.175610</td>\n",
              "      <td>1.149694</td>\n",
              "      <td>1.168270</td>\n",
              "      <td>-0.867387</td>\n",
              "      <td>-0.458267</td>\n",
              "      <td>-0.08493</td>\n",
              "      <td>-0.20809</td>\n",
              "      <td>-1.037581</td>\n",
              "      <td>1.372490</td>\n",
              "      <td>-0.078925</td>\n",
              "      <td>-0.631654</td>\n",
              "      <td>-0.598985</td>\n",
              "      <td>-0.610994</td>\n",
              "      <td>-0.294724</td>\n",
              "      <td>-0.870931</td>\n",
              "      <td>0.812818</td>\n",
              "      <td>-0.259572</td>\n",
              "      <td>0.379231</td>\n",
              "      <td>-0.667990</td>\n",
              "      <td>0.371536</td>\n",
              "      <td>1.299669</td>\n",
              "      <td>-0.114298</td>\n",
              "      <td>N407UA</td>\n",
              "      <td>LAX</td>\n",
              "      <td>0</td>\n",
              "    </tr>\n",
              "  </tbody>\n",
              "</table>\n",
              "<p>1279266 rows × 30 columns</p>\n",
              "</div>"
            ],
            "text/plain": [
              "         TaxiOuttimeMinutes  ...  DeparturedelayMinutes\n",
              "0                 -0.696706  ...                      0\n",
              "1                 -0.599715  ...                      1\n",
              "2                 -0.793697  ...                      0\n",
              "3                 -0.987679  ...                      1\n",
              "4                 -0.502724  ...                      1\n",
              "...                     ...  ...                    ...\n",
              "1279261           -0.502724  ...                      0\n",
              "1279262            0.855151  ...                      0\n",
              "1279263           -0.502724  ...                      0\n",
              "1279264           -0.017769  ...                      0\n",
              "1279265           -0.696706  ...                      0\n",
              "\n",
              "[1279266 rows x 30 columns]"
            ]
          },
          "metadata": {
            "tags": []
          },
          "execution_count": 6
        }
      ]
    },
    {
      "cell_type": "code",
      "metadata": {
        "id": "4zMKbolZCw4d"
      },
      "source": [
        "X = df.drop('DeparturedelayMinutes', axis=1)"
      ],
      "execution_count": null,
      "outputs": []
    },
    {
      "cell_type": "code",
      "metadata": {
        "id": "dXh7qVVeC60K"
      },
      "source": [
        "y = df.DeparturedelayMinutes"
      ],
      "execution_count": null,
      "outputs": []
    },
    {
      "cell_type": "code",
      "metadata": {
        "id": "053wK_uUDl7z"
      },
      "source": [
        "import numpy as np\n",
        "import matplotlib.pyplot as plt\n",
        "import seaborn as sns\n",
        "\n",
        "import sklearn\n",
        "sklearn.__version__\n",
        "\n",
        "from sklearn.model_selection import train_test_split\n",
        "from sklearn import metrics\n",
        "from sklearn.model_selection import RandomizedSearchCV\n",
        "from sklearn.model_selection import GridSearchCV\n",
        "\n",
        "from sklearn.linear_model import LogisticRegression\n",
        "from sklearn.linear_model import LinearRegression\n",
        "from sklearn.linear_model import Lasso\n",
        "from sklearn import metrics\n",
        "from sklearn.metrics import r2_score\n",
        "import math\n",
        "from sklearn.decomposition import PCA\n",
        "from sklearn.metrics import mean_squared_error\n",
        "from sklearn.svm import SVC\n",
        "from sklearn.svm import SVR"
      ],
      "execution_count": null,
      "outputs": []
    },
    {
      "cell_type": "code",
      "metadata": {
        "id": "5t_f4aikDF6t"
      },
      "source": [
        "X_train, X_val, y_train, y_val = train_test_split(X, y, test_size=0.30, random_state=50000)\n"
      ],
      "execution_count": null,
      "outputs": []
    },
    {
      "cell_type": "code",
      "metadata": {
        "colab": {
          "base_uri": "https://localhost:8080/"
        },
        "id": "BcrOjUcVDq7a",
        "outputId": "2ccc7ce2-5459-422b-ef46-dea8c36aad0e"
      },
      "source": [
        "df.shape"
      ],
      "execution_count": null,
      "outputs": [
        {
          "output_type": "execute_result",
          "data": {
            "text/plain": [
              "(1279266, 30)"
            ]
          },
          "metadata": {
            "tags": []
          },
          "execution_count": 42
        }
      ]
    },
    {
      "cell_type": "code",
      "metadata": {
        "id": "gSV8BImOFFQV"
      },
      "source": [
        "X_DAtrain=X_train.DestinationAirport"
      ],
      "execution_count": null,
      "outputs": []
    },
    {
      "cell_type": "code",
      "metadata": {
        "id": "D1AIu7W3HdNN"
      },
      "source": [
        "X_TNtrain=X_train.TailNumber"
      ],
      "execution_count": null,
      "outputs": []
    },
    {
      "cell_type": "code",
      "metadata": {
        "id": "lU-q5Dc7Hjxa"
      },
      "source": [
        "X_train=X_train.drop(['DestinationAirport','TailNumber'],axis=1)"
      ],
      "execution_count": null,
      "outputs": []
    },
    {
      "cell_type": "code",
      "metadata": {
        "colab": {
          "base_uri": "https://localhost:8080/"
        },
        "id": "OkUC2cdbIZaM",
        "outputId": "91c2746a-352f-4430-a109-6aa9246d0ae7"
      },
      "source": [
        "X_train.columns"
      ],
      "execution_count": null,
      "outputs": [
        {
          "output_type": "execute_result",
          "data": {
            "text/plain": [
              "Index(['TaxiOuttimeMinutes', 'DelayCarrierMinutes', 'DelayWeatherMinutes',\n",
              "       'DelayNationalAviationSystemMinutes', 'DelaySecurityMinutes',\n",
              "       'DelayLateAircraftArrivalMinutes', 'city', 'time', 'maxtempC',\n",
              "       'mintempC', 'totalSnow_cm', 'sunHour', 'uvIndex', 'moon_illumination',\n",
              "       'DewPointC', 'FeelsLikeC', 'HeatIndexC', 'WindChillC', 'WindGustKmph',\n",
              "       'cloudcover', 'humidity', 'precipMM', 'pressure', 'tempC', 'visibility',\n",
              "       'winddirDegree', 'windspeedKmph'],\n",
              "      dtype='object')"
            ]
          },
          "metadata": {
            "tags": []
          },
          "execution_count": 71
        }
      ]
    },
    {
      "cell_type": "code",
      "metadata": {
        "id": "iBeDJ25zZkRl"
      },
      "source": [
        "X_DAval=X_val.DestinationAirport"
      ],
      "execution_count": null,
      "outputs": []
    },
    {
      "cell_type": "code",
      "metadata": {
        "id": "LUXZ9E2paMld"
      },
      "source": [
        "X_TNval=X_val.TailNumber"
      ],
      "execution_count": null,
      "outputs": []
    },
    {
      "cell_type": "code",
      "metadata": {
        "id": "fG-8m0ZAaY0V"
      },
      "source": [
        "X_val=X_val.drop(['DestinationAirport','TailNumber'],axis=1)"
      ],
      "execution_count": null,
      "outputs": []
    },
    {
      "cell_type": "code",
      "metadata": {
        "id": "IFcw_swGIfY2"
      },
      "source": [
        "from sklearn.ensemble import RandomForestClassifier\n"
      ],
      "execution_count": null,
      "outputs": []
    },
    {
      "cell_type": "code",
      "metadata": {
        "id": "VlVrsZLtI7OU"
      },
      "source": [
        "rf=RandomForestClassifier(max_depth=10, n_estimators=10)"
      ],
      "execution_count": null,
      "outputs": []
    },
    {
      "cell_type": "code",
      "metadata": {
        "id": "9Pk2uV_eJBGn"
      },
      "source": [
        ""
      ],
      "execution_count": null,
      "outputs": []
    },
    {
      "cell_type": "code",
      "metadata": {
        "colab": {
          "base_uri": "https://localhost:8080/"
        },
        "id": "k3fW187EJKfb",
        "outputId": "635de70d-321a-4d93-a646-e6d4c3c9746a"
      },
      "source": [
        "rf.fit(X_train, y_train)"
      ],
      "execution_count": null,
      "outputs": [
        {
          "output_type": "execute_result",
          "data": {
            "text/plain": [
              "RandomForestClassifier(bootstrap=True, ccp_alpha=0.0, class_weight=None,\n",
              "                       criterion='gini', max_depth=10, max_features='auto',\n",
              "                       max_leaf_nodes=None, max_samples=None,\n",
              "                       min_impurity_decrease=0.0, min_impurity_split=None,\n",
              "                       min_samples_leaf=1, min_samples_split=2,\n",
              "                       min_weight_fraction_leaf=0.0, n_estimators=10,\n",
              "                       n_jobs=None, oob_score=False, random_state=None,\n",
              "                       verbose=0, warm_start=False)"
            ]
          },
          "metadata": {
            "tags": []
          },
          "execution_count": 54
        }
      ]
    },
    {
      "cell_type": "code",
      "metadata": {
        "id": "ykwuIlpZY0Ok"
      },
      "source": [
        "predrf1 = rf.predict(X_train)"
      ],
      "execution_count": null,
      "outputs": []
    },
    {
      "cell_type": "code",
      "metadata": {
        "id": "ihlMwvBSa6r6"
      },
      "source": [
        "predrf2 = rf.predict(X_val)"
      ],
      "execution_count": null,
      "outputs": []
    },
    {
      "cell_type": "code",
      "metadata": {
        "colab": {
          "base_uri": "https://localhost:8080/"
        },
        "id": "Z_jgSfvgbAJE",
        "outputId": "5ac57a56-d462-4dd8-99ba-991a92a560eb"
      },
      "source": [
        "metrics.accuracy_score(y_true=y_train,y_pred=predrf1)"
      ],
      "execution_count": null,
      "outputs": [
        {
          "output_type": "execute_result",
          "data": {
            "text/plain": [
              "0.948306282845293"
            ]
          },
          "metadata": {
            "tags": []
          },
          "execution_count": 61
        }
      ]
    },
    {
      "cell_type": "code",
      "metadata": {
        "colab": {
          "base_uri": "https://localhost:8080/"
        },
        "id": "zvorAjyhbJWp",
        "outputId": "b2b427eb-78d8-4c99-efb2-9ea9f14cd6dc"
      },
      "source": [
        "metrics.accuracy_score(y_true=y_val,y_pred=predrf2)"
      ],
      "execution_count": null,
      "outputs": [
        {
          "output_type": "execute_result",
          "data": {
            "text/plain": [
              "0.9481265308249518"
            ]
          },
          "metadata": {
            "tags": []
          },
          "execution_count": 62
        }
      ]
    },
    {
      "cell_type": "code",
      "metadata": {
        "id": "zWA22HLfbdCQ"
      },
      "source": [
        "from xgboost import XGBClassifier"
      ],
      "execution_count": null,
      "outputs": []
    },
    {
      "cell_type": "code",
      "metadata": {
        "id": "vb2LUgVubydo"
      },
      "source": [
        "xgb=XGBClassifier(learning_rate=0.1,max_depth=10)"
      ],
      "execution_count": null,
      "outputs": []
    },
    {
      "cell_type": "code",
      "metadata": {
        "colab": {
          "base_uri": "https://localhost:8080/"
        },
        "id": "0J9WZU4YcRwC",
        "outputId": "8ca8612a-c993-4747-e7b5-8d7401b68433"
      },
      "source": [
        "xgb.fit(X_train,y_train)"
      ],
      "execution_count": null,
      "outputs": [
        {
          "output_type": "execute_result",
          "data": {
            "text/plain": [
              "XGBClassifier(base_score=0.5, booster='gbtree', colsample_bylevel=1,\n",
              "              colsample_bynode=1, colsample_bytree=1, gamma=0,\n",
              "              learning_rate=0.1, max_delta_step=0, max_depth=10,\n",
              "              min_child_weight=1, missing=None, n_estimators=100, n_jobs=1,\n",
              "              nthread=None, objective='binary:logistic', random_state=0,\n",
              "              reg_alpha=0, reg_lambda=1, scale_pos_weight=1, seed=None,\n",
              "              silent=None, subsample=1, verbosity=1)"
            ]
          },
          "metadata": {
            "tags": []
          },
          "execution_count": 53
        }
      ]
    },
    {
      "cell_type": "code",
      "metadata": {
        "id": "8Q0NmhqhfqDE"
      },
      "source": [
        "predxgb1 = xgb.predict(X_train)\n"
      ],
      "execution_count": null,
      "outputs": []
    },
    {
      "cell_type": "code",
      "metadata": {
        "id": "XAfgg5UIf971"
      },
      "source": [
        "predxgb2 = xgb.predict(X_val)"
      ],
      "execution_count": null,
      "outputs": []
    },
    {
      "cell_type": "code",
      "metadata": {
        "colab": {
          "base_uri": "https://localhost:8080/"
        },
        "id": "AOI5bqgFg09Q",
        "outputId": "95a35e7c-0fcc-4ee9-c63a-5cdb0c93889b"
      },
      "source": [
        "metrics.accuracy_score(y_true=y_train,y_pred=predxgb1)"
      ],
      "execution_count": null,
      "outputs": [
        {
          "output_type": "execute_result",
          "data": {
            "text/plain": [
              "0.9526502926902263"
            ]
          },
          "metadata": {
            "tags": []
          },
          "execution_count": 24
        }
      ]
    },
    {
      "cell_type": "code",
      "metadata": {
        "colab": {
          "base_uri": "https://localhost:8080/"
        },
        "id": "WpGI_MTZg8CQ",
        "outputId": "5ed3955b-f6a1-4077-f7d9-eeac2588bfb4"
      },
      "source": [
        "metrics.accuracy_score(y_true=y_val,y_pred=predxgb2)"
      ],
      "execution_count": null,
      "outputs": [
        {
          "output_type": "execute_result",
          "data": {
            "text/plain": [
              "0.9514565636562614"
            ]
          },
          "metadata": {
            "tags": []
          },
          "execution_count": 25
        }
      ]
    },
    {
      "cell_type": "code",
      "metadata": {
        "colab": {
          "base_uri": "https://localhost:8080/"
        },
        "id": "aOQNyQr3-74y",
        "outputId": "5deeb037-4532-4a87-a493-92440fa6cb00"
      },
      "source": [
        "from sklearn import metrics\n",
        "from sklearn.metrics import confusion_matrix, classification_report\n",
        "from sklearn.metrics import confusion_matrix, classification_report\n",
        "print(confusion_matrix(y_val,predxgb2))\n",
        "print(classification_report(y_val,predxgb2))"
      ],
      "execution_count": null,
      "outputs": [
        {
          "output_type": "stream",
          "text": [
            "[[316550   1628]\n",
            " [ 17002  48600]]\n",
            "              precision    recall  f1-score   support\n",
            "\n",
            "           0       0.95      0.99      0.97    318178\n",
            "           1       0.97      0.74      0.84     65602\n",
            "\n",
            "    accuracy                           0.95    383780\n",
            "   macro avg       0.96      0.87      0.91    383780\n",
            "weighted avg       0.95      0.95      0.95    383780\n",
            "\n"
          ],
          "name": "stdout"
        }
      ]
    },
    {
      "cell_type": "code",
      "metadata": {
        "id": "E2P7TH1fBupv",
        "colab": {
          "base_uri": "https://localhost:8080/"
        },
        "outputId": "7bbca57b-c59b-4bdc-b6a2-4f98ea92959f"
      },
      "source": [
        "y_train"
      ],
      "execution_count": null,
      "outputs": [
        {
          "output_type": "execute_result",
          "data": {
            "text/plain": [
              "987798     0\n",
              "636875     0\n",
              "590999     0\n",
              "572415     0\n",
              "969801     0\n",
              "          ..\n",
              "938611     1\n",
              "1034812    0\n",
              "518343     0\n",
              "799296     0\n",
              "1197952    0\n",
              "Name: DeparturedelayMinutes, Length: 895486, dtype: int64"
            ]
          },
          "metadata": {
            "tags": []
          },
          "execution_count": 28
        }
      ]
    },
    {
      "cell_type": "code",
      "metadata": {
        "colab": {
          "base_uri": "https://localhost:8080/"
        },
        "id": "JVxuH2E7ECX4",
        "outputId": "20fbee0c-528c-42b1-e0b0-c2939234b14b"
      },
      "source": [
        "predxgb1\n",
        "print(type(X_train))"
      ],
      "execution_count": null,
      "outputs": [
        {
          "output_type": "stream",
          "text": [
            "<class 'pandas.core.frame.DataFrame'>\n"
          ],
          "name": "stdout"
        }
      ]
    },
    {
      "cell_type": "code",
      "metadata": {
        "colab": {
          "base_uri": "https://localhost:8080/"
        },
        "id": "tMS8MHFBEJ14",
        "outputId": "e15aec87-5a1a-4114-bd47-a30d3d4dd988"
      },
      "source": [
        "print(predxgb2)\n",
        "print(type(predxgb2))"
      ],
      "execution_count": null,
      "outputs": [
        {
          "output_type": "stream",
          "text": [
            "[0 0 0 ... 0 0 0]\n",
            "<class 'numpy.ndarray'>\n"
          ],
          "name": "stdout"
        }
      ]
    },
    {
      "cell_type": "code",
      "metadata": {
        "colab": {
          "base_uri": "https://localhost:8080/"
        },
        "id": "RJ-hjZnGJZe2",
        "outputId": "ab7fc892-c60e-4101-975f-dd020d18d754"
      },
      "source": [
        "import pandas as pd\n",
        "data=pd.DataFrame(predxgb1,columns=['PredTrain'])\n",
        "print(data)\n"
      ],
      "execution_count": null,
      "outputs": [
        {
          "output_type": "stream",
          "text": [
            "        PredTrain\n",
            "0               0\n",
            "1               0\n",
            "2               0\n",
            "3               0\n",
            "4               0\n",
            "...           ...\n",
            "895481          1\n",
            "895482          0\n",
            "895483          0\n",
            "895484          0\n",
            "895485          0\n",
            "\n",
            "[895486 rows x 1 columns]\n"
          ],
          "name": "stdout"
        }
      ]
    },
    {
      "cell_type": "code",
      "metadata": {
        "colab": {
          "base_uri": "https://localhost:8080/"
        },
        "id": "t1FvtR8CJux3",
        "outputId": "d466a967-ee7d-450f-8479-5fae45b6f161"
      },
      "source": [
        "import pandas as pd\n",
        "data2=pd.DataFrame(predxgb2,columns=['PredTest'])\n",
        "xTest=[X_val,data2]\n",
        "result2 = pd.concat(xTest)\n",
        "result2.columns"
      ],
      "execution_count": null,
      "outputs": [
        {
          "output_type": "execute_result",
          "data": {
            "text/plain": [
              "Index(['TaxiOuttimeMinutes', 'DelayCarrierMinutes', 'DelayWeatherMinutes',\n",
              "       'DelayNationalAviationSystemMinutes', 'DelaySecurityMinutes',\n",
              "       'DelayLateAircraftArrivalMinutes', 'city', 'time', 'maxtempC',\n",
              "       'mintempC', 'totalSnow_cm', 'sunHour', 'uvIndex', 'moon_illumination',\n",
              "       'DewPointC', 'FeelsLikeC', 'HeatIndexC', 'WindChillC', 'WindGustKmph',\n",
              "       'cloudcover', 'humidity', 'precipMM', 'pressure', 'tempC', 'visibility',\n",
              "       'winddirDegree', 'windspeedKmph', 'PredTest'],\n",
              "      dtype='object')"
            ]
          },
          "metadata": {
            "tags": []
          },
          "execution_count": 67
        }
      ]
    },
    {
      "cell_type": "code",
      "metadata": {
        "id": "KZdTqep5c_dW"
      },
      "source": [
        "result.columns\n",
        "result.to_csv('TrainSet_pred')"
      ],
      "execution_count": null,
      "outputs": []
    },
    {
      "cell_type": "code",
      "metadata": {
        "id": "kU8k4aa_dwby"
      },
      "source": [
        "result2.to_csv('TestSet_Pred')"
      ],
      "execution_count": null,
      "outputs": []
    },
    {
      "cell_type": "code",
      "metadata": {
        "id": "Rsa0kICsmjcs"
      },
      "source": [
        "data2.to_csv('PredTest')"
      ],
      "execution_count": null,
      "outputs": []
    }
  ]
}