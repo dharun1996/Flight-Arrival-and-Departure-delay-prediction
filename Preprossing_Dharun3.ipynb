{
 "cells": [
  {
   "cell_type": "code",
   "execution_count": 1,
   "metadata": {},
   "outputs": [],
   "source": [
    "import pandas as pd"
   ]
  },
  {
   "cell_type": "code",
   "execution_count": 2,
   "metadata": {},
   "outputs": [],
   "source": [
    "w1 = open(r'C:\\Users\\dharu\\Documents\\Studies\\Q7\\DS672\\Data\\Weather\\ATL.csv','a')\n",
    "w2 = open(r'C:\\Users\\dharu\\Documents\\Studies\\Q7\\DS672\\Data\\Weather\\ORD.csv','r')"
   ]
  },
  {
   "cell_type": "code",
   "execution_count": 3,
   "metadata": {},
   "outputs": [],
   "source": [
    "for line in w2:\n",
    "   w1.write(line)"
   ]
  },
  {
   "cell_type": "code",
   "execution_count": 4,
   "metadata": {},
   "outputs": [
    {
     "data": {
      "text/plain": [
       "<_io.TextIOWrapper name='C:\\\\Users\\\\dharu\\\\Documents\\\\Studies\\\\Q7\\\\DS672\\\\Data\\\\Weather\\\\ATL.csv' mode='a' encoding='cp1252'>"
      ]
     },
     "execution_count": 4,
     "metadata": {},
     "output_type": "execute_result"
    }
   ],
   "source": [
    "w1"
   ]
  },
  {
   "cell_type": "code",
   "execution_count": 5,
   "metadata": {},
   "outputs": [],
   "source": [
    "w3 = open(r'C:\\Users\\dharu\\Documents\\Studies\\Q7\\DS672\\Data\\Weather\\JFK.csv','r')\n",
    "w4 = open(r'C:\\Users\\dharu\\Documents\\Studies\\Q7\\DS672\\Data\\Weather\\LGA.csv','r')"
   ]
  },
  {
   "cell_type": "code",
   "execution_count": 6,
   "metadata": {},
   "outputs": [],
   "source": [
    "for line in w3:\n",
    "   w1.write(line)"
   ]
  },
  {
   "cell_type": "code",
   "execution_count": 7,
   "metadata": {},
   "outputs": [],
   "source": [
    "for line in w4:\n",
    "   w1.write(line)"
   ]
  },
  {
   "cell_type": "code",
   "execution_count": 8,
   "metadata": {},
   "outputs": [],
   "source": [
    "w1.close()"
   ]
  },
  {
   "cell_type": "code",
   "execution_count": 9,
   "metadata": {},
   "outputs": [],
   "source": [
    "w2.close()\n",
    "w3.close()\n",
    "w4.close()"
   ]
  },
  {
   "cell_type": "code",
   "execution_count": 20,
   "metadata": {},
   "outputs": [],
   "source": [
    "f1 = open(r'C:\\Users\\dharu\\Documents\\Studies\\Q7\\DS672\\Data\\Mer\\Dep\\Arr_dha.csv','a')"
   ]
  },
  {
   "cell_type": "code",
   "execution_count": 2,
   "metadata": {},
   "outputs": [],
   "source": [
    "f2 = open(r'C:\\Users\\dharu\\Documents\\Studies\\Q7\\DS672\\Data\\Flight\\TPA\\DEP\\Detailed_Statistics_Departures_TPA_NK.csv','r')"
   ]
  },
  {
   "cell_type": "code",
   "execution_count": 3,
   "metadata": {},
   "outputs": [],
   "source": [
    "f3 = open(r'C:\\Users\\dharu\\Documents\\Studies\\Q7\\DS672\\Data\\Flight\\TPA\\DEP\\Detailed_Statistics_Departures_TPA_DL.csv','r')\n",
    "f4 = open(r'C:\\Users\\dharu\\Documents\\Studies\\Q7\\DS672\\Data\\Flight\\TPA\\DEP\\Detailed_Statistics_Departures_TPA_AS.csv','r')\n",
    "f5 = open(r'C:\\Users\\dharu\\Documents\\Studies\\Q7\\DS672\\Data\\Flight\\TPA\\DEP\\Detailed_Statistics_Departures_TPA_AA.csv','r')"
   ]
  },
  {
   "cell_type": "code",
   "execution_count": 4,
   "metadata": {},
   "outputs": [],
   "source": [
    "for line in f2:\n",
    "   f1.write(line)"
   ]
  },
  {
   "cell_type": "code",
   "execution_count": 5,
   "metadata": {},
   "outputs": [],
   "source": [
    "for line in f3:\n",
    "   f1.write(line)"
   ]
  },
  {
   "cell_type": "code",
   "execution_count": 6,
   "metadata": {},
   "outputs": [],
   "source": [
    "for line in f4:\n",
    "   f1.write(line)"
   ]
  },
  {
   "cell_type": "code",
   "execution_count": 7,
   "metadata": {},
   "outputs": [],
   "source": [
    "for line in f5:\n",
    "   f1.write(line)"
   ]
  },
  {
   "cell_type": "code",
   "execution_count": 11,
   "metadata": {},
   "outputs": [],
   "source": [
    "f6 = open(r'C:\\Users\\dharu\\Documents\\Studies\\Q7\\DS672\\Data\\Flight\\RDU\\Dep\\Detailed_Statistics_Departures_RDU_AA.csv','r')\n",
    "f7 = open(r'C:\\Users\\dharu\\Documents\\Studies\\Q7\\DS672\\Data\\Flight\\RDU\\Dep\\Detailed_Statistics_Departures_RDU_AS.csv','r')\n",
    "f8 = open(r'C:\\Users\\dharu\\Documents\\Studies\\Q7\\DS672\\Data\\Flight\\RDU\\Dep\\Detailed_Statistics_Departures_RDU_DL.csv','r')\n",
    "f9 = open(r'C:\\Users\\dharu\\Documents\\Studies\\Q7\\DS672\\Data\\Flight\\RDU\\Dep\\Detailed_Statistics_Departures_RDU_NK.csv','r')\n",
    "f10 = open(r'C:\\Users\\dharu\\Documents\\Studies\\Q7\\DS672\\Data\\Flight\\RDU\\Dep\\Detailed_Statistics_Departures_RDU_UA.csv','r')"
   ]
  },
  {
   "cell_type": "code",
   "execution_count": 9,
   "metadata": {},
   "outputs": [],
   "source": [
    "for line in f6:\n",
    "   f1.write(line)\n",
    "for line in f7:\n",
    "   f1.write(line)\n",
    "for line in f8:\n",
    "   f1.write(line)\n",
    "for line in f9:\n",
    "   f1.write(line)\n",
    "for line in f10:\n",
    "   f1.write(line)"
   ]
  },
  {
   "cell_type": "code",
   "execution_count": 12,
   "metadata": {},
   "outputs": [],
   "source": [
    "f11 = open(r'C:\\Users\\dharu\\Documents\\Studies\\Q7\\DS672\\Data\\Flight\\ORD\\Dep\\Detailed_Statistics_Departures_ORD_AA.csv','r')\n",
    "f12 = open(r'C:\\Users\\dharu\\Documents\\Studies\\Q7\\DS672\\Data\\Flight\\ORD\\Dep\\Detailed_Statistics_Departures_ORD_AS.csv','r')\n",
    "f13 = open(r'C:\\Users\\dharu\\Documents\\Studies\\Q7\\DS672\\Data\\Flight\\ORD\\Dep\\Detailed_Statistics_Departures_ORD_DL.csv','r')\n",
    "f14 = open(r'C:\\Users\\dharu\\Documents\\Studies\\Q7\\DS672\\Data\\Flight\\ORD\\Dep\\Detailed_Statistics_Departures_ORD_NK.csv','r')\n",
    "f15 = open(r'C:\\Users\\dharu\\Documents\\Studies\\Q7\\DS672\\Data\\Flight\\ORD\\Dep\\Detailed_Statistics_Departures_ORD_UA.csv','r')\n"
   ]
  },
  {
   "cell_type": "code",
   "execution_count": 13,
   "metadata": {},
   "outputs": [],
   "source": [
    "for line in f11:\n",
    "   f1.write(line)\n",
    "for line in f12:\n",
    "   f1.write(line)\n",
    "for line in f13:\n",
    "   f1.write(line)\n",
    "for line in f14:\n",
    "   f1.write(line)\n",
    "for line in f15:\n",
    "   f1.write(line)"
   ]
  },
  {
   "cell_type": "code",
   "execution_count": 17,
   "metadata": {},
   "outputs": [],
   "source": [
    "f16 = open(r'C:\\Users\\dharu\\Documents\\Studies\\Q7\\DS672\\Data\\Flight\\LAS\\Detailed_Statistics_Departures_LAS_AA.csv','r')\n",
    "f17 = open(r'C:\\Users\\dharu\\Documents\\Studies\\Q7\\DS672\\Data\\Flight\\LAS\\Detailed_Statistics_Departures_LAS_AS.csv','r')\n",
    "f18 = open(r'C:\\Users\\dharu\\Documents\\Studies\\Q7\\DS672\\Data\\Flight\\LAS\\Detailed_Statistics_Departures_LAS_DL.csv','r')\n",
    "f19 = open(r'C:\\Users\\dharu\\Documents\\Studies\\Q7\\DS672\\Data\\Flight\\LAS\\Detailed_Statistics_Departures_LAS_NK.csv','r')\n",
    "f20 = open(r'C:\\Users\\dharu\\Documents\\Studies\\Q7\\DS672\\Data\\Flight\\LAS\\Detailed_Statistics_Departures_LAS_UA.csv','r')\n",
    "\n",
    "f21 = open(r'C:\\Users\\dharu\\Documents\\Studies\\Q7\\DS672\\Data\\Flight\\IAH\\DEP\\Detailed_Statistics_Departures_IAH_AA.csv','r')\n",
    "f22 = open(r'C:\\Users\\dharu\\Documents\\Studies\\Q7\\DS672\\Data\\Flight\\IAH\\DEP\\Detailed_Statistics_Departures_IAH_AS.csv','r')\n",
    "f23 = open(r'C:\\Users\\dharu\\Documents\\Studies\\Q7\\DS672\\Data\\Flight\\IAH\\DEP\\Detailed_Statistics_Departures_IAH_DL.csv','r')\n",
    "f24 = open(r'C:\\Users\\dharu\\Documents\\Studies\\Q7\\DS672\\Data\\Flight\\IAH\\DEP\\Detailed_Statistics_Departures_IAH_NK.csv','r')\n",
    "f25 = open(r'C:\\Users\\dharu\\Documents\\Studies\\Q7\\DS672\\Data\\Flight\\IAH\\DEP\\Detailed_Statistics_Departures_IAH_UA.csv','r')\n",
    "\n",
    "f26 = open(r'C:\\Users\\dharu\\Documents\\Studies\\Q7\\DS672\\Data\\Flight\\IAD\\DEP\\Detailed_Statistics_Departures_IAD_AA.csv','r')\n",
    "f27 = open(r'C:\\Users\\dharu\\Documents\\Studies\\Q7\\DS672\\Data\\Flight\\IAD\\DEP\\Detailed_Statistics_Departures_IAD_AS.csv','r')\n",
    "f28 = open(r'C:\\Users\\dharu\\Documents\\Studies\\Q7\\DS672\\Data\\Flight\\IAD\\DEP\\Detailed_Statistics_Departures_IAD_DL.csv','r')\n",
    "f29 = open(r'C:\\Users\\dharu\\Documents\\Studies\\Q7\\DS672\\Data\\Flight\\IAD\\DEP\\Detailed_Statistics_Departures_IAD_UA.csv','r')\n",
    "\n",
    "f30 = open(r'C:\\Users\\dharu\\Documents\\Studies\\Q7\\DS672\\Data\\Flight\\JFK\\DEP\\Detailed_Statistics_Departures_JFK_AA.csv','r')\n",
    "f31 = open(r'C:\\Users\\dharu\\Documents\\Studies\\Q7\\DS672\\Data\\Flight\\JFK\\DEP\\Detailed_Statistics_Departures._JFK_AS.csv','r')\n",
    "f32 = open(r'C:\\Users\\dharu\\Documents\\Studies\\Q7\\DS672\\Data\\Flight\\JFK\\DEP\\Detailed_Statistics_Departures_JFK_DL.csv','r')\n",
    "\n",
    "f33 = open(r'C:\\Users\\dharu\\Documents\\Studies\\Q7\\DS672\\Data\\Flight\\JFK\\DEP\\Detailed_Statistics_Departures_LGA_NK.csv','r')\n",
    "f34 = open(r'C:\\Users\\dharu\\Documents\\Studies\\Q7\\DS672\\Data\\Flight\\JFK\\DEP\\Detailed_Statistics_Departures_LGA_UA.csv','r')\n",
    "\n",
    "\n"
   ]
  },
  {
   "cell_type": "code",
   "execution_count": 18,
   "metadata": {},
   "outputs": [],
   "source": [
    "for line in f16:\n",
    "   f1.write(line)\n",
    "for line in f17:\n",
    "   f1.write(line)\n",
    "for line in f18:\n",
    "   f1.write(line)\n",
    "for line in f19:\n",
    "   f1.write(line)\n",
    "for line in f20:\n",
    "   f1.write(line)\n",
    "\n",
    "for line in f21:\n",
    "   f1.write(line)\n",
    "for line in f22:\n",
    "   f1.write(line)\n",
    "for line in f23:\n",
    "   f1.write(line)\n",
    "for line in f24:\n",
    "   f1.write(line)\n",
    "for line in f25:\n",
    "   f1.write(line)\n",
    "\n",
    "for line in f26:\n",
    "   f1.write(line)\n",
    "for line in f27:\n",
    "   f1.write(line)\n",
    "for line in f28:\n",
    "   f1.write(line)\n",
    "for line in f29:\n",
    "   f1.write(line)\n",
    "for line in f30:\n",
    "   f1.write(line)\n",
    "\n",
    "for line in f31:\n",
    "   f1.write(line)\n",
    "for line in f32:\n",
    "   f1.write(line)\n",
    "for line in f33:\n",
    "   f1.write(line)\n",
    "for line in f34:\n",
    "   f1.write(line)"
   ]
  },
  {
   "cell_type": "code",
   "execution_count": 21,
   "metadata": {},
   "outputs": [],
   "source": [
    "f35 = open(r'C:\\Users\\dharu\\Documents\\Studies\\Q7\\DS672\\Data\\Mer\\Dep\\Vallab_Departure_Data_Combined.csv','r')\n",
    "\n"
   ]
  },
  {
   "cell_type": "code",
   "execution_count": 22,
   "metadata": {},
   "outputs": [],
   "source": [
    "for line in f35:\n",
    "   f1.write(line)"
   ]
  },
  {
   "cell_type": "code",
   "execution_count": 23,
   "metadata": {},
   "outputs": [],
   "source": [
    "f1.close()"
   ]
  },
  {
   "cell_type": "code",
   "execution_count": 1,
   "metadata": {},
   "outputs": [],
   "source": [
    "a1 = open(r'C:\\Users\\dharu\\Documents\\Studies\\Q7\\DS672\\Data\\Detailed_Statistics_Arrivals_Combined.csv','a')"
   ]
  },
  {
   "cell_type": "code",
   "execution_count": 2,
   "metadata": {},
   "outputs": [],
   "source": [
    "a3 = open(r'C:\\Users\\dharu\\Documents\\Studies\\Q7\\DS672\\Data\\Vallab_Arrival_Data_Combined.csv','r')"
   ]
  },
  {
   "cell_type": "code",
   "execution_count": 3,
   "metadata": {},
   "outputs": [],
   "source": [
    "for line in a3:\n",
    "   a1.write(line)"
   ]
  },
  {
   "cell_type": "code",
   "execution_count": 4,
   "metadata": {},
   "outputs": [],
   "source": [
    "a1.close()"
   ]
  },
  {
   "cell_type": "code",
   "execution_count": 5,
   "metadata": {},
   "outputs": [],
   "source": [
    "a3.close()"
   ]
  },
  {
   "cell_type": "code",
   "execution_count": null,
   "metadata": {},
   "outputs": [],
   "source": []
  }
 ],
 "metadata": {
  "kernelspec": {
   "display_name": "Python 3",
   "language": "python",
   "name": "python3"
  },
  "language_info": {
   "codemirror_mode": {
    "name": "ipython",
    "version": 3
   },
   "file_extension": ".py",
   "mimetype": "text/x-python",
   "name": "python",
   "nbconvert_exporter": "python",
   "pygments_lexer": "ipython3",
   "version": "3.7.4"
  }
 },
 "nbformat": 4,
 "nbformat_minor": 2
}
