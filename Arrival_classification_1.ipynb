{
 "cells": [
  {
   "cell_type": "code",
   "execution_count": 1,
   "metadata": {},
   "outputs": [],
   "source": [
    "\n",
    "import pandas as pd\n",
    "import numpy as np\n",
    "import matplotlib.pyplot as plt\n",
    "import seaborn as sns\n",
    "import statsmodels.api as sm\n",
    "\n",
    "import sklearn\n",
    "sklearn.__version__\n",
    "\n",
    "from sklearn.model_selection import StratifiedKFold\n",
    "from sklearn.model_selection import train_test_split\n",
    "from sklearn import metrics\n",
    "from sklearn.model_selection import RandomizedSearchCV\n",
    "from sklearn.model_selection import GridSearchCV\n",
    "\n",
    "from sklearn.linear_model import LogisticRegression\n",
    "from sklearn.linear_model import LinearRegression\n",
    "from sklearn.linear_model import Lasso\n",
    "from sklearn import metrics\n",
    "from sklearn.metrics import r2_score\n",
    "import math\n",
    "from sklearn.decomposition import PCA\n",
    "from sklearn.metrics import mean_squared_error\n",
    "from sklearn.svm import SVC\n",
    "from sklearn.svm import SVR"
   ]
  },
  {
   "cell_type": "code",
   "execution_count": 2,
   "metadata": {},
   "outputs": [
    {
     "data": {
      "text/html": [
       "<div>\n",
       "<style scoped>\n",
       "    .dataframe tbody tr th:only-of-type {\n",
       "        vertical-align: middle;\n",
       "    }\n",
       "\n",
       "    .dataframe tbody tr th {\n",
       "        vertical-align: top;\n",
       "    }\n",
       "\n",
       "    .dataframe thead th {\n",
       "        text-align: right;\n",
       "    }\n",
       "</style>\n",
       "<table border=\"1\" class=\"dataframe\">\n",
       "  <thead>\n",
       "    <tr style=\"text-align: right;\">\n",
       "      <th></th>\n",
       "      <th>Unnamed: 0</th>\n",
       "      <th>V1</th>\n",
       "      <th>CarrierCode</th>\n",
       "      <th>date</th>\n",
       "      <th>FlightNumber</th>\n",
       "      <th>TailNumber</th>\n",
       "      <th>OriginAirport</th>\n",
       "      <th>ScheduledArrivalTime</th>\n",
       "      <th>ActualArrivalTime</th>\n",
       "      <th>ScheduledElapsedTimeMinutes</th>\n",
       "      <th>...</th>\n",
       "      <th>WindChillC</th>\n",
       "      <th>WindGustKmph</th>\n",
       "      <th>cloudcover</th>\n",
       "      <th>humidity</th>\n",
       "      <th>precipMM</th>\n",
       "      <th>pressure</th>\n",
       "      <th>tempC</th>\n",
       "      <th>visibility</th>\n",
       "      <th>winddirDegree</th>\n",
       "      <th>windspeedKmph</th>\n",
       "    </tr>\n",
       "  </thead>\n",
       "  <tbody>\n",
       "    <tr>\n",
       "      <th>0</th>\n",
       "      <td>0</td>\n",
       "      <td>9</td>\n",
       "      <td>AA</td>\n",
       "      <td>2016-01-01</td>\n",
       "      <td>1116</td>\n",
       "      <td>N005AA</td>\n",
       "      <td>LAX</td>\n",
       "      <td>6:13:00</td>\n",
       "      <td>5:57:00</td>\n",
       "      <td>253</td>\n",
       "      <td>...</td>\n",
       "      <td>0</td>\n",
       "      <td>15</td>\n",
       "      <td>22</td>\n",
       "      <td>87</td>\n",
       "      <td>0.0</td>\n",
       "      <td>1023</td>\n",
       "      <td>3</td>\n",
       "      <td>10</td>\n",
       "      <td>317</td>\n",
       "      <td>11</td>\n",
       "    </tr>\n",
       "    <tr>\n",
       "      <th>1</th>\n",
       "      <td>1</td>\n",
       "      <td>57876</td>\n",
       "      <td>DL</td>\n",
       "      <td>2016-01-01</td>\n",
       "      <td>1098</td>\n",
       "      <td>N127DL</td>\n",
       "      <td>SFO</td>\n",
       "      <td>6:20:00</td>\n",
       "      <td>6:11:00</td>\n",
       "      <td>265</td>\n",
       "      <td>...</td>\n",
       "      <td>0</td>\n",
       "      <td>15</td>\n",
       "      <td>22</td>\n",
       "      <td>87</td>\n",
       "      <td>0.0</td>\n",
       "      <td>1023</td>\n",
       "      <td>3</td>\n",
       "      <td>10</td>\n",
       "      <td>317</td>\n",
       "      <td>11</td>\n",
       "    </tr>\n",
       "    <tr>\n",
       "      <th>2</th>\n",
       "      <td>2</td>\n",
       "      <td>57917</td>\n",
       "      <td>DL</td>\n",
       "      <td>2016-01-01</td>\n",
       "      <td>1254</td>\n",
       "      <td>N551NW</td>\n",
       "      <td>LAX</td>\n",
       "      <td>6:00:00</td>\n",
       "      <td>5:47:00</td>\n",
       "      <td>245</td>\n",
       "      <td>...</td>\n",
       "      <td>0</td>\n",
       "      <td>15</td>\n",
       "      <td>22</td>\n",
       "      <td>87</td>\n",
       "      <td>0.0</td>\n",
       "      <td>1023</td>\n",
       "      <td>3</td>\n",
       "      <td>10</td>\n",
       "      <td>317</td>\n",
       "      <td>11</td>\n",
       "    </tr>\n",
       "    <tr>\n",
       "      <th>3</th>\n",
       "      <td>3</td>\n",
       "      <td>57943</td>\n",
       "      <td>DL</td>\n",
       "      <td>2016-01-01</td>\n",
       "      <td>1354</td>\n",
       "      <td>N1611B</td>\n",
       "      <td>LAX</td>\n",
       "      <td>6:54:00</td>\n",
       "      <td>6:41:00</td>\n",
       "      <td>244</td>\n",
       "      <td>...</td>\n",
       "      <td>0</td>\n",
       "      <td>15</td>\n",
       "      <td>22</td>\n",
       "      <td>87</td>\n",
       "      <td>0.0</td>\n",
       "      <td>1023</td>\n",
       "      <td>3</td>\n",
       "      <td>10</td>\n",
       "      <td>317</td>\n",
       "      <td>11</td>\n",
       "    </tr>\n",
       "    <tr>\n",
       "      <th>4</th>\n",
       "      <td>4</td>\n",
       "      <td>1106367</td>\n",
       "      <td>NK</td>\n",
       "      <td>2016-01-01</td>\n",
       "      <td>806</td>\n",
       "      <td>N506NK</td>\n",
       "      <td>LAS</td>\n",
       "      <td>6:20:00</td>\n",
       "      <td>6:19:00</td>\n",
       "      <td>230</td>\n",
       "      <td>...</td>\n",
       "      <td>0</td>\n",
       "      <td>15</td>\n",
       "      <td>22</td>\n",
       "      <td>87</td>\n",
       "      <td>0.0</td>\n",
       "      <td>1023</td>\n",
       "      <td>3</td>\n",
       "      <td>10</td>\n",
       "      <td>317</td>\n",
       "      <td>11</td>\n",
       "    </tr>\n",
       "  </tbody>\n",
       "</table>\n",
       "<p>5 rows × 45 columns</p>\n",
       "</div>"
      ],
      "text/plain": [
       "   Unnamed: 0       V1 CarrierCode        date  FlightNumber TailNumber  \\\n",
       "0           0        9          AA  2016-01-01          1116     N005AA   \n",
       "1           1    57876          DL  2016-01-01          1098     N127DL   \n",
       "2           2    57917          DL  2016-01-01          1254     N551NW   \n",
       "3           3    57943          DL  2016-01-01          1354     N1611B   \n",
       "4           4  1106367          NK  2016-01-01           806     N506NK   \n",
       "\n",
       "  OriginAirport ScheduledArrivalTime ActualArrivalTime  \\\n",
       "0           LAX              6:13:00           5:57:00   \n",
       "1           SFO              6:20:00           6:11:00   \n",
       "2           LAX              6:00:00           5:47:00   \n",
       "3           LAX              6:54:00           6:41:00   \n",
       "4           LAS              6:20:00           6:19:00   \n",
       "\n",
       "   ScheduledElapsedTimeMinutes  ...  WindChillC  WindGustKmph cloudcover  \\\n",
       "0                          253  ...           0            15         22   \n",
       "1                          265  ...           0            15         22   \n",
       "2                          245  ...           0            15         22   \n",
       "3                          244  ...           0            15         22   \n",
       "4                          230  ...           0            15         22   \n",
       "\n",
       "   humidity  precipMM  pressure  tempC  visibility  winddirDegree  \\\n",
       "0        87       0.0      1023      3          10            317   \n",
       "1        87       0.0      1023      3          10            317   \n",
       "2        87       0.0      1023      3          10            317   \n",
       "3        87       0.0      1023      3          10            317   \n",
       "4        87       0.0      1023      3          10            317   \n",
       "\n",
       "  windspeedKmph  \n",
       "0            11  \n",
       "1            11  \n",
       "2            11  \n",
       "3            11  \n",
       "4            11  \n",
       "\n",
       "[5 rows x 45 columns]"
      ]
     },
     "execution_count": 2,
     "metadata": {},
     "output_type": "execute_result"
    }
   ],
   "source": [
    "arr = pd.read_csv(\"arrival_merged.csv\", delimiter = ',')\n",
    "arr.head(5)"
   ]
  },
  {
   "cell_type": "code",
   "execution_count": 3,
   "metadata": {},
   "outputs": [
    {
     "data": {
      "text/plain": [
       "(1288202, 44)"
      ]
     },
     "execution_count": 3,
     "metadata": {},
     "output_type": "execute_result"
    }
   ],
   "source": [
    "arr.drop(\"Unnamed: 0\", axis=1, inplace=True)\n",
    "arr.shape"
   ]
  },
  {
   "cell_type": "code",
   "execution_count": 4,
   "metadata": {},
   "outputs": [
    {
     "name": "stdout",
     "output_type": "stream",
     "text": [
      "<class 'pandas.core.frame.DataFrame'>\n",
      "RangeIndex: 1288202 entries, 0 to 1288201\n",
      "Data columns (total 44 columns):\n",
      " #   Column                              Non-Null Count    Dtype  \n",
      "---  ------                              --------------    -----  \n",
      " 0   V1                                  1288202 non-null  int64  \n",
      " 1   CarrierCode                         1288202 non-null  object \n",
      " 2   date                                1288202 non-null  object \n",
      " 3   FlightNumber                        1288202 non-null  int64  \n",
      " 4   TailNumber                          1288202 non-null  object \n",
      " 5   OriginAirport                       1288202 non-null  object \n",
      " 6   ScheduledArrivalTime                1288202 non-null  object \n",
      " 7   ActualArrivalTime                   1288202 non-null  object \n",
      " 8   ScheduledElapsedTimeMinutes         1288202 non-null  int64  \n",
      " 9   ActualElapsedTimeMinutes            1288202 non-null  int64  \n",
      " 10  ArrivalDelayMinutes                 1288202 non-null  int64  \n",
      " 11  WheelsonTime                        1288202 non-null  object \n",
      " 12  TaxiIntimeMinutes                   1288202 non-null  int64  \n",
      " 13  DelayCarrierMinutes                 1288202 non-null  int64  \n",
      " 14  DelayWeatherMinutes                 1288202 non-null  int64  \n",
      " 15  DelayNationalAviationSystemMinutes  1288202 non-null  int64  \n",
      " 16  DelaySecurityMinutes                1288202 non-null  int64  \n",
      " 17  DelayLateAircraftArrivalMinutes     1288202 non-null  int64  \n",
      " 18  ArrivalAirport                      1288202 non-null  object \n",
      " 19  time                                1288202 non-null  int64  \n",
      " 20  city                                1288202 non-null  int64  \n",
      " 21  maxtempC                            1288202 non-null  int64  \n",
      " 22  mintempC                            1288202 non-null  int64  \n",
      " 23  totalSnow_cm                        1288202 non-null  float64\n",
      " 24  sunHour                             1288202 non-null  float64\n",
      " 25  uvIndex                             1288202 non-null  int64  \n",
      " 26  moon_illumination                   1288202 non-null  int64  \n",
      " 27  moonrise                            1288202 non-null  object \n",
      " 28  moonset                             1288202 non-null  object \n",
      " 29  sunrise                             1288202 non-null  object \n",
      " 30  sunset                              1288202 non-null  object \n",
      " 31  DewPointC                           1288202 non-null  int64  \n",
      " 32  FeelsLikeC                          1288202 non-null  int64  \n",
      " 33  HeatIndexC                          1288202 non-null  int64  \n",
      " 34  WindChillC                          1288202 non-null  int64  \n",
      " 35  WindGustKmph                        1288202 non-null  int64  \n",
      " 36  cloudcover                          1288202 non-null  int64  \n",
      " 37  humidity                            1288202 non-null  int64  \n",
      " 38  precipMM                            1288202 non-null  float64\n",
      " 39  pressure                            1288202 non-null  int64  \n",
      " 40  tempC                               1288202 non-null  int64  \n",
      " 41  visibility                          1288202 non-null  int64  \n",
      " 42  winddirDegree                       1288202 non-null  int64  \n",
      " 43  windspeedKmph                       1288202 non-null  int64  \n",
      "dtypes: float64(3), int64(29), object(12)\n",
      "memory usage: 432.4+ MB\n"
     ]
    }
   ],
   "source": [
    "arr.info()"
   ]
  },
  {
   "cell_type": "code",
   "execution_count": 5,
   "metadata": {},
   "outputs": [
    {
     "name": "stdout",
     "output_type": "stream",
     "text": [
      "Number of canceled flights:  8842\n",
      "\n",
      "\n",
      "Shape of non_canceled data:  (1279360, 44)\n"
     ]
    }
   ],
   "source": [
    "# Finding and extracting the canceled flights\n",
    "canceled_data = arr[arr['TailNumber']==' ']\n",
    "print(\"Number of canceled flights: \", canceled_data.shape[0])\n",
    "\n",
    "arr_non_canceled = arr[arr['TailNumber']!=' ']  # Extracting non-canceled flights\n",
    "print(\"\\n\")\n",
    "print(\"Shape of non_canceled data: \", arr_non_canceled.shape)"
   ]
  },
  {
   "cell_type": "code",
   "execution_count": 6,
   "metadata": {},
   "outputs": [
    {
     "name": "stderr",
     "output_type": "stream",
     "text": [
      "/opt/anaconda3/lib/python3.8/site-packages/pandas/core/frame.py:3990: SettingWithCopyWarning: \n",
      "A value is trying to be set on a copy of a slice from a DataFrame\n",
      "\n",
      "See the caveats in the documentation: https://pandas.pydata.org/pandas-docs/stable/user_guide/indexing.html#returning-a-view-versus-a-copy\n",
      "  return super().drop(\n"
     ]
    }
   ],
   "source": [
    "arr_non_canceled.drop(['V1','date', 'ScheduledArrivalTime', 'ActualArrivalTime', 'ScheduledElapsedTimeMinutes', 'ActualElapsedTimeMinutes', 'WheelsonTime', 'moonrise', 'moonset','sunrise','sunset'], axis = 1, inplace=True)\n"
   ]
  },
  {
   "cell_type": "code",
   "execution_count": 7,
   "metadata": {},
   "outputs": [
    {
     "name": "stderr",
     "output_type": "stream",
     "text": [
      "/opt/anaconda3/lib/python3.8/site-packages/pandas/core/generic.py:5303: SettingWithCopyWarning: \n",
      "A value is trying to be set on a copy of a slice from a DataFrame.\n",
      "Try using .loc[row_indexer,col_indexer] = value instead\n",
      "\n",
      "See the caveats in the documentation: https://pandas.pydata.org/pandas-docs/stable/user_guide/indexing.html#returning-a-view-versus-a-copy\n",
      "  self[name] = value\n",
      "<ipython-input-7-f1648e9b670c>:2: SettingWithCopyWarning: \n",
      "A value is trying to be set on a copy of a slice from a DataFrame.\n",
      "Try using .loc[row_indexer,col_indexer] = value instead\n",
      "\n",
      "See the caveats in the documentation: https://pandas.pydata.org/pandas-docs/stable/user_guide/indexing.html#returning-a-view-versus-a-copy\n",
      "  arr_non_canceled['ArrivalAirport_code'] = arr_non_canceled.ArrivalAirport.cat.codes\n"
     ]
    }
   ],
   "source": [
    "arr_non_canceled.ArrivalAirport = pd.Categorical(arr_non_canceled.ArrivalAirport)\n",
    "arr_non_canceled['ArrivalAirport_code'] = arr_non_canceled.ArrivalAirport.cat.codes"
   ]
  },
  {
   "cell_type": "code",
   "execution_count": 8,
   "metadata": {},
   "outputs": [
    {
     "name": "stderr",
     "output_type": "stream",
     "text": [
      "<ipython-input-8-b779480dc607>:2: SettingWithCopyWarning: \n",
      "A value is trying to be set on a copy of a slice from a DataFrame.\n",
      "Try using .loc[row_indexer,col_indexer] = value instead\n",
      "\n",
      "See the caveats in the documentation: https://pandas.pydata.org/pandas-docs/stable/user_guide/indexing.html#returning-a-view-versus-a-copy\n",
      "  arr_non_canceled['CarrierCode_code'] = arr_non_canceled.CarrierCode.cat.codes\n"
     ]
    }
   ],
   "source": [
    "arr_non_canceled.CarrierCode = pd.Categorical(arr_non_canceled.CarrierCode)\n",
    "arr_non_canceled['CarrierCode_code'] = arr_non_canceled.CarrierCode.cat.codes"
   ]
  },
  {
   "cell_type": "code",
   "execution_count": 9,
   "metadata": {},
   "outputs": [
    {
     "name": "stderr",
     "output_type": "stream",
     "text": [
      "<ipython-input-9-f6772c07b9d4>:2: SettingWithCopyWarning: \n",
      "A value is trying to be set on a copy of a slice from a DataFrame.\n",
      "Try using .loc[row_indexer,col_indexer] = value instead\n",
      "\n",
      "See the caveats in the documentation: https://pandas.pydata.org/pandas-docs/stable/user_guide/indexing.html#returning-a-view-versus-a-copy\n",
      "  arr_non_canceled['OriginAirport_code'] = arr_non_canceled.OriginAirport.cat.codes\n"
     ]
    }
   ],
   "source": [
    "arr_non_canceled.OriginAirport = pd.Categorical(arr_non_canceled.OriginAirport)\n",
    "arr_non_canceled['OriginAirport_code'] = arr_non_canceled.OriginAirport.cat.codes"
   ]
  },
  {
   "cell_type": "code",
   "execution_count": 10,
   "metadata": {},
   "outputs": [],
   "source": [
    "arr_non_canceled.drop(['ArrivalAirport', 'CarrierCode', 'OriginAirport', 'TailNumber'], axis=1, inplace=True)"
   ]
  },
  {
   "cell_type": "code",
   "execution_count": 11,
   "metadata": {},
   "outputs": [
    {
     "name": "stdout",
     "output_type": "stream",
     "text": [
      "<class 'pandas.core.frame.DataFrame'>\n",
      "Int64Index: 1279360 entries, 0 to 1288201\n",
      "Data columns (total 32 columns):\n",
      " #   Column                              Non-Null Count    Dtype  \n",
      "---  ------                              --------------    -----  \n",
      " 0   FlightNumber                        1279360 non-null  int64  \n",
      " 1   ArrivalDelayMinutes                 1279360 non-null  int64  \n",
      " 2   TaxiIntimeMinutes                   1279360 non-null  int64  \n",
      " 3   DelayCarrierMinutes                 1279360 non-null  int64  \n",
      " 4   DelayWeatherMinutes                 1279360 non-null  int64  \n",
      " 5   DelayNationalAviationSystemMinutes  1279360 non-null  int64  \n",
      " 6   DelaySecurityMinutes                1279360 non-null  int64  \n",
      " 7   DelayLateAircraftArrivalMinutes     1279360 non-null  int64  \n",
      " 8   time                                1279360 non-null  int64  \n",
      " 9   city                                1279360 non-null  int64  \n",
      " 10  maxtempC                            1279360 non-null  int64  \n",
      " 11  mintempC                            1279360 non-null  int64  \n",
      " 12  totalSnow_cm                        1279360 non-null  float64\n",
      " 13  sunHour                             1279360 non-null  float64\n",
      " 14  uvIndex                             1279360 non-null  int64  \n",
      " 15  moon_illumination                   1279360 non-null  int64  \n",
      " 16  DewPointC                           1279360 non-null  int64  \n",
      " 17  FeelsLikeC                          1279360 non-null  int64  \n",
      " 18  HeatIndexC                          1279360 non-null  int64  \n",
      " 19  WindChillC                          1279360 non-null  int64  \n",
      " 20  WindGustKmph                        1279360 non-null  int64  \n",
      " 21  cloudcover                          1279360 non-null  int64  \n",
      " 22  humidity                            1279360 non-null  int64  \n",
      " 23  precipMM                            1279360 non-null  float64\n",
      " 24  pressure                            1279360 non-null  int64  \n",
      " 25  tempC                               1279360 non-null  int64  \n",
      " 26  visibility                          1279360 non-null  int64  \n",
      " 27  winddirDegree                       1279360 non-null  int64  \n",
      " 28  windspeedKmph                       1279360 non-null  int64  \n",
      " 29  ArrivalAirport_code                 1279360 non-null  int8   \n",
      " 30  CarrierCode_code                    1279360 non-null  int8   \n",
      " 31  OriginAirport_code                  1279360 non-null  int8   \n",
      "dtypes: float64(3), int64(26), int8(3)\n",
      "memory usage: 296.5 MB\n"
     ]
    }
   ],
   "source": [
    "arr_non_canceled.info()"
   ]
  },
  {
   "cell_type": "code",
   "execution_count": 12,
   "metadata": {},
   "outputs": [],
   "source": [
    "arr_airline = arr_non_canceled.iloc[:, 0:10]"
   ]
  },
  {
   "cell_type": "code",
   "execution_count": 13,
   "metadata": {},
   "outputs": [],
   "source": [
    "arr_airline['ArrivalAirport_code'] = arr_non_canceled['ArrivalAirport_code']\n",
    "arr_airline['CarrierCode_code'] = arr_non_canceled['CarrierCode_code']\n",
    "arr_airline['OriginAirport_code'] = arr_non_canceled['OriginAirport_code']"
   ]
  },
  {
   "cell_type": "code",
   "execution_count": 14,
   "metadata": {},
   "outputs": [
    {
     "data": {
      "text/plain": [
       "(1279360, 13)"
      ]
     },
     "execution_count": 14,
     "metadata": {},
     "output_type": "execute_result"
    }
   ],
   "source": [
    "arr_airline.shape"
   ]
  },
  {
   "cell_type": "code",
   "execution_count": 15,
   "metadata": {},
   "outputs": [
    {
     "data": {
      "text/html": [
       "<div>\n",
       "<style scoped>\n",
       "    .dataframe tbody tr th:only-of-type {\n",
       "        vertical-align: middle;\n",
       "    }\n",
       "\n",
       "    .dataframe tbody tr th {\n",
       "        vertical-align: top;\n",
       "    }\n",
       "\n",
       "    .dataframe thead th {\n",
       "        text-align: right;\n",
       "    }\n",
       "</style>\n",
       "<table border=\"1\" class=\"dataframe\">\n",
       "  <thead>\n",
       "    <tr style=\"text-align: right;\">\n",
       "      <th></th>\n",
       "      <th>FlightNumber</th>\n",
       "      <th>ArrivalDelayMinutes</th>\n",
       "      <th>TaxiIntimeMinutes</th>\n",
       "      <th>DelayCarrierMinutes</th>\n",
       "      <th>DelayWeatherMinutes</th>\n",
       "      <th>DelayNationalAviationSystemMinutes</th>\n",
       "      <th>DelaySecurityMinutes</th>\n",
       "      <th>DelayLateAircraftArrivalMinutes</th>\n",
       "      <th>time</th>\n",
       "      <th>city</th>\n",
       "      <th>ArrivalAirport_code</th>\n",
       "      <th>CarrierCode_code</th>\n",
       "      <th>OriginAirport_code</th>\n",
       "    </tr>\n",
       "  </thead>\n",
       "  <tbody>\n",
       "    <tr>\n",
       "      <th>0</th>\n",
       "      <td>1116</td>\n",
       "      <td>-16</td>\n",
       "      <td>9</td>\n",
       "      <td>0</td>\n",
       "      <td>0</td>\n",
       "      <td>0</td>\n",
       "      <td>0</td>\n",
       "      <td>0</td>\n",
       "      <td>6</td>\n",
       "      <td>30320</td>\n",
       "      <td>0</td>\n",
       "      <td>0</td>\n",
       "      <td>5</td>\n",
       "    </tr>\n",
       "    <tr>\n",
       "      <th>1</th>\n",
       "      <td>1098</td>\n",
       "      <td>-9</td>\n",
       "      <td>8</td>\n",
       "      <td>0</td>\n",
       "      <td>0</td>\n",
       "      <td>0</td>\n",
       "      <td>0</td>\n",
       "      <td>0</td>\n",
       "      <td>6</td>\n",
       "      <td>30320</td>\n",
       "      <td>0</td>\n",
       "      <td>2</td>\n",
       "      <td>9</td>\n",
       "    </tr>\n",
       "    <tr>\n",
       "      <th>2</th>\n",
       "      <td>1254</td>\n",
       "      <td>-13</td>\n",
       "      <td>5</td>\n",
       "      <td>0</td>\n",
       "      <td>0</td>\n",
       "      <td>0</td>\n",
       "      <td>0</td>\n",
       "      <td>0</td>\n",
       "      <td>6</td>\n",
       "      <td>30320</td>\n",
       "      <td>0</td>\n",
       "      <td>2</td>\n",
       "      <td>5</td>\n",
       "    </tr>\n",
       "    <tr>\n",
       "      <th>3</th>\n",
       "      <td>1354</td>\n",
       "      <td>-13</td>\n",
       "      <td>6</td>\n",
       "      <td>0</td>\n",
       "      <td>0</td>\n",
       "      <td>0</td>\n",
       "      <td>0</td>\n",
       "      <td>0</td>\n",
       "      <td>6</td>\n",
       "      <td>30320</td>\n",
       "      <td>0</td>\n",
       "      <td>2</td>\n",
       "      <td>5</td>\n",
       "    </tr>\n",
       "    <tr>\n",
       "      <th>4</th>\n",
       "      <td>806</td>\n",
       "      <td>-1</td>\n",
       "      <td>32</td>\n",
       "      <td>0</td>\n",
       "      <td>0</td>\n",
       "      <td>0</td>\n",
       "      <td>0</td>\n",
       "      <td>0</td>\n",
       "      <td>6</td>\n",
       "      <td>30320</td>\n",
       "      <td>0</td>\n",
       "      <td>3</td>\n",
       "      <td>4</td>\n",
       "    </tr>\n",
       "  </tbody>\n",
       "</table>\n",
       "</div>"
      ],
      "text/plain": [
       "   FlightNumber  ArrivalDelayMinutes  TaxiIntimeMinutes  DelayCarrierMinutes  \\\n",
       "0          1116                  -16                  9                    0   \n",
       "1          1098                   -9                  8                    0   \n",
       "2          1254                  -13                  5                    0   \n",
       "3          1354                  -13                  6                    0   \n",
       "4           806                   -1                 32                    0   \n",
       "\n",
       "   DelayWeatherMinutes  DelayNationalAviationSystemMinutes  \\\n",
       "0                    0                                   0   \n",
       "1                    0                                   0   \n",
       "2                    0                                   0   \n",
       "3                    0                                   0   \n",
       "4                    0                                   0   \n",
       "\n",
       "   DelaySecurityMinutes  DelayLateAircraftArrivalMinutes  time   city  \\\n",
       "0                     0                                0     6  30320   \n",
       "1                     0                                0     6  30320   \n",
       "2                     0                                0     6  30320   \n",
       "3                     0                                0     6  30320   \n",
       "4                     0                                0     6  30320   \n",
       "\n",
       "   ArrivalAirport_code  CarrierCode_code  OriginAirport_code  \n",
       "0                    0                 0                   5  \n",
       "1                    0                 2                   9  \n",
       "2                    0                 2                   5  \n",
       "3                    0                 2                   5  \n",
       "4                    0                 3                   4  "
      ]
     },
     "execution_count": 15,
     "metadata": {},
     "output_type": "execute_result"
    }
   ],
   "source": [
    "arr_airline.head(5)"
   ]
  },
  {
   "cell_type": "code",
   "execution_count": 16,
   "metadata": {},
   "outputs": [],
   "source": [
    "target = arr_airline['ArrivalDelayMinutes']\n",
    "arr_airline.drop('ArrivalDelayMinutes', axis=1, inplace=True)"
   ]
  },
  {
   "cell_type": "code",
   "execution_count": 17,
   "metadata": {},
   "outputs": [
    {
     "name": "stderr",
     "output_type": "stream",
     "text": [
      "<ipython-input-17-4e5993a2f2c1>:1: SettingWithCopyWarning: \n",
      "A value is trying to be set on a copy of a slice from a DataFrame\n",
      "\n",
      "See the caveats in the documentation: https://pandas.pydata.org/pandas-docs/stable/user_guide/indexing.html#returning-a-view-versus-a-copy\n",
      "  target[target < 15]= 0\n",
      "<ipython-input-17-4e5993a2f2c1>:2: SettingWithCopyWarning: \n",
      "A value is trying to be set on a copy of a slice from a DataFrame\n",
      "\n",
      "See the caveats in the documentation: https://pandas.pydata.org/pandas-docs/stable/user_guide/indexing.html#returning-a-view-versus-a-copy\n",
      "  target[target >= 15]= 1\n"
     ]
    },
    {
     "data": {
      "text/plain": [
       "0    1044636\n",
       "1     234724\n",
       "Name: ArrivalDelayMinutes, dtype: int64"
      ]
     },
     "execution_count": 17,
     "metadata": {},
     "output_type": "execute_result"
    }
   ],
   "source": [
    "target[target < 15]= 0\n",
    "target[target >= 15]= 1\n",
    "target.value_counts()"
   ]
  },
  {
   "cell_type": "code",
   "execution_count": 18,
   "metadata": {},
   "outputs": [
    {
     "data": {
      "text/html": [
       "<div>\n",
       "<style scoped>\n",
       "    .dataframe tbody tr th:only-of-type {\n",
       "        vertical-align: middle;\n",
       "    }\n",
       "\n",
       "    .dataframe tbody tr th {\n",
       "        vertical-align: top;\n",
       "    }\n",
       "\n",
       "    .dataframe thead th {\n",
       "        text-align: right;\n",
       "    }\n",
       "</style>\n",
       "<table border=\"1\" class=\"dataframe\">\n",
       "  <thead>\n",
       "    <tr style=\"text-align: right;\">\n",
       "      <th></th>\n",
       "      <th>TaxiIntimeMinutes</th>\n",
       "      <th>DelayCarrierMinutes</th>\n",
       "      <th>DelayWeatherMinutes</th>\n",
       "      <th>DelayNationalAviationSystemMinutes</th>\n",
       "      <th>DelaySecurityMinutes</th>\n",
       "      <th>DelayLateAircraftArrivalMinutes</th>\n",
       "      <th>time</th>\n",
       "      <th>ArrivalAirport_code</th>\n",
       "      <th>CarrierCode_code</th>\n",
       "      <th>OriginAirport_code</th>\n",
       "      <th>ArrivalDelayMinutes</th>\n",
       "    </tr>\n",
       "  </thead>\n",
       "  <tbody>\n",
       "    <tr>\n",
       "      <th>0</th>\n",
       "      <td>9</td>\n",
       "      <td>0</td>\n",
       "      <td>0</td>\n",
       "      <td>0</td>\n",
       "      <td>0</td>\n",
       "      <td>0</td>\n",
       "      <td>6</td>\n",
       "      <td>0</td>\n",
       "      <td>0</td>\n",
       "      <td>5</td>\n",
       "      <td>0</td>\n",
       "    </tr>\n",
       "    <tr>\n",
       "      <th>1</th>\n",
       "      <td>8</td>\n",
       "      <td>0</td>\n",
       "      <td>0</td>\n",
       "      <td>0</td>\n",
       "      <td>0</td>\n",
       "      <td>0</td>\n",
       "      <td>6</td>\n",
       "      <td>0</td>\n",
       "      <td>2</td>\n",
       "      <td>9</td>\n",
       "      <td>0</td>\n",
       "    </tr>\n",
       "    <tr>\n",
       "      <th>2</th>\n",
       "      <td>5</td>\n",
       "      <td>0</td>\n",
       "      <td>0</td>\n",
       "      <td>0</td>\n",
       "      <td>0</td>\n",
       "      <td>0</td>\n",
       "      <td>6</td>\n",
       "      <td>0</td>\n",
       "      <td>2</td>\n",
       "      <td>5</td>\n",
       "      <td>0</td>\n",
       "    </tr>\n",
       "    <tr>\n",
       "      <th>3</th>\n",
       "      <td>6</td>\n",
       "      <td>0</td>\n",
       "      <td>0</td>\n",
       "      <td>0</td>\n",
       "      <td>0</td>\n",
       "      <td>0</td>\n",
       "      <td>6</td>\n",
       "      <td>0</td>\n",
       "      <td>2</td>\n",
       "      <td>5</td>\n",
       "      <td>0</td>\n",
       "    </tr>\n",
       "    <tr>\n",
       "      <th>4</th>\n",
       "      <td>32</td>\n",
       "      <td>0</td>\n",
       "      <td>0</td>\n",
       "      <td>0</td>\n",
       "      <td>0</td>\n",
       "      <td>0</td>\n",
       "      <td>6</td>\n",
       "      <td>0</td>\n",
       "      <td>3</td>\n",
       "      <td>4</td>\n",
       "      <td>0</td>\n",
       "    </tr>\n",
       "  </tbody>\n",
       "</table>\n",
       "</div>"
      ],
      "text/plain": [
       "   TaxiIntimeMinutes  DelayCarrierMinutes  DelayWeatherMinutes  \\\n",
       "0                  9                    0                    0   \n",
       "1                  8                    0                    0   \n",
       "2                  5                    0                    0   \n",
       "3                  6                    0                    0   \n",
       "4                 32                    0                    0   \n",
       "\n",
       "   DelayNationalAviationSystemMinutes  DelaySecurityMinutes  \\\n",
       "0                                   0                     0   \n",
       "1                                   0                     0   \n",
       "2                                   0                     0   \n",
       "3                                   0                     0   \n",
       "4                                   0                     0   \n",
       "\n",
       "   DelayLateAircraftArrivalMinutes  time  ArrivalAirport_code  \\\n",
       "0                                0     6                    0   \n",
       "1                                0     6                    0   \n",
       "2                                0     6                    0   \n",
       "3                                0     6                    0   \n",
       "4                                0     6                    0   \n",
       "\n",
       "   CarrierCode_code  OriginAirport_code  ArrivalDelayMinutes  \n",
       "0                 0                   5                    0  \n",
       "1                 2                   9                    0  \n",
       "2                 2                   5                    0  \n",
       "3                 2                   5                    0  \n",
       "4                 3                   4                    0  "
      ]
     },
     "execution_count": 18,
     "metadata": {},
     "output_type": "execute_result"
    }
   ],
   "source": [
    "arr_airline.drop(['FlightNumber', 'city'], axis=1, inplace=True)\n",
    "arr_airline.head(5)"
   ]
  },
  {
   "cell_type": "code",
   "execution_count": 19,
   "metadata": {},
   "outputs": [
    {
     "data": {
      "text/html": [
       "<div>\n",
       "<style scoped>\n",
       "    .dataframe tbody tr th:only-of-type {\n",
       "        vertical-align: middle;\n",
       "    }\n",
       "\n",
       "    .dataframe tbody tr th {\n",
       "        vertical-align: top;\n",
       "    }\n",
       "\n",
       "    .dataframe thead th {\n",
       "        text-align: right;\n",
       "    }\n",
       "</style>\n",
       "<table border=\"1\" class=\"dataframe\">\n",
       "  <thead>\n",
       "    <tr style=\"text-align: right;\">\n",
       "      <th></th>\n",
       "      <th>TaxiIntimeMinutes</th>\n",
       "      <th>DelayCarrierMinutes</th>\n",
       "      <th>DelayWeatherMinutes</th>\n",
       "      <th>DelayNationalAviationSystemMinutes</th>\n",
       "      <th>DelaySecurityMinutes</th>\n",
       "      <th>DelayLateAircraftArrivalMinutes</th>\n",
       "      <th>time</th>\n",
       "      <th>ArrivalAirport_code</th>\n",
       "      <th>CarrierCode_code</th>\n",
       "      <th>OriginAirport_code</th>\n",
       "    </tr>\n",
       "  </thead>\n",
       "  <tbody>\n",
       "    <tr>\n",
       "      <th>0</th>\n",
       "      <td>9</td>\n",
       "      <td>0</td>\n",
       "      <td>0</td>\n",
       "      <td>0</td>\n",
       "      <td>0</td>\n",
       "      <td>0</td>\n",
       "      <td>6</td>\n",
       "      <td>0</td>\n",
       "      <td>0</td>\n",
       "      <td>5</td>\n",
       "    </tr>\n",
       "    <tr>\n",
       "      <th>1</th>\n",
       "      <td>8</td>\n",
       "      <td>0</td>\n",
       "      <td>0</td>\n",
       "      <td>0</td>\n",
       "      <td>0</td>\n",
       "      <td>0</td>\n",
       "      <td>6</td>\n",
       "      <td>0</td>\n",
       "      <td>2</td>\n",
       "      <td>9</td>\n",
       "    </tr>\n",
       "    <tr>\n",
       "      <th>2</th>\n",
       "      <td>5</td>\n",
       "      <td>0</td>\n",
       "      <td>0</td>\n",
       "      <td>0</td>\n",
       "      <td>0</td>\n",
       "      <td>0</td>\n",
       "      <td>6</td>\n",
       "      <td>0</td>\n",
       "      <td>2</td>\n",
       "      <td>5</td>\n",
       "    </tr>\n",
       "    <tr>\n",
       "      <th>3</th>\n",
       "      <td>6</td>\n",
       "      <td>0</td>\n",
       "      <td>0</td>\n",
       "      <td>0</td>\n",
       "      <td>0</td>\n",
       "      <td>0</td>\n",
       "      <td>6</td>\n",
       "      <td>0</td>\n",
       "      <td>2</td>\n",
       "      <td>5</td>\n",
       "    </tr>\n",
       "    <tr>\n",
       "      <th>4</th>\n",
       "      <td>32</td>\n",
       "      <td>0</td>\n",
       "      <td>0</td>\n",
       "      <td>0</td>\n",
       "      <td>0</td>\n",
       "      <td>0</td>\n",
       "      <td>6</td>\n",
       "      <td>0</td>\n",
       "      <td>3</td>\n",
       "      <td>4</td>\n",
       "    </tr>\n",
       "  </tbody>\n",
       "</table>\n",
       "</div>"
      ],
      "text/plain": [
       "   TaxiIntimeMinutes  DelayCarrierMinutes  DelayWeatherMinutes  \\\n",
       "0                  9                    0                    0   \n",
       "1                  8                    0                    0   \n",
       "2                  5                    0                    0   \n",
       "3                  6                    0                    0   \n",
       "4                 32                    0                    0   \n",
       "\n",
       "   DelayNationalAviationSystemMinutes  DelaySecurityMinutes  \\\n",
       "0                                   0                     0   \n",
       "1                                   0                     0   \n",
       "2                                   0                     0   \n",
       "3                                   0                     0   \n",
       "4                                   0                     0   \n",
       "\n",
       "   DelayLateAircraftArrivalMinutes  time  ArrivalAirport_code  \\\n",
       "0                                0     6                    0   \n",
       "1                                0     6                    0   \n",
       "2                                0     6                    0   \n",
       "3                                0     6                    0   \n",
       "4                                0     6                    0   \n",
       "\n",
       "   CarrierCode_code  OriginAirport_code  \n",
       "0                 0                   5  \n",
       "1                 2                   9  \n",
       "2                 2                   5  \n",
       "3                 2                   5  \n",
       "4                 3                   4  "
      ]
     },
     "execution_count": 19,
     "metadata": {},
     "output_type": "execute_result"
    }
   ],
   "source": [
    "arr_airline.drop('ArrivalDelayMinutes', axis=1, inplace=True)\n",
    "arr_airline.head(5)"
   ]
  },
  {
   "cell_type": "code",
   "execution_count": 60,
   "metadata": {},
   "outputs": [],
   "source": [
    "#from sklearn.preprocessing import StandardScaler as scaler\n",
    "#data_scaled = scaler().fit_transform(arr_airline)\n",
    "\n",
    "#data_scaled = pd.DataFrame(data_scaled)\n",
    "#data_scaled.columns = arr_airline.columns"
   ]
  },
  {
   "cell_type": "code",
   "execution_count": 20,
   "metadata": {},
   "outputs": [],
   "source": [
    "\n",
    "X_train, X_val, y_train, y_val = train_test_split(arr_airline, target, test_size=0.30, random_state=1762)\n"
   ]
  },
  {
   "cell_type": "code",
   "execution_count": 21,
   "metadata": {},
   "outputs": [],
   "source": [
    "\"\"\"\n",
    "The function classification_models fit the model with the best parameters. Calculates the model accuracy score \n",
    "on both training and validation sets. Displays the confusion matrix and computes the classification report to \n",
    "measure the performance of the model on the validation set.\n",
    "\n",
    "The functions RandomForest_Hypermarameter, SVC_Hypermarameter, Decision_Tree_model_hp, AdaBoost_model_hp identifies\n",
    "the best parameters and calls the classification_models to compute the statistics. \n",
    "\n",
    "\n",
    "\"\"\"\n",
    "\n",
    "from sklearn.ensemble import RandomForestClassifier\n",
    "from sklearn.tree import DecisionTreeClassifier, plot_tree\n",
    "from sklearn.ensemble import AdaBoostClassifier\n",
    "from sklearn.ensemble import GradientBoostingClassifier\n",
    "from sklearn.naive_bayes import GaussianNB\n",
    "from sklearn import naive_bayes\n",
    "from xgboost import XGBClassifier\n",
    "from sklearn import metrics\n",
    "from sklearn.svm import SVC\n",
    "\n",
    "def classification_models(X_train, y_train, X_val, y_val, hp = False, RandomForest = False, NB = False, GBC = False, XGB = False, DT = False, AdaBoost = False):\n",
    "    \"\"\"\n",
    "Returns the model accuracy on train and validation data. Plots the confusion matrix and print classification reprt.\n",
    "      \n",
    "      Parameters:\n",
    "                  X_train (DataFrame): Train data excluding target variable (Shares)\n",
    "                  y_train (DataFrame): Target variable (Shares) of training set\n",
    "                  X_val (DataFrame): Validation data excluding target variable (Shares)\n",
    "                  y_val (DataFrame): Target variable (Shares) of validation set\n",
    "                  hp (boolean): Set true to fit model with best parameters\n",
    "                  RandomForest: Set true to fit the RandomForest model\n",
    "                  SVC_RBF:  Set true to fit the RBF kernel SVC model\n",
    "                  SVC_linear: Set true to fit the Linear kernel SVC model\n",
    "                  SVC_polynomial: Set true to fit the Polynomial kernel SVC model\n",
    "                  DT: Set true to fit the Decision tree model\n",
    "                  AdaBoost: Set true to fit the AdaBoost model\n",
    "  \"\"\"\n",
    "    if(hp == False):\n",
    "        if (RandomForest == True):\n",
    "            model = RandomForestClassifier()    # Fit default RandomForest model\n",
    "            model.fit(X_train, y_train)\n",
    "        elif (NB == True):\n",
    "            model = GaussianNB()         # Fit default Naive Bayes model\n",
    "            model.fit(X_train, y_train)\n",
    "        elif (GBC == True):\n",
    "            model = GradientBoostingClassifier()       # Fit default Gradient boosting model\n",
    "            model.fit(X_train, y_train)\n",
    "        elif (XGB == True):\n",
    "            model = XGBClassifier()        # Fit default XGB model\n",
    "            model.fit(X_train, y_train)\n",
    "        elif (DT == True):\n",
    "            model = DecisionTreeClassifier()    # Fit default Decision tree model\n",
    "            model.fit(X_train, y_train)\n",
    "        elif (AdaBoost == True):              # Fit default AdaBoost model\n",
    "            model = AdaBoostClassifier()\n",
    "            model.fit(X_train, y_train)\n",
    "\n",
    "    else:\n",
    "        if (RandomForest == True):\n",
    "            max_depth_input = int(input('Enter max_depth: '))\n",
    "            min_samples_split_input = int(input('Enter min_samples_split: '))\n",
    "      \n",
    "      # Fit the RandomForest model with best parameters\n",
    "            model = RandomForestClassifier(max_depth = max_depth_input, min_samples_split = min_samples_split_input)\n",
    "            model.fit(X_train, y_train)   \n",
    "        elif (DT == True):\n",
    "            max_depth_input = int(input('Enter max_depth: '))\n",
    "            min_samples_split_input = int(input('Enter min_samples_split: '))\n",
    "\n",
    "      # Fit the RandomForest model with best parameters\n",
    "            model = DecisionTreeClassifier(max_depth = max_depth_input, min_samples_split = min_samples_split_input)\n",
    "            model.fit(X_train, y_train)\n",
    "        elif (AdaBoost == True):\n",
    "            learning_rate_input = float(input('Enter Optimal learning rate: '))\n",
    "\n",
    "      # Fit the AdaBoost classifier with optimal learning rate\n",
    "            model = AdaBoostClassifier(n_estimators=100, learning_rate=learning_rate_input)\n",
    "            model.fit(X_train, y_train)\n",
    "        elif (GBC == True):\n",
    "            learning_rate_input = float(input('Enter Optimal learning rate: '))\n",
    "        \n",
    "        # Fit the Gradient Boosting classifier with optimal learning rate\n",
    "            model = GradientBoostingClassifier(n_estimators = 100, learning_rate=learning_rate_input)\n",
    "            model.fit(X_train, y_train)\n",
    "        elif (XGB == True):\n",
    "            max_depth_input = int(input('Enter max_depth: '))\n",
    "            learning_rate_input = float(input('Enter Optimal learning rate: '))\n",
    "        \n",
    "        # Fit XGB with optimal parameters\n",
    "            model = XGBClassifier(learning_rate = learning_rate_input, max_depth = max_depth_input)\n",
    "            model.fit(X_train, y_train)\n",
    "        \n",
    "\n",
    "    model_pred_train = model.predict(X_train)  # Predict and calculate accuracy on train data\n",
    "    print('Accuracy score of train data: ', metrics.accuracy_score(y_true = y_train, y_pred = model_pred_train))\n",
    "    print('\\n')\n",
    "\n",
    "    model_pred_test = model.predict(X_val)    # Predict and calculate accuracy on validation data\n",
    "    print('Accuracy score of test data: ', metrics.accuracy_score(y_true = y_val, y_pred = model_pred_test))\n",
    "    print('-------------------------------------------------------------------------------------------------------------------')\n",
    "\n",
    "  #Confusion matrix\n",
    "    confusion_matrix =  pd.crosstab(index=y_val, columns=model_pred_test.ravel(), rownames=['Expected'], colnames=['Predicted'])\n",
    "    sns.heatmap(confusion_matrix, annot=True, square=False, fmt='', cbar=False)\n",
    "    print(confusion_matrix)\n",
    "    plt.title(\"Confusion Matrix for test data\", fontsize = 15)\n",
    "    plt.show()\n",
    "\n",
    "  # Print classification report\n",
    "    print('Classification report of default Random forest model: ')\n",
    "    print(metrics.classification_report(y_val, model_pred_test))\n",
    "\n",
    "\n",
    "\n",
    "def RandomForest_Hypermarameter(X_train, y_train, X_val, y_val):\n",
    "    \"\"\"\n",
    "  Computes the optimal max_depth and min_samples_split and call classification_models function to perform validation\n",
    "  \n",
    "        Parameters:\n",
    "                  X_train (DataFrame): Train data excluding target variable (Shares)\n",
    "                  y_train (DataFrame): Target variable (Shares) of training set\n",
    "                  X_val (DataFrame): Validation data excluding target variable (Shares)\n",
    "                  y_val (DataFrame): Target variable (Shares) of validation set\n",
    "    \"\"\"\n",
    "    RF_hp = RandomForestClassifier()\n",
    "    parameters = {\n",
    "        'max_depth': [2,4,6,8,10],\n",
    "        'min_samples_split': [8,10,12,14,16,20]\n",
    "  }\n",
    "    GSC = GridSearchCV(RF_hp, parameters, scoring = 'precision', n_jobs = -1)\n",
    "    GSC.fit(X_train, y_train)\n",
    "    print('Best parameters of RandomForest model: ', GSC.best_params_)\n",
    "    classification_models(X_train, y_train, X_val, y_val, hp = True, RandomForest = True)\n",
    "\n",
    "\n",
    "\n",
    "def Decision_Tree_model_hp(X_train, y_train, X_val, y_val):\n",
    "    \"\"\"\n",
    "  Computes the optimal max_depth and min_samples_split and call classification_models function to perform validation\n",
    "  \n",
    "        Parameters:\n",
    "                  X_train (DataFrame): Train data excluding target variable (Shares)\n",
    "                  y_train (DataFrame): Target variable (Shares) of training set\n",
    "                  X_val (DataFrame): Validation data excluding target variable (Shares)\n",
    "                  y_val (DataFrame): Target variable (Shares) of validation set\n",
    "\n",
    "    \"\"\"\n",
    "    DT_hp = DecisionTreeClassifier()\n",
    "    parameters = {\n",
    "        'max_depth': [2,4,6,8,10],\n",
    "        'min_samples_split': [8,10,12,14,16,20]\n",
    "  }\n",
    "    GSC = GridSearchCV(DT_hp, parameters, scoring = 'precision', n_jobs = -1)\n",
    "    GSC.fit(X_train, y_train)\n",
    "    print('Best parameters of Decision Trees model: ', GSC.best_params_)\n",
    "    classification_models(X_train, y_train, X_val, y_val, hp = True, DT = True)\n",
    "\n",
    "\n",
    "def AdaBoost_model_hp(X_train, y_train, X_val, y_val):\n",
    "    \"\"\"\n",
    "  Computes the optimal learning rate and call classification_models function to perform validation\n",
    "  \n",
    "        Parameters:\n",
    "                  X_train (DataFrame): Train data excluding target variable (Shares)\n",
    "                  y_train (DataFrame): Target variable (Shares) of training set\n",
    "                  X_val (DataFrame): Validation data excluding target variable (Shares)\n",
    "                  y_val (DataFrame): Target variable (Shares) of validation set\n",
    "\n",
    "    \"\"\"\n",
    "    AB_hp = AdaBoostClassifier()\n",
    "    parameters = {\n",
    "        'learning_rate': [0.0001, 0.001, 0.01, 0.1]\n",
    "}\n",
    "    GSC = GridSearchCV(AB_hp, parameters, scoring = 'precision', n_jobs = -1)\n",
    "    GSC.fit(X_train, y_train)\n",
    "    print('Best parameters of AdaBoost model: ', GSC.best_params_)\n",
    "    classification_models(X_train, y_train, X_val, y_val, hp = True, AdaBoost = True)\n",
    "\n",
    "\n",
    "def GradientBoosting_model_hp(X_train, y_train, X_val, y_val):\n",
    "    \"\"\"\n",
    "  Computes the optimal learning rate and call classification_models function to perform validation\n",
    "  \n",
    "        Parameters:\n",
    "                  X_train (DataFrame): Train data excluding target variable (Shares)\n",
    "                  y_train (DataFrame): Target variable (Shares) of training set\n",
    "                  X_val (DataFrame): Validation data excluding target variable (Shares)\n",
    "                  y_val (DataFrame): Target variable (Shares) of validation set\n",
    "\n",
    "    \"\"\"\n",
    "    GBC_hp = GradientBoostingClassifier()\n",
    "    parameters = {\n",
    "        'learning_rate': [0.0001, 0.001, 0.01, 0.1]\n",
    "}\n",
    "    GSC = GridSearchCV(GBC_hp, parameters, scoring = 'precision', n_jobs = -1)\n",
    "    GSC.fit(X_train, y_train)\n",
    "    print('Best parameters of Gradient Boosting model: ', GSC.best_params_)\n",
    "    classification_models(X_train, y_train, X_val, y_val, hp = True, GBC = True)\n",
    "    \n",
    "\n",
    "def XGB_model_hp(X_train, y_train, X_val, y_val):\n",
    "    \"\"\"\n",
    "  Computes the optimal max_depth and learning_rate and call classification_models function to perform validation\n",
    "  \n",
    "        Parameters:\n",
    "                  X_train (DataFrame): Train data excluding target variable (Shares)\n",
    "                  y_train (DataFrame): Target variable (Shares) of training set\n",
    "                  X_val (DataFrame): Validation data excluding target variable (Shares)\n",
    "                  y_val (DataFrame): Target variable (Shares) of validation set\n",
    "\n",
    "    \"\"\"\n",
    "    xgb_hp = XGBClassifier()\n",
    "    parameters = {\n",
    "        'max_depth': [2,4,6,8,10],\n",
    "        'learning_rate': [0.0001, 0.001, 0.01, 0.1]\n",
    "  }\n",
    "    GSC = GridSearchCV(xgb_hp, parameters, scoring = 'precision', n_jobs = -1)\n",
    "    GSC.fit(X_train, y_train)\n",
    "    print('Best parameters of XBG model: ', GSC.best_params_)\n",
    "    classification_models(X_train, y_train, X_val, y_val, hp = True, XGB = True)"
   ]
  },
  {
   "cell_type": "code",
   "execution_count": 121,
   "metadata": {},
   "outputs": [
    {
     "name": "stdout",
     "output_type": "stream",
     "text": [
      "Accuracy score of train data:  1.0\n",
      "\n",
      "\n",
      "Accuracy score of test data:  1.0\n",
      "-------------------------------------------------------------------------------------------------------------------\n",
      "Predicted       0      1\n",
      "Expected                \n",
      "0          313151      0\n",
      "1               0  70657\n"
     ]
    },
    {
     "data": {
      "image/png": "[encoded data removed]",
      "text/plain": [
       "<Figure size 432x288 with 1 Axes>"
      ]
     },
     "metadata": {
      "needs_background": "light"
     },
     "output_type": "display_data"
    },
    {
     "name": "stdout",
     "output_type": "stream",
     "text": [
      "Classification report of default Random forest model: \n",
      "              precision    recall  f1-score   support\n",
      "\n",
      "           0       1.00      1.00      1.00    313151\n",
      "           1       1.00      1.00      1.00     70657\n",
      "\n",
      "    accuracy                           1.00    383808\n",
      "   macro avg       1.00      1.00      1.00    383808\n",
      "weighted avg       1.00      1.00      1.00    383808\n",
      "\n"
     ]
    }
   ],
   "source": [
    "# Initiating default Random Forest classifier\n",
    "classification_models(X_train, y_train, X_val, y_val, hp = False, RandomForest = True)\n"
   ]
  },
  {
   "cell_type": "code",
   "execution_count": 109,
   "metadata": {},
   "outputs": [
    {
     "name": "stdout",
     "output_type": "stream",
     "text": [
      "Accuracy score of train data:  0.9999843671835918\n",
      "\n",
      "\n",
      "Accuracy score of test data:  0.9999713398365849\n",
      "-------------------------------------------------------------------------------------------------------------------\n",
      "Predicted       0      1\n",
      "Expected                \n",
      "0          313140     11\n",
      "1               0  70657\n"
     ]
    },
    {
     "data": {
      "image/png": "[encoded data removed]",
      "text/plain": [
       "<Figure size 432x288 with 1 Axes>"
      ]
     },
     "metadata": {
      "needs_background": "light"
     },
     "output_type": "display_data"
    },
    {
     "name": "stdout",
     "output_type": "stream",
     "text": [
      "Classification report of default Random forest model: \n",
      "              precision    recall  f1-score   support\n",
      "\n",
      "           0       1.00      1.00      1.00    313151\n",
      "           1       1.00      1.00      1.00     70657\n",
      "\n",
      "    accuracy                           1.00    383808\n",
      "   macro avg       1.00      1.00      1.00    383808\n",
      "weighted avg       1.00      1.00      1.00    383808\n",
      "\n"
     ]
    }
   ],
   "source": [
    "# Initiating default Naive Bayes Classifier\n",
    "classification_models(X_train, y_train, X_val, y_val, hp = False, NB = True)\n"
   ]
  },
  {
   "cell_type": "code",
   "execution_count": 122,
   "metadata": {},
   "outputs": [
    {
     "name": "stdout",
     "output_type": "stream",
     "text": [
      "Accuracy score of train data:  1.0\n",
      "\n",
      "\n",
      "Accuracy score of test data:  1.0\n",
      "-------------------------------------------------------------------------------------------------------------------\n",
      "Predicted       0      1\n",
      "Expected                \n",
      "0          313151      0\n",
      "1               0  70657\n"
     ]
    },
    {
     "data": {
      "image/png": "[encoded data removed]",
      "text/plain": [
       "<Figure size 432x288 with 1 Axes>"
      ]
     },
     "metadata": {
      "needs_background": "light"
     },
     "output_type": "display_data"
    },
    {
     "name": "stdout",
     "output_type": "stream",
     "text": [
      "Classification report of default Random forest model: \n",
      "              precision    recall  f1-score   support\n",
      "\n",
      "           0       1.00      1.00      1.00    313151\n",
      "           1       1.00      1.00      1.00     70657\n",
      "\n",
      "    accuracy                           1.00    383808\n",
      "   macro avg       1.00      1.00      1.00    383808\n",
      "weighted avg       1.00      1.00      1.00    383808\n",
      "\n"
     ]
    }
   ],
   "source": [
    "# Initiating default Gradient Boosting Classifier\n",
    "classification_models(X_train, y_train, X_val, y_val, hp = False, GBC = True)\n"
   ]
  },
  {
   "cell_type": "code",
   "execution_count": 123,
   "metadata": {},
   "outputs": [
    {
     "name": "stderr",
     "output_type": "stream",
     "text": [
      "/opt/anaconda3/lib/python3.8/site-packages/xgboost/sklearn.py:888: UserWarning: The use of label encoder in XGBClassifier is deprecated and will be removed in a future release. To remove this warning, do the following: 1) Pass option use_label_encoder=False when constructing XGBClassifier object; and 2) Encode your labels (y) as integers starting with 0, i.e. 0, 1, 2, ..., [num_class - 1].\n",
      "  warnings.warn(label_encoder_deprecation_msg, UserWarning)\n"
     ]
    },
    {
     "name": "stdout",
     "output_type": "stream",
     "text": [
      "[12:59:39] WARNING: /opt/concourse/worker/volumes/live/7a2b9f41-3287-451b-6691-43e9a6c0910f/volume/xgboost-split_1619728204606/work/src/learner.cc:1061: Starting in XGBoost 1.3.0, the default evaluation metric used with the objective 'binary:logistic' was changed from 'error' to 'logloss'. Explicitly set eval_metric if you'd like to restore the old behavior.\n",
      "Accuracy score of train data:  1.0\n",
      "\n",
      "\n",
      "Accuracy score of test data:  1.0\n",
      "-------------------------------------------------------------------------------------------------------------------\n",
      "Predicted       0      1\n",
      "Expected                \n",
      "0          313151      0\n",
      "1               0  70657\n"
     ]
    },
    {
     "data": {
      "image/png": "[encoded data removed]",
      "text/plain": [
       "<Figure size 432x288 with 1 Axes>"
      ]
     },
     "metadata": {
      "needs_background": "light"
     },
     "output_type": "display_data"
    },
    {
     "name": "stdout",
     "output_type": "stream",
     "text": [
      "Classification report of default Random forest model: \n",
      "              precision    recall  f1-score   support\n",
      "\n",
      "           0       1.00      1.00      1.00    313151\n",
      "           1       1.00      1.00      1.00     70657\n",
      "\n",
      "    accuracy                           1.00    383808\n",
      "   macro avg       1.00      1.00      1.00    383808\n",
      "weighted avg       1.00      1.00      1.00    383808\n",
      "\n"
     ]
    }
   ],
   "source": [
    "# Initiating default XGB classifier\n",
    "classification_models(X_train, y_train, X_val, y_val, hp = False, XGB = True)\n"
   ]
  },
  {
   "cell_type": "code",
   "execution_count": 124,
   "metadata": {},
   "outputs": [
    {
     "name": "stdout",
     "output_type": "stream",
     "text": [
      "Accuracy score of train data:  1.0\n",
      "\n",
      "\n",
      "Accuracy score of test data:  1.0\n",
      "-------------------------------------------------------------------------------------------------------------------\n",
      "Predicted       0      1\n",
      "Expected                \n",
      "0          313151      0\n",
      "1               0  70657\n"
     ]
    },
    {
     "data": {
      "image/png": "[encoded data removed]",
      "text/plain": [
       "<Figure size 432x288 with 1 Axes>"
      ]
     },
     "metadata": {
      "needs_background": "light"
     },
     "output_type": "display_data"
    },
    {
     "name": "stdout",
     "output_type": "stream",
     "text": [
      "Classification report of default Random forest model: \n",
      "              precision    recall  f1-score   support\n",
      "\n",
      "           0       1.00      1.00      1.00    313151\n",
      "           1       1.00      1.00      1.00     70657\n",
      "\n",
      "    accuracy                           1.00    383808\n",
      "   macro avg       1.00      1.00      1.00    383808\n",
      "weighted avg       1.00      1.00      1.00    383808\n",
      "\n"
     ]
    }
   ],
   "source": [
    "# Initiating Decision tree classifier\n",
    "classification_models(X_train, y_train, X_val, y_val, hp = False, DT = True)\n"
   ]
  },
  {
   "cell_type": "code",
   "execution_count": 55,
   "metadata": {},
   "outputs": [
    {
     "name": "stdout",
     "output_type": "stream",
     "text": [
      "Accuracy score of train data:  1.0\n",
      "\n",
      "\n",
      "Accuracy score of test data:  1.0\n",
      "-------------------------------------------------------------------------------------------------------------------\n",
      "Predicted       0      1\n",
      "Expected                \n",
      "0          313380      0\n",
      "1               0  70428\n"
     ]
    },
    {
     "data": {
      "image/png": "[encoded data removed]",
      "text/plain": [
       "<Figure size 432x288 with 1 Axes>"
      ]
     },
     "metadata": {
      "needs_background": "light"
     },
     "output_type": "display_data"
    },
    {
     "name": "stdout",
     "output_type": "stream",
     "text": [
      "Classification report of default Random forest model: \n",
      "              precision    recall  f1-score   support\n",
      "\n",
      "           0       1.00      1.00      1.00    313380\n",
      "           1       1.00      1.00      1.00     70428\n",
      "\n",
      "    accuracy                           1.00    383808\n",
      "   macro avg       1.00      1.00      1.00    383808\n",
      "weighted avg       1.00      1.00      1.00    383808\n",
      "\n"
     ]
    }
   ],
   "source": [
    "# Initiating AdaBoost Classifier\n",
    "classification_models(X_train, y_train, X_val, y_val, hp = False, AdaBoost = True)\n"
   ]
  },
  {
   "cell_type": "markdown",
   "metadata": {},
   "source": [
    "## Hyperparameter Tuning"
   ]
  },
  {
   "cell_type": "code",
   "execution_count": 125,
   "metadata": {},
   "outputs": [
    {
     "name": "stdout",
     "output_type": "stream",
     "text": [
      "Best parameters of RandomForest model:  {'max_depth': 2, 'min_samples_split': 8}\n",
      "Enter max_depth: 2\n",
      "Enter min_samples_split: 8\n",
      "Accuracy score of train data:  0.9828251179161009\n",
      "\n",
      "\n",
      "Accuracy score of test data:  0.9824964565616141\n",
      "-------------------------------------------------------------------------------------------------------------------\n",
      "Predicted       0      1\n",
      "Expected                \n",
      "0          313151      0\n",
      "1            6718  63939\n"
     ]
    },
    {
     "data": {
      "image/png": "[encoded data removed]",
      "text/plain": [
       "<Figure size 432x288 with 1 Axes>"
      ]
     },
     "metadata": {
      "needs_background": "light"
     },
     "output_type": "display_data"
    },
    {
     "name": "stdout",
     "output_type": "stream",
     "text": [
      "Classification report of default Random forest model: \n",
      "              precision    recall  f1-score   support\n",
      "\n",
      "           0       0.98      1.00      0.99    313151\n",
      "           1       1.00      0.90      0.95     70657\n",
      "\n",
      "    accuracy                           0.98    383808\n",
      "   macro avg       0.99      0.95      0.97    383808\n",
      "weighted avg       0.98      0.98      0.98    383808\n",
      "\n"
     ]
    }
   ],
   "source": [
    "RandomForest_Hypermarameter(X_train, y_train, X_val, y_val)"
   ]
  },
  {
   "cell_type": "code",
   "execution_count": 82,
   "metadata": {},
   "outputs": [
    {
     "name": "stdout",
     "output_type": "stream",
     "text": [
      "Best parameters of Decision Trees model:  {'max_depth': 2, 'min_samples_split': 8}\n",
      "Enter max_depth: 2\n",
      "Enter min_samples_split: 8\n",
      "Accuracy score of train data:  0.9801429732723504\n",
      "\n",
      "\n",
      "Accuracy score of test data:  0.9798154285476072\n",
      "-------------------------------------------------------------------------------------------------------------------\n",
      "Predicted       0      1\n",
      "Expected                \n",
      "0          313151      0\n",
      "1            7747  62910\n"
     ]
    },
    {
     "data": {
      "image/png": "[encoded data removed]",
      "text/plain": [
       "<Figure size 432x288 with 1 Axes>"
      ]
     },
     "metadata": {
      "needs_background": "light"
     },
     "output_type": "display_data"
    },
    {
     "name": "stdout",
     "output_type": "stream",
     "text": [
      "Classification report of default Random forest model: \n",
      "              precision    recall  f1-score   support\n",
      "\n",
      "           0       0.98      1.00      0.99    313151\n",
      "           1       1.00      0.89      0.94     70657\n",
      "\n",
      "    accuracy                           0.98    383808\n",
      "   macro avg       0.99      0.95      0.96    383808\n",
      "weighted avg       0.98      0.98      0.98    383808\n",
      "\n"
     ]
    }
   ],
   "source": [
    "Decision_Tree_model_hp(X_train, y_train, X_val, y_val)"
   ]
  },
  {
   "cell_type": "code",
   "execution_count": 83,
   "metadata": {},
   "outputs": [
    {
     "name": "stdout",
     "output_type": "stream",
     "text": [
      "Best parameters of AdaBoost model:  {'learning_rate': 0.0001}\n",
      "Enter Optimal learning rate: 0.0001\n",
      "Accuracy score of train data:  0.9319804991781605\n",
      "\n",
      "\n",
      "Accuracy score of test data:  0.9316871977655494\n",
      "-------------------------------------------------------------------------------------------------------------------\n",
      "Predicted       0      1\n",
      "Expected                \n",
      "0          313151      0\n",
      "1           26219  44438\n"
     ]
    },
    {
     "data": {
      "image/png": "[encoded data removed]",
      "text/plain": [
       "<Figure size 432x288 with 1 Axes>"
      ]
     },
     "metadata": {
      "needs_background": "light"
     },
     "output_type": "display_data"
    },
    {
     "name": "stdout",
     "output_type": "stream",
     "text": [
      "Classification report of default Random forest model: \n",
      "              precision    recall  f1-score   support\n",
      "\n",
      "           0       0.92      1.00      0.96    313151\n",
      "           1       1.00      0.63      0.77     70657\n",
      "\n",
      "    accuracy                           0.93    383808\n",
      "   macro avg       0.96      0.81      0.87    383808\n",
      "weighted avg       0.94      0.93      0.93    383808\n",
      "\n"
     ]
    }
   ],
   "source": [
    "AdaBoost_model_hp(X_train, y_train, X_val, y_val)"
   ]
  },
  {
   "cell_type": "code",
   "execution_count": 22,
   "metadata": {},
   "outputs": [
    {
     "name": "stdout",
     "output_type": "stream",
     "text": [
      "Best parameters of Gradient Boosting model:  {'learning_rate': 0.01}\n",
      "Enter Optimal learning rate: 0.01\n",
      "Accuracy score of train data:  0.9977689737726005\n",
      "\n",
      "\n",
      "Accuracy score of test data:  0.997701975987994\n",
      "-------------------------------------------------------------------------------------------------------------------\n",
      "Predicted       0      1\n",
      "Expected                \n",
      "0          313151      0\n",
      "1             882  69775\n"
     ]
    },
    {
     "data": {
      "image/png": "[encoded data removed]",
      "text/plain": [
       "<Figure size 432x288 with 1 Axes>"
      ]
     },
     "metadata": {
      "needs_background": "light"
     },
     "output_type": "display_data"
    },
    {
     "name": "stdout",
     "output_type": "stream",
     "text": [
      "Classification report of default Random forest model: \n",
      "              precision    recall  f1-score   support\n",
      "\n",
      "           0       1.00      1.00      1.00    313151\n",
      "           1       1.00      0.99      0.99     70657\n",
      "\n",
      "    accuracy                           1.00    383808\n",
      "   macro avg       1.00      0.99      1.00    383808\n",
      "weighted avg       1.00      1.00      1.00    383808\n",
      "\n"
     ]
    }
   ],
   "source": [
    "GradientBoosting_model_hp(X_train, y_train, X_val, y_val)"
   ]
  },
  {
   "cell_type": "code",
   "execution_count": 24,
   "metadata": {},
   "outputs": [
    {
     "name": "stderr",
     "output_type": "stream",
     "text": [
      "/opt/anaconda3/lib/python3.8/site-packages/xgboost/sklearn.py:888: UserWarning: The use of label encoder in XGBClassifier is deprecated and will be removed in a future release. To remove this warning, do the following: 1) Pass option use_label_encoder=False when constructing XGBClassifier object; and 2) Encode your labels (y) as integers starting with 0, i.e. 0, 1, 2, ..., [num_class - 1].\n",
      "  warnings.warn(label_encoder_deprecation_msg, UserWarning)\n"
     ]
    },
    {
     "name": "stdout",
     "output_type": "stream",
     "text": [
      "[22:35:09] WARNING: /opt/concourse/worker/volumes/live/7a2b9f41-3287-451b-6691-43e9a6c0910f/volume/xgboost-split_1619728204606/work/src/learner.cc:1061: Starting in XGBoost 1.3.0, the default evaluation metric used with the objective 'binary:logistic' was changed from 'error' to 'logloss'. Explicitly set eval_metric if you'd like to restore the old behavior.\n",
      "Best parameters of XBG model:  {'learning_rate': 0.0001, 'max_depth': 2}\n",
      "Enter max_depth: 2\n",
      "Enter Optimal learning rate: 0.0001\n",
      "[22:38:18] WARNING: /opt/concourse/worker/volumes/live/7a2b9f41-3287-451b-6691-43e9a6c0910f/volume/xgboost-split_1619728204606/work/src/learner.cc:1061: Starting in XGBoost 1.3.0, the default evaluation metric used with the objective 'binary:logistic' was changed from 'error' to 'logloss'. Explicitly set eval_metric if you'd like to restore the old behavior.\n",
      "Accuracy score of train data:  0.9801429732723504\n",
      "\n",
      "\n",
      "Accuracy score of test data:  0.9798154285476072\n",
      "-------------------------------------------------------------------------------------------------------------------\n",
      "Predicted       0      1\n",
      "Expected                \n",
      "0          313151      0\n",
      "1            7747  62910\n"
     ]
    },
    {
     "data": {
      "image/png": "[encoded data removed]",
      "text/plain": [
       "<Figure size 432x288 with 1 Axes>"
      ]
     },
     "metadata": {
      "needs_background": "light"
     },
     "output_type": "display_data"
    },
    {
     "name": "stdout",
     "output_type": "stream",
     "text": [
      "Classification report of default Random forest model: \n",
      "              precision    recall  f1-score   support\n",
      "\n",
      "           0       0.98      1.00      0.99    313151\n",
      "           1       1.00      0.89      0.94     70657\n",
      "\n",
      "    accuracy                           0.98    383808\n",
      "   macro avg       0.99      0.95      0.96    383808\n",
      "weighted avg       0.98      0.98      0.98    383808\n",
      "\n"
     ]
    }
   ],
   "source": [
    "XGB_model_hp(X_train, y_train, X_val, y_val)"
   ]
  },
  {
   "cell_type": "code",
   "execution_count": 110,
   "metadata": {},
   "outputs": [
    {
     "name": "stderr",
     "output_type": "stream",
     "text": [
      "[Parallel(n_jobs=1)]: Using backend SequentialBackend with 1 concurrent workers.\n",
      "[Parallel(n_jobs=1)]: Done   1 out of   1 | elapsed:    0.9s remaining:    0.0s\n",
      "[Parallel(n_jobs=1)]: Done  10 out of  10 | elapsed:    6.5s finished\n",
      "\n",
      "[2021-05-31 12:47:41] Features: 1/5 -- score: 0.9319805005367297[Parallel(n_jobs=1)]: Using backend SequentialBackend with 1 concurrent workers.\n",
      "[Parallel(n_jobs=1)]: Done   1 out of   1 | elapsed:    1.1s remaining:    0.0s\n",
      "[Parallel(n_jobs=1)]: Done   9 out of   9 | elapsed:    7.8s finished\n",
      "\n",
      "[2021-05-31 12:47:49] Features: 2/5 -- score: 0.9801429733083611[Parallel(n_jobs=1)]: Using backend SequentialBackend with 1 concurrent workers.\n",
      "[Parallel(n_jobs=1)]: Done   1 out of   1 | elapsed:    1.2s remaining:    0.0s\n",
      "[Parallel(n_jobs=1)]: Done   8 out of   8 | elapsed:    8.2s finished\n",
      "\n",
      "[2021-05-31 12:47:57] Features: 3/5 -- score: 0.9977689734284503[Parallel(n_jobs=1)]: Using backend SequentialBackend with 1 concurrent workers.\n",
      "[Parallel(n_jobs=1)]: Done   1 out of   1 | elapsed:    1.4s remaining:    0.0s\n",
      "[Parallel(n_jobs=1)]: Done   7 out of   7 | elapsed:    8.2s finished\n",
      "\n",
      "[2021-05-31 12:48:05] Features: 4/5 -- score: 0.9998794039490546[Parallel(n_jobs=1)]: Using backend SequentialBackend with 1 concurrent workers.\n",
      "[Parallel(n_jobs=1)]: Done   1 out of   1 | elapsed:    1.5s remaining:    0.0s\n",
      "[Parallel(n_jobs=1)]: Done   6 out of   6 | elapsed:    8.1s finished\n",
      "\n",
      "[2021-05-31 12:48:13] Features: 5/5 -- score: 0.9998794039490546"
     ]
    }
   ],
   "source": [
    "# b) Mlxtend Feature selection technique\n",
    "# Identifying top 25 most significant columns\n",
    "\n",
    "from mlxtend.feature_selection import SequentialFeatureSelector as sfs\n",
    "clf = DecisionTreeClassifier(max_depth = 4, min_samples_split = 8)\n",
    "sfs1 = sfs(clf,\n",
    "           k_features=5,\n",
    "           forward=True,\n",
    "           floating=False,\n",
    "           verbose=2,\n",
    "           scoring='accuracy',\n",
    "           cv=5)\n",
    "\n",
    "# Perform SFFS\n",
    "sfs1 = sfs1.fit(X_train, y_train)"
   ]
  },
  {
   "cell_type": "code",
   "execution_count": 111,
   "metadata": {},
   "outputs": [
    {
     "name": "stdout",
     "output_type": "stream",
     "text": [
      "[0, 1, 2, 3, 5]\n"
     ]
    }
   ],
   "source": [
    "# List of top 5 columns selected by MLXtend\n",
    "\n",
    "feat_cols = list(sfs1.k_feature_idx_)\n",
    "print(feat_cols)"
   ]
  },
  {
   "cell_type": "code",
   "execution_count": 112,
   "metadata": {},
   "outputs": [
    {
     "name": "stdout",
     "output_type": "stream",
     "text": [
      "TaxiIntimeMinutes = 0.023423885388412016\n",
      "DelayCarrierMinutes = 0.24725333864175958\n",
      "DelayWeatherMinutes = 0.09097115540328318\n",
      "DelayNationalAviationSystemMinutes = 0.44008079201022615\n",
      "DelaySecurityMinutes = 0.000850467899147354\n",
      "DelayLateAircraftArrivalMinutes = 0.19108033026271104\n",
      "time = 0.005091556671451041\n",
      "ArrivalAirport_code = 0.001160148746574496\n",
      "CarrierCode_code = 6.3761843167560535e-06\n",
      "OriginAirport_code = 8.194879211843186e-05\n"
     ]
    }
   ],
   "source": [
    "rnd_clf = RandomForestClassifier(n_estimators=100, n_jobs=-1, random_state=15, max_depth = 2, min_samples_split = 8)\n",
    "rnd_clf.fit(X_train, y_train)\n",
    "for name, importance in zip(X_train.columns, rnd_clf.feature_importances_):\n",
    "    print(name, \"=\", importance)"
   ]
  },
  {
   "cell_type": "code",
   "execution_count": 113,
   "metadata": {},
   "outputs": [
    {
     "data": {
      "image/png": "[encoded data removed]",
      "text/plain": [
       "<Figure size 1080x720 with 1 Axes>"
      ]
     },
     "metadata": {
      "needs_background": "light"
     },
     "output_type": "display_data"
    }
   ],
   "source": [
    "features = X_train.columns\n",
    "importances = rnd_clf.feature_importances_\n",
    "indices = np.argsort(importances)\n",
    "plt.figure(figsize=(15,10))\n",
    "plt.title('Feature Importances')\n",
    "plt.barh(range(len(indices)), importances[indices], color='green', align='center')\n",
    "plt.yticks(range(len(indices)), [features[i] for i in indices])\n",
    "plt.xlabel('Relative Importance')\n",
    "plt.show()"
   ]
  },
  {
   "cell_type": "code",
   "execution_count": 114,
   "metadata": {},
   "outputs": [
    {
     "name": "stdout",
     "output_type": "stream",
     "text": [
      "TaxiIntimeMinutes = 0.0\n",
      "DelayCarrierMinutes = 0.29029732460171354\n",
      "DelayWeatherMinutes = 0.014074316036765388\n",
      "DelayNationalAviationSystemMinutes = 0.5808546448428016\n",
      "DelaySecurityMinutes = 0.0\n",
      "DelayLateAircraftArrivalMinutes = 0.11477371451871932\n",
      "time = 0.0\n",
      "ArrivalAirport_code = 0.0\n",
      "CarrierCode_code = 0.0\n",
      "OriginAirport_code = 0.0\n"
     ]
    }
   ],
   "source": [
    "dt_clf = DecisionTreeClassifier(max_depth = 4, min_samples_split = 8)\n",
    "dt_clf.fit(X_train, y_train)\n",
    "for name, importance in zip(X_train.columns, dt_clf.feature_importances_):\n",
    "    print(name, \"=\", importance)"
   ]
  },
  {
   "cell_type": "code",
   "execution_count": 115,
   "metadata": {},
   "outputs": [
    {
     "data": {
      "image/png": "[encoded data removed]",
      "text/plain": [
       "<Figure size 1080x720 with 1 Axes>"
      ]
     },
     "metadata": {
      "needs_background": "light"
     },
     "output_type": "display_data"
    }
   ],
   "source": [
    "features = X_train.columns\n",
    "importances = dt_clf.feature_importances_\n",
    "indices = np.argsort(importances)\n",
    "plt.figure(figsize=(15,10))\n",
    "plt.title('Feature Importances')\n",
    "plt.barh(range(len(indices)), importances[indices], color='green', align='center')\n",
    "plt.yticks(range(len(indices)), [features[i] for i in indices])\n",
    "plt.xlabel('Relative Importance')\n",
    "plt.show()"
   ]
  },
  {
   "cell_type": "code",
   "execution_count": 119,
   "metadata": {},
   "outputs": [
    {
     "name": "stdout",
     "output_type": "stream",
     "text": [
      "Predicted       0      1\n",
      "Expected                \n",
      "0          313151      0\n",
      "1              53  70604\n"
     ]
    },
    {
     "data": {
      "image/png": "[encoded data removed]",
      "text/plain": [
       "<Figure size 432x288 with 1 Axes>"
      ]
     },
     "metadata": {
      "needs_background": "light"
     },
     "output_type": "display_data"
    },
    {
     "name": "stdout",
     "output_type": "stream",
     "text": [
      "Classification report of default Random forest model: \n",
      "              precision    recall  f1-score   support\n",
      "\n",
      "           0       1.00      1.00      1.00    313151\n",
      "           1       1.00      1.00      1.00     70657\n",
      "\n",
      "    accuracy                           1.00    383808\n",
      "   macro avg       1.00      1.00      1.00    383808\n",
      "weighted avg       1.00      1.00      1.00    383808\n",
      "\n"
     ]
    }
   ],
   "source": [
    "# Build decision tree classifier with top 5 selected features\n",
    "clf = DecisionTreeClassifier(max_depth = 4, min_samples_split = 8)\n",
    "clf.fit(X_train, y_train)\n",
    "\n",
    "y_train_pred = clf.predict(X_train)\n",
    "#print('Training accuracy on selected features: %.3f' % acc(y_train, y_train_pred))\n",
    "\n",
    "y_test_pred = clf.predict(X_val)\n",
    "#print('Testing accuracy on selected features: %.3f' % acc(y_test, y_test_pred))\n",
    "\n",
    "confusion_matrix =  pd.crosstab(index=y_val, columns=y_test_pred.ravel(), rownames=['Expected'], colnames=['Predicted'])\n",
    "sns.heatmap(confusion_matrix, annot=True, square=False, fmt='', cbar=False)\n",
    "print(confusion_matrix)\n",
    "plt.title(\"Confusion Matrix for test data\", fontsize = 15)\n",
    "plt.show()\n",
    "\n",
    "print('Classification report of default Random forest model: ')\n",
    "print(metrics.classification_report(y_val, y_test_pred))"
   ]
  },
  {
   "cell_type": "code",
   "execution_count": 120,
   "metadata": {},
   "outputs": [
    {
     "data": {
      "image/png": "[encoded data removed]",
      "text/plain": [
       "<Figure size 1800x1440 with 1 Axes>"
      ]
     },
     "metadata": {
      "needs_background": "light"
     },
     "output_type": "display_data"
    }
   ],
   "source": [
    "from sklearn import tree\n",
    "target_values = [\"On time\", \"Delayed\"]\n",
    "fig = plt.figure(figsize=(25,20))\n",
    "_ = tree.plot_tree(clf, \n",
    "                   feature_names=X_train.columns,  \n",
    "                   class_names=target_values,\n",
    "                   filled=True)"
   ]
  },
  {
   "cell_type": "code",
   "execution_count": null,
   "metadata": {},
   "outputs": [],
   "source": []
  }
 ],
 "metadata": {
  "kernelspec": {
   "display_name": "Python 3",
   "language": "python",
   "name": "python3"
  },
  "language_info": {
   "codemirror_mode": {
    "name": "ipython",
    "version": 3
   },
   "file_extension": ".py",
   "mimetype": "text/x-python",
   "name": "python",
   "nbconvert_exporter": "python",
   "pygments_lexer": "ipython3",
   "version": "3.8.8"
  }
 },
 "nbformat": 4,
 "nbformat_minor": 4
}
