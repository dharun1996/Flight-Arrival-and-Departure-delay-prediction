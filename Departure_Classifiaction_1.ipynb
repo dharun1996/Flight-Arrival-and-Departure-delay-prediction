{
  "nbformat": 4,
  "nbformat_minor": 0,
  "metadata": {
    "colab": {
      "name": "Departure_Classifiaction_Abinaya.ipynb",
      "provenance": [],
      "collapsed_sections": []
    },
    "kernelspec": {
      "name": "python3",
      "display_name": "Python 3"
    },
    "language_info": {
      "name": "python"
    }
  },
  "cells": [
    {
      "cell_type": "code",
      "metadata": {
        "colab": {
          "base_uri": "https://localhost:8080/"
        },
        "id": "2ICSeoNF6dch",
        "outputId": "6b4970b3-78f1-47d9-a4c1-276303776bf9"
      },
      "source": [
        "!python --version"
      ],
      "execution_count": null,
      "outputs": [
        {
          "output_type": "stream",
          "text": [
            "Python 3.7.10\n"
          ],
          "name": "stdout"
        }
      ]
    },
    {
      "cell_type": "code",
      "metadata": {
        "colab": {
          "base_uri": "https://localhost:8080/"
        },
        "id": "syfpcw7p67_v",
        "outputId": "f44d4763-bd38-40fb-deaa-dc1bd080b8e2"
      },
      "source": [
        "from google.colab import drive\n",
        "drive.mount('/content/gdrive')"
      ],
      "execution_count": null,
      "outputs": [
        {
          "output_type": "stream",
          "text": [
            "Mounted at /content/gdrive\n"
          ],
          "name": "stdout"
        }
      ]
    },
    {
      "cell_type": "code",
      "metadata": {
        "id": "QJQ3pyMc7E6Y"
      },
      "source": [
        "import pandas as pd\n",
        "filghtData=pd.read_csv('/content/gdrive/My Drive/DSC672/DATA/data_scaled.csv')"
      ],
      "execution_count": null,
      "outputs": []
    },
    {
      "cell_type": "code",
      "metadata": {
        "id": "Jm6CRtV89vRu"
      },
      "source": [
        "import numpy as np\n",
        "import matplotlib.pyplot as plt\n",
        "import seaborn as sns"
      ],
      "execution_count": null,
      "outputs": []
    },
    {
      "cell_type": "code",
      "metadata": {
        "colab": {
          "base_uri": "https://localhost:8080/",
          "height": 35
        },
        "id": "UYNZYIBW-Zxm",
        "outputId": "a2f80612-b731-48bc-8a88-8b6b590b2a80"
      },
      "source": [
        "import sklearn\n",
        "sklearn.__version__"
      ],
      "execution_count": null,
      "outputs": [
        {
          "output_type": "execute_result",
          "data": {
            "application/vnd.google.colaboratory.intrinsic+json": {
              "type": "string"
            },
            "text/plain": [
              "'0.22.2.post1'"
            ]
          },
          "metadata": {
            "tags": []
          },
          "execution_count": 5
        }
      ]
    },
    {
      "cell_type": "code",
      "metadata": {
        "id": "SLxyQPM5-nSN"
      },
      "source": [
        "from sklearn.naive_bayes import GaussianNB\n",
        "from sklearn.model_selection import train_test_split"
      ],
      "execution_count": null,
      "outputs": []
    },
    {
      "cell_type": "code",
      "metadata": {
        "colab": {
          "base_uri": "https://localhost:8080/"
        },
        "id": "sTvsowuw_O6i",
        "outputId": "613895bc-6b0d-47d9-ac83-083a4c6384e0"
      },
      "source": [
        "filghtData.columns"
      ],
      "execution_count": null,
      "outputs": [
        {
          "output_type": "execute_result",
          "data": {
            "text/plain": [
              "Index(['TaxiOuttimeMinutes', 'DelayCarrierMinutes', 'DelayWeatherMinutes',\n",
              "       'DelayNationalAviationSystemMinutes', 'DelaySecurityMinutes',\n",
              "       'DelayLateAircraftArrivalMinutes', 'city', 'time', 'maxtempC',\n",
              "       'mintempC', 'totalSnow_cm', 'sunHour', 'uvIndex', 'moon_illumination',\n",
              "       'DewPointC', 'FeelsLikeC', 'HeatIndexC', 'WindChillC', 'WindGustKmph',\n",
              "       'cloudcover', 'humidity', 'precipMM', 'pressure', 'tempC', 'visibility',\n",
              "       'winddirDegree', 'windspeedKmph', 'TailNumber', 'DestinationAirport',\n",
              "       'DeparturedelayMinutes'],\n",
              "      dtype='object')"
            ]
          },
          "metadata": {
            "tags": []
          },
          "execution_count": 8
        }
      ]
    },
    {
      "cell_type": "code",
      "metadata": {
        "id": "fzLIGUQiAN0O"
      },
      "source": [
        "x=filghtData.drop(['maxtempC','mintempC','totalSnow_cm','sunHour', 'uvIndex', 'moon_illumination','DewPointC', 'FeelsLikeC', 'HeatIndexC', 'WindChillC', 'WindGustKmph','cloudcover', 'humidity', 'precipMM', 'pressure', 'tempC', 'visibility','winddirDegree', 'windspeedKmph','DeparturedelayMinutes'],axis=1)\n",
        "y=filghtData['DeparturedelayMinutes']\n",
        "X_train, X_val, y_train, y_val = train_test_split(x, y, test_size=0.30, random_state=55000)"
      ],
      "execution_count": null,
      "outputs": []
    },
    {
      "cell_type": "code",
      "metadata": {
        "id": "CnLMGxiCA9bF"
      },
      "source": [
        "gnModel=GaussianNB()"
      ],
      "execution_count": null,
      "outputs": []
    },
    {
      "cell_type": "code",
      "metadata": {
        "id": "uAjj54zaC42b"
      },
      "source": [
        "x_dAirport=X_train.DestinationAirport"
      ],
      "execution_count": null,
      "outputs": []
    },
    {
      "cell_type": "code",
      "metadata": {
        "id": "YX45UJtrIFen"
      },
      "source": [
        "x_TaiNumber=X_train.TailNumber"
      ],
      "execution_count": null,
      "outputs": []
    },
    {
      "cell_type": "code",
      "metadata": {
        "id": "3JWJRz_1ILlC"
      },
      "source": [
        "X_train=X_train.drop(['DestinationAirport','TailNumber'],axis=1)"
      ],
      "execution_count": null,
      "outputs": []
    },
    {
      "cell_type": "code",
      "metadata": {
        "colab": {
          "base_uri": "https://localhost:8080/"
        },
        "id": "wDZkGQo7SGs4",
        "outputId": "6a6fc684-24c8-482e-a029-203df2ff8b37"
      },
      "source": [
        "gnModel.fit(X_train,y_train)"
      ],
      "execution_count": null,
      "outputs": [
        {
          "output_type": "execute_result",
          "data": {
            "text/plain": [
              "GaussianNB(priors=None, var_smoothing=1e-09)"
            ]
          },
          "metadata": {
            "tags": []
          },
          "execution_count": 51
        }
      ]
    },
    {
      "cell_type": "code",
      "metadata": {
        "id": "8kDFcNcRSRvq"
      },
      "source": [
        "y_pred=gnModel.predict(X_train)"
      ],
      "execution_count": null,
      "outputs": []
    },
    {
      "cell_type": "code",
      "metadata": {
        "colab": {
          "base_uri": "https://localhost:8080/"
        },
        "id": "MCp8OsdnSlVI",
        "outputId": "8ba621c1-04ef-466f-afd8-eef73bf723b2"
      },
      "source": [
        "from sklearn import metrics\n",
        "print(\"Accuracy\",metrics.accuracy_score(y_train,y_pred))"
      ],
      "execution_count": null,
      "outputs": [
        {
          "output_type": "stream",
          "text": [
            "Accuracy 0.9370877936673494\n"
          ],
          "name": "stdout"
        }
      ]
    },
    {
      "cell_type": "code",
      "metadata": {
        "id": "NrjTsBVLLsl1"
      },
      "source": [
        "xtest_dAirport=X_val.DestinationAirport"
      ],
      "execution_count": null,
      "outputs": []
    },
    {
      "cell_type": "code",
      "metadata": {
        "id": "QHhS4kfw8el9"
      },
      "source": [
        "xtest_tailNumber=X_val.TailNumber"
      ],
      "execution_count": null,
      "outputs": []
    },
    {
      "cell_type": "code",
      "metadata": {
        "id": "iWSstZnsUY6y"
      },
      "source": [
        "X_val=X_val.drop(['DestinationAirport','TailNumber'],axis=1)"
      ],
      "execution_count": null,
      "outputs": []
    },
    {
      "cell_type": "code",
      "metadata": {
        "id": "iWat8DICUhlj"
      },
      "source": [
        "yPredTest=gnModel.predict(X_val)"
      ],
      "execution_count": null,
      "outputs": []
    },
    {
      "cell_type": "code",
      "metadata": {
        "id": "ZS_6i5qDU0XJ"
      },
      "source": [
        "from sklearn import metrics\n",
        "from sklearn.metrics import confusion_matrix, classification_report"
      ],
      "execution_count": null,
      "outputs": []
    },
    {
      "cell_type": "code",
      "metadata": {
        "colab": {
          "base_uri": "https://localhost:8080/"
        },
        "id": "w7M0LgnIdPMm",
        "outputId": "46869cb4-57b4-4db2-eb83-1d19819c9531"
      },
      "source": [
        "print(\"Accuracy\",metrics.accuracy_score(y_val,yPredTest))"
      ],
      "execution_count": null,
      "outputs": [
        {
          "output_type": "stream",
          "text": [
            "Accuracy 0.9378211475324405\n"
          ],
          "name": "stdout"
        }
      ]
    },
    {
      "cell_type": "code",
      "metadata": {
        "colab": {
          "base_uri": "https://localhost:8080/"
        },
        "id": "cJrfVsoSVBAG",
        "outputId": "e3dfd995-370e-43ee-fe5e-35d2f63f2ebb"
      },
      "source": [
        "from sklearn.metrics import confusion_matrix, classification_report\n",
        "print(confusion_matrix(y_val,yPredTest))\n",
        "print(classification_report(y_val,yPredTest))"
      ],
      "execution_count": null,
      "outputs": [
        {
          "output_type": "stream",
          "text": [
            "[[311553   6114]\n",
            " [ 17749  48364]]\n",
            "              precision    recall  f1-score   support\n",
            "\n",
            "           0       0.95      0.98      0.96    317667\n",
            "           1       0.89      0.73      0.80     66113\n",
            "\n",
            "    accuracy                           0.94    383780\n",
            "   macro avg       0.92      0.86      0.88    383780\n",
            "weighted avg       0.94      0.94      0.94    383780\n",
            "\n"
          ],
          "name": "stdout"
        }
      ]
    },
    {
      "cell_type": "code",
      "metadata": {
        "colab": {
          "base_uri": "https://localhost:8080/"
        },
        "id": "9V_2M5KQWGt1",
        "outputId": "26a8aca4-6504-4e1e-ff76-16c64882ac81"
      },
      "source": [
        "from sklearn.ensemble import GradientBoostingClassifier\n",
        "GradientBoostingClassifier()"
      ],
      "execution_count": null,
      "outputs": [
        {
          "output_type": "execute_result",
          "data": {
            "text/plain": [
              "GradientBoostingClassifier(ccp_alpha=0.0, criterion='friedman_mse', init=None,\n",
              "                           learning_rate=0.1, loss='deviance', max_depth=3,\n",
              "                           max_features=None, max_leaf_nodes=None,\n",
              "                           min_impurity_decrease=0.0, min_impurity_split=None,\n",
              "                           min_samples_leaf=1, min_samples_split=2,\n",
              "                           min_weight_fraction_leaf=0.0, n_estimators=100,\n",
              "                           n_iter_no_change=None, presort='deprecated',\n",
              "                           random_state=None, subsample=1.0, tol=0.0001,\n",
              "                           validation_fraction=0.1, verbose=0,\n",
              "                           warm_start=False)"
            ]
          },
          "metadata": {
            "tags": []
          },
          "execution_count": 63
        }
      ]
    },
    {
      "cell_type": "code",
      "metadata": {
        "id": "yyFs9STSX5aY"
      },
      "source": [
        "gradBoost = GradientBoostingClassifier()"
      ],
      "execution_count": null,
      "outputs": []
    },
    {
      "cell_type": "code",
      "metadata": {
        "colab": {
          "base_uri": "https://localhost:8080/"
        },
        "id": "VYsTqDwYX_vj",
        "outputId": "58f098a4-6021-4919-eb32-b012d5212210"
      },
      "source": [
        "gradBoost.fit(X_train, y_train)"
      ],
      "execution_count": null,
      "outputs": [
        {
          "output_type": "execute_result",
          "data": {
            "text/plain": [
              "GradientBoostingClassifier(ccp_alpha=0.0, criterion='friedman_mse', init=None,\n",
              "                           learning_rate=0.1, loss='deviance', max_depth=3,\n",
              "                           max_features=None, max_leaf_nodes=None,\n",
              "                           min_impurity_decrease=0.0, min_impurity_split=None,\n",
              "                           min_samples_leaf=1, min_samples_split=2,\n",
              "                           min_weight_fraction_leaf=0.0, n_estimators=100,\n",
              "                           n_iter_no_change=None, presort='deprecated',\n",
              "                           random_state=None, subsample=1.0, tol=0.0001,\n",
              "                           validation_fraction=0.1, verbose=0,\n",
              "                           warm_start=False)"
            ]
          },
          "metadata": {
            "tags": []
          },
          "execution_count": 65
        }
      ]
    },
    {
      "cell_type": "code",
      "metadata": {
        "colab": {
          "base_uri": "https://localhost:8080/"
        },
        "id": "ubYysFDqpQ3z",
        "outputId": "b7431a68-151f-46f7-a0b1-7335efe010ab"
      },
      "source": [
        "yPredictTrainGB = gradBoost.predict(X_train)\n",
        "print(metrics.accuracy_score(y_train, yPredictTrainGB))"
      ],
      "execution_count": null,
      "outputs": [
        {
          "output_type": "stream",
          "text": [
            "0.9494944644584058\n"
          ],
          "name": "stdout"
        }
      ]
    },
    {
      "cell_type": "code",
      "metadata": {
        "colab": {
          "base_uri": "https://localhost:8080/"
        },
        "id": "iXY0Orf2ppNE",
        "outputId": "638c611a-7c93-4490-a25e-d68bd33f2ee6"
      },
      "source": [
        "yPredictTestGB = gradBoost.predict(X_val)\n",
        "print('Accuracy',metrics.accuracy_score(y_val, yPredictTestGB))"
      ],
      "execution_count": null,
      "outputs": [
        {
          "output_type": "stream",
          "text": [
            "Accuracy 0.9499791547240607\n"
          ],
          "name": "stdout"
        }
      ]
    },
    {
      "cell_type": "code",
      "metadata": {
        "colab": {
          "base_uri": "https://localhost:8080/"
        },
        "id": "9c88D3FzVadV",
        "outputId": "e91ff339-bfc0-4aea-ea47-9fb514a71754"
      },
      "source": [
        "print(confusion_matrix(y_val, yPredictTestGB))\n",
        "print(classification_report(y_val, yPredictTestGB))"
      ],
      "execution_count": null,
      "outputs": [
        {
          "output_type": "stream",
          "text": [
            "[[315827   1840]\n",
            " [ 17357  48756]]\n",
            "              precision    recall  f1-score   support\n",
            "\n",
            "           0       0.95      0.99      0.97    317667\n",
            "           1       0.96      0.74      0.84     66113\n",
            "\n",
            "    accuracy                           0.95    383780\n",
            "   macro avg       0.96      0.87      0.90    383780\n",
            "weighted avg       0.95      0.95      0.95    383780\n",
            "\n"
          ],
          "name": "stdout"
        }
      ]
    },
    {
      "cell_type": "code",
      "metadata": {
        "id": "xF8JtKyGZ-e-"
      },
      "source": [
        "import numpy as np\n",
        "import matplotlib.pyplot as plt\n",
        "import seaborn as sns\n",
        "\n",
        "import sklearn\n",
        "sklearn.__version__\n",
        "\n",
        "from sklearn.model_selection import train_test_split\n",
        "from sklearn import metrics\n",
        "from sklearn.model_selection import RandomizedSearchCV\n",
        "from sklearn.model_selection import GridSearchCV\n",
        "\n",
        "from sklearn.linear_model import LogisticRegression\n",
        "from sklearn.linear_model import LinearRegression\n",
        "from sklearn.linear_model import Lasso\n",
        "from sklearn import metrics\n",
        "from sklearn.metrics import r2_score\n",
        "import math\n",
        "from sklearn.decomposition import PCA\n",
        "from sklearn.metrics import mean_squared_error\n",
        "from sklearn.svm import SVC\n",
        "from sklearn.svm import SVR"
      ],
      "execution_count": null,
      "outputs": []
    },
    {
      "cell_type": "code",
      "metadata": {
        "colab": {
          "base_uri": "https://localhost:8080/"
        },
        "id": "wA58JmXIaKfe",
        "outputId": "bf93f0a5-3a00-4479-ca3f-5612b67af44c"
      },
      "source": [
        "from sklearn.ensemble import RandomForestClassifier\n",
        "rf=RandomForestClassifier(max_depth=10, n_estimators=10)\n",
        "rf.fit(X_train, y_train)"
      ],
      "execution_count": null,
      "outputs": [
        {
          "output_type": "execute_result",
          "data": {
            "text/plain": [
              "RandomForestClassifier(bootstrap=True, ccp_alpha=0.0, class_weight=None,\n",
              "                       criterion='gini', max_depth=10, max_features='auto',\n",
              "                       max_leaf_nodes=None, max_samples=None,\n",
              "                       min_impurity_decrease=0.0, min_impurity_split=None,\n",
              "                       min_samples_leaf=1, min_samples_split=2,\n",
              "                       min_weight_fraction_leaf=0.0, n_estimators=10,\n",
              "                       n_jobs=None, oob_score=False, random_state=None,\n",
              "                       verbose=0, warm_start=False)"
            ]
          },
          "metadata": {
            "tags": []
          },
          "execution_count": 70
        }
      ]
    },
    {
      "cell_type": "code",
      "metadata": {
        "id": "PxBBhjiSamSc"
      },
      "source": [
        "predrf1 = rf.predict(X_train)"
      ],
      "execution_count": null,
      "outputs": []
    },
    {
      "cell_type": "code",
      "metadata": {
        "id": "O52O-RL2apek"
      },
      "source": [
        "predrf2 = rf.predict(X_val)"
      ],
      "execution_count": null,
      "outputs": []
    },
    {
      "cell_type": "code",
      "metadata": {
        "colab": {
          "base_uri": "https://localhost:8080/"
        },
        "id": "oDia3tGras68",
        "outputId": "27edbde9-2cbd-44e3-c1c9-e36132443f08"
      },
      "source": [
        "metrics.accuracy_score(y_true=y_train,y_pred=predrf1)"
      ],
      "execution_count": null,
      "outputs": [
        {
          "output_type": "execute_result",
          "data": {
            "text/plain": [
              "0.9489506256937573"
            ]
          },
          "metadata": {
            "tags": []
          },
          "execution_count": 73
        }
      ]
    },
    {
      "cell_type": "code",
      "metadata": {
        "colab": {
          "base_uri": "https://localhost:8080/"
        },
        "id": "y0g6eYq9ayBR",
        "outputId": "270cf8a1-7697-4e67-a0e0-9eef0207d55a"
      },
      "source": [
        "metrics.accuracy_score(y_true=y_val,y_pred=predrf2)"
      ],
      "execution_count": null,
      "outputs": [
        {
          "output_type": "execute_result",
          "data": {
            "text/plain": [
              "0.9491844285788733"
            ]
          },
          "metadata": {
            "tags": []
          },
          "execution_count": 74
        }
      ]
    },
    {
      "cell_type": "code",
      "metadata": {
        "colab": {
          "base_uri": "https://localhost:8080/"
        },
        "id": "OZCcooBxa5Wi",
        "outputId": "a7e57033-7dd6-404d-c5d8-09523a2f1833"
      },
      "source": [
        "print(confusion_matrix(y_val, predrf2))\n",
        "print(classification_report(y_val, predrf2))"
      ],
      "execution_count": null,
      "outputs": [
        {
          "output_type": "stream",
          "text": [
            "[[315875   1792]\n",
            " [ 17710  48403]]\n",
            "              precision    recall  f1-score   support\n",
            "\n",
            "           0       0.95      0.99      0.97    317667\n",
            "           1       0.96      0.73      0.83     66113\n",
            "\n",
            "    accuracy                           0.95    383780\n",
            "   macro avg       0.96      0.86      0.90    383780\n",
            "weighted avg       0.95      0.95      0.95    383780\n",
            "\n"
          ],
          "name": "stdout"
        }
      ]
    },
    {
      "cell_type": "code",
      "metadata": {
        "id": "aHXLoikwbK3-"
      },
      "source": [
        "from xgboost import XGBClassifier"
      ],
      "execution_count": null,
      "outputs": []
    },
    {
      "cell_type": "code",
      "metadata": {
        "colab": {
          "base_uri": "https://localhost:8080/"
        },
        "id": "DnkRQAFNbPtD",
        "outputId": "da0e655f-5796-456a-9894-baf3d8d7b0dc"
      },
      "source": [
        "xgb=XGBClassifier(learning_rate=0.1,max_depth=10)\n",
        "xgb.fit(X_train,y_train)"
      ],
      "execution_count": null,
      "outputs": [
        {
          "output_type": "execute_result",
          "data": {
            "text/plain": [
              "XGBClassifier(base_score=0.5, booster='gbtree', colsample_bylevel=1,\n",
              "              colsample_bynode=1, colsample_bytree=1, gamma=0,\n",
              "              learning_rate=0.1, max_delta_step=0, max_depth=10,\n",
              "              min_child_weight=1, missing=None, n_estimators=100, n_jobs=1,\n",
              "              nthread=None, objective='binary:logistic', random_state=0,\n",
              "              reg_alpha=0, reg_lambda=1, scale_pos_weight=1, seed=None,\n",
              "              silent=None, subsample=1, verbosity=1)"
            ]
          },
          "metadata": {
            "tags": []
          },
          "execution_count": 77
        }
      ]
    },
    {
      "cell_type": "code",
      "metadata": {
        "id": "RBz7COOEcXq1"
      },
      "source": [
        "predxgb1 = xgb.predict(X_train)\n",
        "predxgb2 = xgb.predict(X_val)"
      ],
      "execution_count": null,
      "outputs": []
    },
    {
      "cell_type": "code",
      "metadata": {
        "colab": {
          "base_uri": "https://localhost:8080/"
        },
        "id": "FNSboY5AchqW",
        "outputId": "015af629-8723-4ac5-867f-db8f8c527176"
      },
      "source": [
        "metrics.accuracy_score(y_true=y_train,y_pred=predxgb1)"
      ],
      "execution_count": null,
      "outputs": [
        {
          "output_type": "execute_result",
          "data": {
            "text/plain": [
              "0.9516821033494661"
            ]
          },
          "metadata": {
            "tags": []
          },
          "execution_count": 79
        }
      ]
    },
    {
      "cell_type": "code",
      "metadata": {
        "colab": {
          "base_uri": "https://localhost:8080/"
        },
        "id": "5GJQUh5DclQS",
        "outputId": "9e7401c5-6b90-414e-bbff-24b33ef03577"
      },
      "source": [
        "metrics.accuracy_score(y_true=y_val,y_pred=predxgb2)"
      ],
      "execution_count": null,
      "outputs": [
        {
          "output_type": "execute_result",
          "data": {
            "text/plain": [
              "0.9515008598676324"
            ]
          },
          "metadata": {
            "tags": []
          },
          "execution_count": 80
        }
      ]
    },
    {
      "cell_type": "code",
      "metadata": {
        "colab": {
          "base_uri": "https://localhost:8080/"
        },
        "id": "wh05bkI9cuXj",
        "outputId": "e9489275-d56e-4e74-9f14-9c3b3ac8072d"
      },
      "source": [
        "print(confusion_matrix(y_val,predxgb2))\n",
        "print(classification_report(y_val,predxgb2))"
      ],
      "execution_count": null,
      "outputs": [
        {
          "output_type": "stream",
          "text": [
            "[[316042   1625]\n",
            " [ 16988  49125]]\n",
            "              precision    recall  f1-score   support\n",
            "\n",
            "           0       0.95      0.99      0.97    317667\n",
            "           1       0.97      0.74      0.84     66113\n",
            "\n",
            "    accuracy                           0.95    383780\n",
            "   macro avg       0.96      0.87      0.91    383780\n",
            "weighted avg       0.95      0.95      0.95    383780\n",
            "\n"
          ],
          "name": "stdout"
        }
      ]
    },
    {
      "cell_type": "code",
      "metadata": {
        "colab": {
          "base_uri": "https://localhost:8080/"
        },
        "id": "iFL5I5zcfxOn",
        "outputId": "3d9ff88a-b902-4d9c-d79b-d95ebe6c2caf"
      },
      "source": [
        "X_train.columns"
      ],
      "execution_count": null,
      "outputs": [
        {
          "output_type": "execute_result",
          "data": {
            "text/plain": [
              "Index(['TaxiOuttimeMinutes', 'DelayCarrierMinutes', 'DelayWeatherMinutes',\n",
              "       'DelayNationalAviationSystemMinutes', 'DelaySecurityMinutes',\n",
              "       'DelayLateAircraftArrivalMinutes', 'city', 'time'],\n",
              "      dtype='object')"
            ]
          },
          "metadata": {
            "tags": []
          },
          "execution_count": 82
        }
      ]
    },
    {
      "cell_type": "code",
      "metadata": {
        "id": "fTk9PH9Af2x9"
      },
      "source": [
        "from sklearn.tree import DecisionTreeClassifier, plot_tree\n",
        "from sklearn.ensemble import AdaBoostClassifier"
      ],
      "execution_count": null,
      "outputs": []
    },
    {
      "cell_type": "code",
      "metadata": {
        "id": "ZQLswp7HgpFU"
      },
      "source": [
        "def classification_models(X_train, y_train, X_val, y_val, hp = False, RandomForest = False, SVC_RBF = False, SVC_linear = False, SVC_polynomial = False, DT = False, AdaBoost = False):\n",
        "  \"\"\"\n",
        "Returns the model accuracy on train and validation data. Plots the confusion matrix and print classification reprt.\n",
        "      \n",
        "      Parameters:\n",
        "                  X_train (DataFrame): Train data excluding target variable (Shares)\n",
        "                  y_train (DataFrame): Target variable (Shares) of training set\n",
        "                  X_val (DataFrame): Validation data excluding target variable (Shares)\n",
        "                  y_val (DataFrame): Target variable (Shares) of validation set\n",
        "                  hp (boolean): Set true to fit model with best parameters\n",
        "                  RandomForest: Set true to fit the RandomForest model\n",
        "                  SVC_RBF:  Set true to fit the RBF kernel SVC model\n",
        "                  SVC_linear: Set true to fit the Linear kernel SVC model\n",
        "                  SVC_polynomial: Set true to fit the Polynomial kernel SVC model\n",
        "                  DT: Set true to fit the Decision tree model\n",
        "                  AdaBoost: Set true to fit the AdaBoost model\n",
        "  \"\"\"\n",
        "  if(hp == False):\n",
        "    if (RandomForest == True):\n",
        "      model = RandomForestClassifier()    # Fit default RandomForest model\n",
        "      model.fit(X_train, y_train)\n",
        "    elif (SVC_RBF == True):\n",
        "      model = SVC(kernel ='rbf')          # Fit default RBF kernel SVC model\n",
        "      model.fit(X_train, y_train)\n",
        "    elif (SVC_linear == True):\n",
        "      model = SVC(kernel ='linear')       # Fit default Linear kernel SVC model\n",
        "      model.fit(X_train, y_train)\n",
        "    elif (SVC_polynomial == True):\n",
        "      model = SVC(kernel ='poly')         # Fit default Polynomial kernel SVC model\n",
        "      model.fit(X_train, y_train)\n",
        "    elif (DT == True):\n",
        "      model = DecisionTreeClassifier()    # Fit default Decision tree model\n",
        "      model.fit(X_train, y_train)\n",
        "    elif (AdaBoost == True):              # Fit default AdaBoost model\n",
        "      model = AdaBoostClassifier()\n",
        "      model.fit(X_train, y_train)\n",
        "\n",
        "  else:\n",
        "    if (RandomForest == True):\n",
        "      max_depth_input = int(input('Enter max_depth: '))\n",
        "      min_samples_split_input = int(input('Enter min_samples_split: '))\n",
        "      \n",
        "      # Fit the RandomForest model with best parameters\n",
        "      model = RandomForestClassifier(max_depth = max_depth_input, min_samples_split = min_samples_split_input)\n",
        "      model.fit(X_train, y_train)   \n",
        "    elif (DT == True):\n",
        "      max_depth_input = int(input('Enter max_depth: '))\n",
        "      min_samples_split_input = int(input('Enter min_samples_split: '))\n",
        "\n",
        "      # Fit the RandomForest model with best parameters\n",
        "      model = DecisionTreeClassifier(max_depth = max_depth_input, min_samples_split = min_samples_split_input)\n",
        "      model.fit(X_train, y_train)\n",
        "    elif (AdaBoost == True):\n",
        "      learning_rate_input = float(input('Enter Optimal learning rate: '))\n",
        "\n",
        "      # Fit the AdaBoost classifier with optimal learning rate\n",
        "      model = AdaBoostClassifier(n_estimators=100, learning_rate=learning_rate_input)\n",
        "      model.fit(X_train, y_train)\n",
        "    else:\n",
        "      C_input = int(input('Enter optimal C value: '))\n",
        "      # Fit the SVC kernels with optimal C value\n",
        "      if (SVC_RBF == True):\n",
        "        model = SVC(kernel ='rbf', C = C_input)\n",
        "        model.fit(X_train, y_train)\n",
        "      elif (SVC_linear == True):\n",
        "        model = SVC(kernel ='linear', C = C_input)\n",
        "        model.fit(X_train, y_train)\n",
        "      elif (SVC_polynomial == True):\n",
        "        model = SVC(kernel ='poly', C = C_input)\n",
        "        model.fit(X_train, y_train)\n",
        "\n",
        "\n",
        "  model_pred_train = model.predict(X_train)  # Predict and calculate accuracy on train data\n",
        "  print('Accuracy score of train data: ', metrics.accuracy_score(y_true = y_train, y_pred = model_pred_train))\n",
        "  print('\\n')\n",
        "\n",
        "  model_pred_test = model.predict(X_val)    # Predict and calculate accuracy on validation data\n",
        "  print('Accuracy score of test data: ', metrics.accuracy_score(y_true = y_val, y_pred = model_pred_test))\n",
        "  print('-------------------------------------------------------------------------------------------------------------------')\n",
        "\n",
        "  #Confusion matrix\n",
        "  confusion_matrix =  pd.crosstab(index=y_val, columns=model_pred_test.ravel(), rownames=['Expected'], colnames=['Predicted'])\n",
        "  sns.heatmap(confusion_matrix, annot=True, square=False, fmt='', cbar=False)\n",
        "  print(confusion_matrix)\n",
        "  plt.title(\"Confusion Matrix for test data\", fontsize = 15)\n",
        "  plt.show()\n",
        "\n",
        "  # Print classification report\n",
        "  print('Classification report of default Random forest model: ')\n",
        "  print(metrics.classification_report(y_val, model_pred_test))\n",
        "\n",
        "\n",
        "\n",
        "def RandomForest_Hypermarameter(X_train, y_train, X_val, y_val):\n",
        "  \"\"\"\n",
        "  Computes the optimal max_depth and min_samples_split and call classification_models function to perform validation\n",
        "  \n",
        "        Parameters:\n",
        "                  X_train (DataFrame): Train data excluding target variable (Shares)\n",
        "                  y_train (DataFrame): Target variable (Shares) of training set\n",
        "                  X_val (DataFrame): Validation data excluding target variable (Shares)\n",
        "                  y_val (DataFrame): Target variable (Shares) of validation set\n",
        "  \"\"\"\n",
        "  RF_hp = RandomForestClassifier()\n",
        "  parameters = {\n",
        "    'max_depth': [2,4,6,8,10],\n",
        "    'min_samples_split': [8,10,12,14,16,20]\n",
        "  }\n",
        "  GSC = GridSearchCV(RF_hp, parameters, scoring = 'precision', n_jobs = -1)\n",
        "  GSC.fit(X_train, y_train)\n",
        "  print('Best parameters of RandomForest model: ', GSC.best_params_)\n",
        "  classification_models(X_train, y_train, X_val, y_val, hp = True, RandomForest = True)\n",
        "\n",
        "\n",
        "def SVC_Hypermarameter(X_train, y_train, X_val, y_val, RBF = False, linear = False, polynomial = False):\n",
        "  \"\"\"\n",
        "  Computes the optimal C value and call classification_models function to perform validation\n",
        "  \n",
        "        Parameters:\n",
        "                  X_train (DataFrame): Train data excluding target variable (Shares)\n",
        "                  y_train (DataFrame): Target variable (Shares) of training set\n",
        "                  X_val (DataFrame): Validation data excluding target variable (Shares)\n",
        "                  y_val (DataFrame): Target variable (Shares) of validation set\n",
        "                  RBF (Boolean): Set to True to perform hyperparameter tuning on RBF kernel SVC model\n",
        "                  linear (Boolean): Set to True to perform hyperparameter tuning on linear kernel SVC model\n",
        "                  polynomial (Boolean): Set to True to perform hyperparameter tuning on polynomial kernel SVC model\n",
        "\n",
        "  \"\"\"\n",
        "  selected = input('Select one of the three SVC models (RBF, Linear and Polynomial): ')\n",
        "  print('Selected SVC_{} model for hyperparameter tuning'.format(selected))\n",
        "  print('\\n')\n",
        "  if (RBF == True):\n",
        "    svc = SVC(kernel ='rbf')\n",
        "  elif (linear == True):\n",
        "    svc = SVC(kernel ='linear')\n",
        "  elif (polynomial == True):\n",
        "    svc = SVC(kernel ='poly')\n",
        "  parameters = {\n",
        "    'C': [0.01, 0.1, 5]\n",
        "  }\n",
        "  GSC = GridSearchCV(svc, parameters, scoring = 'precision', n_jobs = -1)\n",
        "  GSC.fit(X_train, y_train)\n",
        "  print('Best parameters for SVC_{}: {}'.format(selected, GSC.best_params_))\n",
        "  \n",
        "  if (RBF == True):\n",
        "    classification_models(X_train, y_train, X_val, y_val, hp = True, SVC_RBF = True)\n",
        "  elif (linear == True):\n",
        "    classification_models(X_train, y_train, X_val, y_val, hp = True, SVC_linear = True)\n",
        "  else:\n",
        "    classification_models(X_train, y_train, X_val, y_val, hp = True, SVC_polynomial = True)\n",
        "\n",
        "\n",
        "def Decision_Tree_model_hp(X_train, y_train, X_val, y_val):\n",
        "  \"\"\"\n",
        "  Computes the optimal max_depth and min_samples_split and call classification_models function to perform validation\n",
        "  \n",
        "        Parameters:\n",
        "                  X_train (DataFrame): Train data excluding target variable (Shares)\n",
        "                  y_train (DataFrame): Target variable (Shares) of training set\n",
        "                  X_val (DataFrame): Validation data excluding target variable (Shares)\n",
        "                  y_val (DataFrame): Target variable (Shares) of validation set\n",
        "\n",
        "  \"\"\"\n",
        "  DT_hp = DecisionTreeClassifier()\n",
        "  parameters = {\n",
        "    'max_depth': [2,4,6,8,10],\n",
        "    'min_samples_split': [8,10,12,14,16,20]\n",
        "  }\n",
        "  GSC = GridSearchCV(DT_hp, parameters, scoring = 'precision', n_jobs = -1)\n",
        "  GSC.fit(X_train, y_train)\n",
        "  print('Best parameters of Decision Trees model: ', GSC.best_params_)\n",
        "  classification_models(X_train, y_train, X_val, y_val, hp = True, DT = True)\n",
        "\n",
        "\n",
        "def AdaBoost_model_hp(X_train, y_train, X_val, y_val):\n",
        "  \"\"\"\n",
        "  Computes the optimal learning rate and call classification_models function to perform validation\n",
        "  \n",
        "        Parameters:\n",
        "                  X_train (DataFrame): Train data excluding target variable (Shares)\n",
        "                  y_train (DataFrame): Target variable (Shares) of training set\n",
        "                  X_val (DataFrame): Validation data excluding target variable (Shares)\n",
        "                  y_val (DataFrame): Target variable (Shares) of validation set\n",
        "\n",
        "  \"\"\"\n",
        "  AB_hp = AdaBoostClassifier()\n",
        "  parameters = {\n",
        "    'learning_rate': [0.0001, 0.001, 0.01, 0.1]\n",
        "}\n",
        "  GSC = GridSearchCV(AB_hp, parameters, scoring = 'precision', n_jobs = -1)\n",
        "  GSC.fit(X_train, y_train)\n",
        "  print('Best parameters of AdaBoost model: ', GSC.best_params_)\n",
        "  classification_models(X_train, y_train, X_val, y_val, hp = True, AdaBoost = True)"
      ],
      "execution_count": null,
      "outputs": []
    },
    {
      "cell_type": "code",
      "metadata": {
        "colab": {
          "base_uri": "https://localhost:8080/",
          "height": 616
        },
        "id": "gDkvlOuvhMjj",
        "outputId": "d1993533-e38a-4200-9af6-bbfe2e7c6e7e"
      },
      "source": [
        "classification_models(X_train, y_train, X_val, y_val, hp = False, DT = True)"
      ],
      "execution_count": null,
      "outputs": [
        {
          "output_type": "stream",
          "text": [
            "Accuracy score of train data:  0.9611641053014788\n",
            "\n",
            "\n",
            "Accuracy score of test data:  0.9464979936421909\n",
            "-------------------------------------------------------------------------------------------------------------------\n",
            "Predicted       0      1\n",
            "Expected                \n",
            "0          314571   3096\n",
            "1           17437  48676\n"
          ],
          "name": "stdout"
        },
        {
          "output_type": "display_data",
          "data": {
            "image/png": "[encoded data removed]",
            "text/plain": [
              "<Figure size 432x288 with 1 Axes>"
            ]
          },
          "metadata": {
            "tags": [],
            "needs_background": "light"
          }
        },
        {
          "output_type": "stream",
          "text": [
            "Classification report of default Random forest model: \n",
            "              precision    recall  f1-score   support\n",
            "\n",
            "           0       0.95      0.99      0.97    317667\n",
            "           1       0.94      0.74      0.83     66113\n",
            "\n",
            "    accuracy                           0.95    383780\n",
            "   macro avg       0.94      0.86      0.90    383780\n",
            "weighted avg       0.95      0.95      0.94    383780\n",
            "\n"
          ],
          "name": "stdout"
        }
      ]
    },
    {
      "cell_type": "code",
      "metadata": {
        "colab": {
          "base_uri": "https://localhost:8080/",
          "height": 616
        },
        "id": "_wDGVmtVhTfR",
        "outputId": "0d8a831f-b6e6-476a-900a-a05559608736"
      },
      "source": [
        "classification_models(X_train, y_train, X_val, y_val, hp = False, AdaBoost = True)"
      ],
      "execution_count": null,
      "outputs": [
        {
          "output_type": "stream",
          "text": [
            "Accuracy score of train data:  0.9467317188655099\n",
            "\n",
            "\n",
            "Accuracy score of test data:  0.9471025066444317\n",
            "-------------------------------------------------------------------------------------------------------------------\n",
            "Predicted       0      1\n",
            "Expected                \n",
            "0          315407   2260\n",
            "1           18041  48072\n"
          ],
          "name": "stdout"
        },
        {
          "output_type": "display_data",
          "data": {
            "image/png": "[encoded data removed]",
            "text/plain": [
              "<Figure size 432x288 with 1 Axes>"
            ]
          },
          "metadata": {
            "tags": [],
            "needs_background": "light"
          }
        },
        {
          "output_type": "stream",
          "text": [
            "Classification report of default Random forest model: \n",
            "              precision    recall  f1-score   support\n",
            "\n",
            "           0       0.95      0.99      0.97    317667\n",
            "           1       0.96      0.73      0.83     66113\n",
            "\n",
            "    accuracy                           0.95    383780\n",
            "   macro avg       0.95      0.86      0.90    383780\n",
            "weighted avg       0.95      0.95      0.94    383780\n",
            "\n"
          ],
          "name": "stdout"
        }
      ]
    },
    {
      "cell_type": "code",
      "metadata": {
        "colab": {
          "base_uri": "https://localhost:8080/",
          "height": 666
        },
        "id": "JoHJwWGBhllC",
        "outputId": "1346411f-6b4d-4144-c565-2433962cefca"
      },
      "source": [
        "Decision_Tree_model_hp(X_train, y_train, X_val, y_val)"
      ],
      "execution_count": null,
      "outputs": [
        {
          "output_type": "stream",
          "text": [
            "Best parameters of Decision Trees model:  {'max_depth': 8, 'min_samples_split': 12}\n",
            "Enter max_depth: 8\n",
            "Enter min_samples_split: 12\n",
            "Accuracy score of train data:  0.9495123318510842\n",
            "\n",
            "\n",
            "Accuracy score of test data:  0.9498123925165459\n",
            "-------------------------------------------------------------------------------------------------------------------\n",
            "Predicted       0      1\n",
            "Expected                \n",
            "0          316345   1322\n",
            "1           17939  48174\n"
          ],
          "name": "stdout"
        },
        {
          "output_type": "display_data",
          "data": {
            "image/png": "[encoded data removed]",
            "text/plain": [
              "<Figure size 432x288 with 1 Axes>"
            ]
          },
          "metadata": {
            "tags": [],
            "needs_background": "light"
          }
        },
        {
          "output_type": "stream",
          "text": [
            "Classification report of default Random forest model: \n",
            "              precision    recall  f1-score   support\n",
            "\n",
            "           0       0.95      1.00      0.97    317667\n",
            "           1       0.97      0.73      0.83     66113\n",
            "\n",
            "    accuracy                           0.95    383780\n",
            "   macro avg       0.96      0.86      0.90    383780\n",
            "weighted avg       0.95      0.95      0.95    383780\n",
            "\n"
          ],
          "name": "stdout"
        }
      ]
    },
    {
      "cell_type": "code",
      "metadata": {
        "colab": {
          "base_uri": "https://localhost:8080/",
          "height": 650
        },
        "id": "GwmFRahsiStG",
        "outputId": "e52abdb6-ba7e-4b42-edf3-2d62041d95f7"
      },
      "source": [
        "AdaBoost_model_hp(X_train, y_train, X_val, y_val)"
      ],
      "execution_count": null,
      "outputs": [
        {
          "output_type": "stream",
          "text": [
            "Best parameters of AdaBoost model:  {'learning_rate': 0.1}\n",
            "Enter Optimal learning rate: 0.1\n",
            "Accuracy score of train data:  0.9437020790944806\n",
            "\n",
            "\n",
            "Accuracy score of test data:  0.9441581114179999\n",
            "-------------------------------------------------------------------------------------------------------------------\n",
            "Predicted       0      1\n",
            "Expected                \n",
            "0          315658   2009\n",
            "1           19422  46691\n"
          ],
          "name": "stdout"
        },
        {
          "output_type": "display_data",
          "data": {
            "image/png": "[encoded data removed]",
            "text/plain": [
              "<Figure size 432x288 with 1 Axes>"
            ]
          },
          "metadata": {
            "tags": [],
            "needs_background": "light"
          }
        },
        {
          "output_type": "stream",
          "text": [
            "Classification report of default Random forest model: \n",
            "              precision    recall  f1-score   support\n",
            "\n",
            "           0       0.94      0.99      0.97    317667\n",
            "           1       0.96      0.71      0.81     66113\n",
            "\n",
            "    accuracy                           0.94    383780\n",
            "   macro avg       0.95      0.85      0.89    383780\n",
            "weighted avg       0.94      0.94      0.94    383780\n",
            "\n"
          ],
          "name": "stdout"
        }
      ]
    },
    {
      "cell_type": "code",
      "metadata": {
        "colab": {
          "base_uri": "https://localhost:8080/",
          "height": 666
        },
        "id": "KLFCR1S9lHdG",
        "outputId": "ff2ef23e-633c-4f29-a967-79cfcf49ec1d"
      },
      "source": [
        "RandomForest_Hypermarameter(X_train, y_train, X_val, y_val)"
      ],
      "execution_count": null,
      "outputs": [
        {
          "output_type": "stream",
          "text": [
            "Best parameters of RandomForest model:  {'max_depth': 10, 'min_samples_split': 8}\n",
            "Enter max_depth: 10\n",
            "Enter min_samples_split: 8\n",
            "Accuracy score of train data:  0.9501667251079302\n",
            "\n",
            "\n",
            "Accuracy score of test data:  0.9503647923289384\n",
            "-------------------------------------------------------------------------------------------------------------------\n",
            "Predicted       0      1\n",
            "Expected                \n",
            "0          316448   1219\n",
            "1           17830  48283\n"
          ],
          "name": "stdout"
        },
        {
          "output_type": "display_data",
          "data": {
            "image/png": "[encoded data removed]",
            "text/plain": [
              "<Figure size 432x288 with 1 Axes>"
            ]
          },
          "metadata": {
            "tags": [],
            "needs_background": "light"
          }
        },
        {
          "output_type": "stream",
          "text": [
            "Classification report of default Random forest model: \n",
            "              precision    recall  f1-score   support\n",
            "\n",
            "           0       0.95      1.00      0.97    317667\n",
            "           1       0.98      0.73      0.84     66113\n",
            "\n",
            "    accuracy                           0.95    383780\n",
            "   macro avg       0.96      0.86      0.90    383780\n",
            "weighted avg       0.95      0.95      0.95    383780\n",
            "\n"
          ],
          "name": "stdout"
        }
      ]
    }
  ]
}