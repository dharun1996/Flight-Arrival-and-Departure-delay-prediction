{
  "nbformat": 4,
  "nbformat_minor": 0,
  "metadata": {
    "colab": {
      "name": "Departure_Classifiaction_Dharun.ipynb",
      "provenance": []
    },
    "kernelspec": {
      "name": "python3",
      "display_name": "Python 3"
    },
    "language_info": {
      "name": "python"
    },
    "accelerator": "TPU"
  },
  "cells": [
    {
      "cell_type": "code",
      "metadata": {
        "id": "Xy3z4c7tGXCI"
      },
      "source": [
        "import numpy as np\n",
        "import matplotlib.pyplot as plt\n",
        "import seaborn as sns\n",
        "\n",
        "import sklearn\n",
        "sklearn.__version__\n",
        "\n",
        "from sklearn.model_selection import train_test_split\n",
        "from sklearn import metrics\n",
        "from sklearn.model_selection import RandomizedSearchCV\n",
        "from sklearn.model_selection import GridSearchCV\n",
        "\n",
        "from sklearn.linear_model import LogisticRegression\n",
        "from sklearn.linear_model import LinearRegression\n",
        "from sklearn.linear_model import Lasso\n",
        "from sklearn import metrics\n",
        "from sklearn.metrics import r2_score\n",
        "import math\n",
        "from sklearn.decomposition import PCA\n",
        "from sklearn.metrics import mean_squared_error\n",
        "from sklearn.svm import SVC\n",
        "from sklearn.svm import SVR"
      ],
      "execution_count": null,
      "outputs": []
    },
    {
      "cell_type": "code",
      "metadata": {
        "colab": {
          "base_uri": "https://localhost:8080/"
        },
        "id": "hZyiVW9NC5Ps",
        "outputId": "63adfcd8-7121-4a3b-c400-0e7c567b9b85"
      },
      "source": [
        "from google.colab import drive\n",
        "drive.mount('/content/gdrive')"
      ],
      "execution_count": null,
      "outputs": [
        {
          "output_type": "stream",
          "text": [
            "Mounted at /content/gdrive\n"
          ],
          "name": "stdout"
        }
      ]
    },
    {
      "cell_type": "code",
      "metadata": {
        "id": "1faGdaWRBfzT"
      },
      "source": [
        "import pandas as pd\n",
        "df=pd.read_csv('/content/gdrive/My Drive/DSC672/DATA/depart_non_cancelled.csv')\n"
      ],
      "execution_count": null,
      "outputs": []
    },
    {
      "cell_type": "code",
      "metadata": {
        "colab": {
          "base_uri": "https://localhost:8080/",
          "height": 613
        },
        "id": "eIebiEr4EdB_",
        "outputId": "e773032a-b9b4-4144-ff11-1bc575cd9e29"
      },
      "source": [
        "df"
      ],
      "execution_count": null,
      "outputs": [
        {
          "output_type": "execute_result",
          "data": {
            "text/html": [
              "<div>\n",
              "<style scoped>\n",
              "    .dataframe tbody tr th:only-of-type {\n",
              "        vertical-align: middle;\n",
              "    }\n",
              "\n",
              "    .dataframe tbody tr th {\n",
              "        vertical-align: top;\n",
              "    }\n",
              "\n",
              "    .dataframe thead th {\n",
              "        text-align: right;\n",
              "    }\n",
              "</style>\n",
              "<table border=\"1\" class=\"dataframe\">\n",
              "  <thead>\n",
              "    <tr style=\"text-align: right;\">\n",
              "      <th></th>\n",
              "      <th>date</th>\n",
              "      <th>FlightNumber</th>\n",
              "      <th>TailNumber</th>\n",
              "      <th>DestinationAirport</th>\n",
              "      <th>Scheduleddeparturetime</th>\n",
              "      <th>Actualdeparturetime</th>\n",
              "      <th>ScheduledelapsedtimeMinutes</th>\n",
              "      <th>ActualelapsedtimeMinutes</th>\n",
              "      <th>DeparturedelayMinutes</th>\n",
              "      <th>Wheelsofftime</th>\n",
              "      <th>TaxiOuttimeMinutes</th>\n",
              "      <th>DelayCarrierMinutes</th>\n",
              "      <th>DelayWeatherMinutes</th>\n",
              "      <th>DelayNationalAviationSystemMinutes</th>\n",
              "      <th>DelaySecurityMinutes</th>\n",
              "      <th>DelayLateAircraftArrivalMinutes</th>\n",
              "      <th>city</th>\n",
              "      <th>time</th>\n",
              "      <th>maxtempC</th>\n",
              "      <th>mintempC</th>\n",
              "      <th>totalSnow_cm</th>\n",
              "      <th>sunHour</th>\n",
              "      <th>uvIndex</th>\n",
              "      <th>moon_illumination</th>\n",
              "      <th>moonrise</th>\n",
              "      <th>moonset</th>\n",
              "      <th>sunrise</th>\n",
              "      <th>sunset</th>\n",
              "      <th>DewPointC</th>\n",
              "      <th>FeelsLikeC</th>\n",
              "      <th>HeatIndexC</th>\n",
              "      <th>WindChillC</th>\n",
              "      <th>WindGustKmph</th>\n",
              "      <th>cloudcover</th>\n",
              "      <th>humidity</th>\n",
              "      <th>precipMM</th>\n",
              "      <th>pressure</th>\n",
              "      <th>tempC</th>\n",
              "      <th>visibility</th>\n",
              "      <th>winddirDegree</th>\n",
              "      <th>windspeedKmph</th>\n",
              "    </tr>\n",
              "  </thead>\n",
              "  <tbody>\n",
              "    <tr>\n",
              "      <th>0</th>\n",
              "      <td>2016-01-01</td>\n",
              "      <td>325</td>\n",
              "      <td>N66831</td>\n",
              "      <td>IAD</td>\n",
              "      <td>13:53:00</td>\n",
              "      <td>13:58:00</td>\n",
              "      <td>132</td>\n",
              "      <td>122</td>\n",
              "      <td>5</td>\n",
              "      <td>14:10:00</td>\n",
              "      <td>12</td>\n",
              "      <td>0</td>\n",
              "      <td>0</td>\n",
              "      <td>0</td>\n",
              "      <td>0</td>\n",
              "      <td>0</td>\n",
              "      <td>33607</td>\n",
              "      <td>13</td>\n",
              "      <td>26</td>\n",
              "      <td>21</td>\n",
              "      <td>0.0</td>\n",
              "      <td>10.3</td>\n",
              "      <td>6</td>\n",
              "      <td>50</td>\n",
              "      <td>12:45 PM</td>\n",
              "      <td>1:04 PM</td>\n",
              "      <td>8:21 AM</td>\n",
              "      <td>6:46 PM</td>\n",
              "      <td>20</td>\n",
              "      <td>28</td>\n",
              "      <td>28</td>\n",
              "      <td>26</td>\n",
              "      <td>19</td>\n",
              "      <td>6</td>\n",
              "      <td>67</td>\n",
              "      <td>0.0</td>\n",
              "      <td>1018</td>\n",
              "      <td>26</td>\n",
              "      <td>10</td>\n",
              "      <td>244</td>\n",
              "      <td>14</td>\n",
              "    </tr>\n",
              "    <tr>\n",
              "      <th>1</th>\n",
              "      <td>2016-01-01</td>\n",
              "      <td>542</td>\n",
              "      <td>N521NK</td>\n",
              "      <td>ATL</td>\n",
              "      <td>13:36:00</td>\n",
              "      <td>14:19:00</td>\n",
              "      <td>86</td>\n",
              "      <td>88</td>\n",
              "      <td>43</td>\n",
              "      <td>14:32:00</td>\n",
              "      <td>13</td>\n",
              "      <td>8</td>\n",
              "      <td>0</td>\n",
              "      <td>2</td>\n",
              "      <td>0</td>\n",
              "      <td>35</td>\n",
              "      <td>33607</td>\n",
              "      <td>13</td>\n",
              "      <td>26</td>\n",
              "      <td>21</td>\n",
              "      <td>0.0</td>\n",
              "      <td>10.3</td>\n",
              "      <td>6</td>\n",
              "      <td>50</td>\n",
              "      <td>12:45 PM</td>\n",
              "      <td>1:04 PM</td>\n",
              "      <td>8:21 AM</td>\n",
              "      <td>6:46 PM</td>\n",
              "      <td>20</td>\n",
              "      <td>28</td>\n",
              "      <td>28</td>\n",
              "      <td>26</td>\n",
              "      <td>19</td>\n",
              "      <td>6</td>\n",
              "      <td>67</td>\n",
              "      <td>0.0</td>\n",
              "      <td>1018</td>\n",
              "      <td>26</td>\n",
              "      <td>10</td>\n",
              "      <td>244</td>\n",
              "      <td>14</td>\n",
              "    </tr>\n",
              "    <tr>\n",
              "      <th>2</th>\n",
              "      <td>2016-01-01</td>\n",
              "      <td>1373</td>\n",
              "      <td>N971DL</td>\n",
              "      <td>ATL</td>\n",
              "      <td>13:45:00</td>\n",
              "      <td>13:41:00</td>\n",
              "      <td>96</td>\n",
              "      <td>83</td>\n",
              "      <td>-4</td>\n",
              "      <td>13:52:00</td>\n",
              "      <td>11</td>\n",
              "      <td>0</td>\n",
              "      <td>0</td>\n",
              "      <td>0</td>\n",
              "      <td>0</td>\n",
              "      <td>0</td>\n",
              "      <td>33607</td>\n",
              "      <td>13</td>\n",
              "      <td>26</td>\n",
              "      <td>21</td>\n",
              "      <td>0.0</td>\n",
              "      <td>10.3</td>\n",
              "      <td>6</td>\n",
              "      <td>50</td>\n",
              "      <td>12:45 PM</td>\n",
              "      <td>1:04 PM</td>\n",
              "      <td>8:21 AM</td>\n",
              "      <td>6:46 PM</td>\n",
              "      <td>20</td>\n",
              "      <td>28</td>\n",
              "      <td>28</td>\n",
              "      <td>26</td>\n",
              "      <td>19</td>\n",
              "      <td>6</td>\n",
              "      <td>67</td>\n",
              "      <td>0.0</td>\n",
              "      <td>1018</td>\n",
              "      <td>26</td>\n",
              "      <td>10</td>\n",
              "      <td>244</td>\n",
              "      <td>14</td>\n",
              "    </tr>\n",
              "    <tr>\n",
              "      <th>3</th>\n",
              "      <td>2016-01-01</td>\n",
              "      <td>352</td>\n",
              "      <td>N75436</td>\n",
              "      <td>IAD</td>\n",
              "      <td>19:27:00</td>\n",
              "      <td>20:00:00</td>\n",
              "      <td>132</td>\n",
              "      <td>113</td>\n",
              "      <td>33</td>\n",
              "      <td>20:09:00</td>\n",
              "      <td>9</td>\n",
              "      <td>0</td>\n",
              "      <td>0</td>\n",
              "      <td>0</td>\n",
              "      <td>0</td>\n",
              "      <td>0</td>\n",
              "      <td>33607</td>\n",
              "      <td>19</td>\n",
              "      <td>26</td>\n",
              "      <td>21</td>\n",
              "      <td>0.0</td>\n",
              "      <td>10.3</td>\n",
              "      <td>6</td>\n",
              "      <td>50</td>\n",
              "      <td>12:45 PM</td>\n",
              "      <td>1:04 PM</td>\n",
              "      <td>8:21 AM</td>\n",
              "      <td>6:46 PM</td>\n",
              "      <td>20</td>\n",
              "      <td>22</td>\n",
              "      <td>24</td>\n",
              "      <td>22</td>\n",
              "      <td>27</td>\n",
              "      <td>51</td>\n",
              "      <td>90</td>\n",
              "      <td>0.0</td>\n",
              "      <td>1019</td>\n",
              "      <td>22</td>\n",
              "      <td>10</td>\n",
              "      <td>344</td>\n",
              "      <td>19</td>\n",
              "    </tr>\n",
              "    <tr>\n",
              "      <th>4</th>\n",
              "      <td>2016-01-01</td>\n",
              "      <td>871</td>\n",
              "      <td>N803AW</td>\n",
              "      <td>LAX</td>\n",
              "      <td>19:05:00</td>\n",
              "      <td>19:24:00</td>\n",
              "      <td>343</td>\n",
              "      <td>316</td>\n",
              "      <td>19</td>\n",
              "      <td>19:38:00</td>\n",
              "      <td>14</td>\n",
              "      <td>0</td>\n",
              "      <td>0</td>\n",
              "      <td>0</td>\n",
              "      <td>0</td>\n",
              "      <td>0</td>\n",
              "      <td>33607</td>\n",
              "      <td>19</td>\n",
              "      <td>26</td>\n",
              "      <td>21</td>\n",
              "      <td>0.0</td>\n",
              "      <td>10.3</td>\n",
              "      <td>6</td>\n",
              "      <td>50</td>\n",
              "      <td>12:45 PM</td>\n",
              "      <td>1:04 PM</td>\n",
              "      <td>8:21 AM</td>\n",
              "      <td>6:46 PM</td>\n",
              "      <td>20</td>\n",
              "      <td>22</td>\n",
              "      <td>24</td>\n",
              "      <td>22</td>\n",
              "      <td>27</td>\n",
              "      <td>51</td>\n",
              "      <td>90</td>\n",
              "      <td>0.0</td>\n",
              "      <td>1019</td>\n",
              "      <td>22</td>\n",
              "      <td>10</td>\n",
              "      <td>344</td>\n",
              "      <td>19</td>\n",
              "    </tr>\n",
              "    <tr>\n",
              "      <th>...</th>\n",
              "      <td>...</td>\n",
              "      <td>...</td>\n",
              "      <td>...</td>\n",
              "      <td>...</td>\n",
              "      <td>...</td>\n",
              "      <td>...</td>\n",
              "      <td>...</td>\n",
              "      <td>...</td>\n",
              "      <td>...</td>\n",
              "      <td>...</td>\n",
              "      <td>...</td>\n",
              "      <td>...</td>\n",
              "      <td>...</td>\n",
              "      <td>...</td>\n",
              "      <td>...</td>\n",
              "      <td>...</td>\n",
              "      <td>...</td>\n",
              "      <td>...</td>\n",
              "      <td>...</td>\n",
              "      <td>...</td>\n",
              "      <td>...</td>\n",
              "      <td>...</td>\n",
              "      <td>...</td>\n",
              "      <td>...</td>\n",
              "      <td>...</td>\n",
              "      <td>...</td>\n",
              "      <td>...</td>\n",
              "      <td>...</td>\n",
              "      <td>...</td>\n",
              "      <td>...</td>\n",
              "      <td>...</td>\n",
              "      <td>...</td>\n",
              "      <td>...</td>\n",
              "      <td>...</td>\n",
              "      <td>...</td>\n",
              "      <td>...</td>\n",
              "      <td>...</td>\n",
              "      <td>...</td>\n",
              "      <td>...</td>\n",
              "      <td>...</td>\n",
              "      <td>...</td>\n",
              "    </tr>\n",
              "    <tr>\n",
              "      <th>1279261</th>\n",
              "      <td>2020-12-31</td>\n",
              "      <td>454</td>\n",
              "      <td>N68842</td>\n",
              "      <td>IAD</td>\n",
              "      <td>23:00:00</td>\n",
              "      <td>22:49:00</td>\n",
              "      <td>298</td>\n",
              "      <td>304</td>\n",
              "      <td>-11</td>\n",
              "      <td>23:03:00</td>\n",
              "      <td>14</td>\n",
              "      <td>0</td>\n",
              "      <td>0</td>\n",
              "      <td>0</td>\n",
              "      <td>0</td>\n",
              "      <td>0</td>\n",
              "      <td>94128</td>\n",
              "      <td>23</td>\n",
              "      <td>13</td>\n",
              "      <td>10</td>\n",
              "      <td>0.0</td>\n",
              "      <td>9.8</td>\n",
              "      <td>3</td>\n",
              "      <td>89</td>\n",
              "      <td>7:41 PM</td>\n",
              "      <td>9:52 AM</td>\n",
              "      <td>8:24 AM</td>\n",
              "      <td>6:02 PM</td>\n",
              "      <td>9</td>\n",
              "      <td>10</td>\n",
              "      <td>11</td>\n",
              "      <td>10</td>\n",
              "      <td>11</td>\n",
              "      <td>12</td>\n",
              "      <td>82</td>\n",
              "      <td>0.0</td>\n",
              "      <td>1020</td>\n",
              "      <td>11</td>\n",
              "      <td>10</td>\n",
              "      <td>339</td>\n",
              "      <td>7</td>\n",
              "    </tr>\n",
              "    <tr>\n",
              "      <th>1279262</th>\n",
              "      <td>2020-12-31</td>\n",
              "      <td>505</td>\n",
              "      <td>N75428</td>\n",
              "      <td>IAH</td>\n",
              "      <td>0:16:00</td>\n",
              "      <td>0:14:00</td>\n",
              "      <td>218</td>\n",
              "      <td>230</td>\n",
              "      <td>-2</td>\n",
              "      <td>0:42:00</td>\n",
              "      <td>28</td>\n",
              "      <td>0</td>\n",
              "      <td>0</td>\n",
              "      <td>0</td>\n",
              "      <td>0</td>\n",
              "      <td>0</td>\n",
              "      <td>94128</td>\n",
              "      <td>0</td>\n",
              "      <td>13</td>\n",
              "      <td>10</td>\n",
              "      <td>0.0</td>\n",
              "      <td>9.8</td>\n",
              "      <td>3</td>\n",
              "      <td>89</td>\n",
              "      <td>7:41 PM</td>\n",
              "      <td>9:52 AM</td>\n",
              "      <td>8:24 AM</td>\n",
              "      <td>6:02 PM</td>\n",
              "      <td>9</td>\n",
              "      <td>9</td>\n",
              "      <td>11</td>\n",
              "      <td>9</td>\n",
              "      <td>22</td>\n",
              "      <td>87</td>\n",
              "      <td>86</td>\n",
              "      <td>0.1</td>\n",
              "      <td>1023</td>\n",
              "      <td>11</td>\n",
              "      <td>3</td>\n",
              "      <td>223</td>\n",
              "      <td>15</td>\n",
              "    </tr>\n",
              "    <tr>\n",
              "      <th>1279263</th>\n",
              "      <td>2020-12-31</td>\n",
              "      <td>1857</td>\n",
              "      <td>N57863</td>\n",
              "      <td>ORD</td>\n",
              "      <td>0:05:00</td>\n",
              "      <td>23:57:00</td>\n",
              "      <td>243</td>\n",
              "      <td>236</td>\n",
              "      <td>-8</td>\n",
              "      <td>0:11:00</td>\n",
              "      <td>14</td>\n",
              "      <td>0</td>\n",
              "      <td>0</td>\n",
              "      <td>0</td>\n",
              "      <td>0</td>\n",
              "      <td>0</td>\n",
              "      <td>94128</td>\n",
              "      <td>0</td>\n",
              "      <td>13</td>\n",
              "      <td>10</td>\n",
              "      <td>0.0</td>\n",
              "      <td>9.8</td>\n",
              "      <td>3</td>\n",
              "      <td>89</td>\n",
              "      <td>7:41 PM</td>\n",
              "      <td>9:52 AM</td>\n",
              "      <td>8:24 AM</td>\n",
              "      <td>6:02 PM</td>\n",
              "      <td>9</td>\n",
              "      <td>9</td>\n",
              "      <td>11</td>\n",
              "      <td>9</td>\n",
              "      <td>22</td>\n",
              "      <td>87</td>\n",
              "      <td>86</td>\n",
              "      <td>0.1</td>\n",
              "      <td>1023</td>\n",
              "      <td>11</td>\n",
              "      <td>3</td>\n",
              "      <td>223</td>\n",
              "      <td>15</td>\n",
              "    </tr>\n",
              "    <tr>\n",
              "      <th>1279264</th>\n",
              "      <td>2020-12-31</td>\n",
              "      <td>516</td>\n",
              "      <td>N73270</td>\n",
              "      <td>IAD</td>\n",
              "      <td>11:00:00</td>\n",
              "      <td>10:50:00</td>\n",
              "      <td>302</td>\n",
              "      <td>295</td>\n",
              "      <td>-10</td>\n",
              "      <td>11:09:00</td>\n",
              "      <td>19</td>\n",
              "      <td>0</td>\n",
              "      <td>0</td>\n",
              "      <td>0</td>\n",
              "      <td>0</td>\n",
              "      <td>0</td>\n",
              "      <td>94128</td>\n",
              "      <td>11</td>\n",
              "      <td>13</td>\n",
              "      <td>10</td>\n",
              "      <td>0.0</td>\n",
              "      <td>9.8</td>\n",
              "      <td>3</td>\n",
              "      <td>89</td>\n",
              "      <td>7:41 PM</td>\n",
              "      <td>9:52 AM</td>\n",
              "      <td>8:24 AM</td>\n",
              "      <td>6:02 PM</td>\n",
              "      <td>7</td>\n",
              "      <td>10</td>\n",
              "      <td>12</td>\n",
              "      <td>10</td>\n",
              "      <td>15</td>\n",
              "      <td>2</td>\n",
              "      <td>73</td>\n",
              "      <td>0.0</td>\n",
              "      <td>1022</td>\n",
              "      <td>12</td>\n",
              "      <td>10</td>\n",
              "      <td>158</td>\n",
              "      <td>12</td>\n",
              "    </tr>\n",
              "    <tr>\n",
              "      <th>1279265</th>\n",
              "      <td>2020-12-31</td>\n",
              "      <td>2264</td>\n",
              "      <td>N407UA</td>\n",
              "      <td>LAX</td>\n",
              "      <td>19:00:00</td>\n",
              "      <td>18:57:00</td>\n",
              "      <td>89</td>\n",
              "      <td>70</td>\n",
              "      <td>-3</td>\n",
              "      <td>19:09:00</td>\n",
              "      <td>12</td>\n",
              "      <td>0</td>\n",
              "      <td>0</td>\n",
              "      <td>0</td>\n",
              "      <td>0</td>\n",
              "      <td>0</td>\n",
              "      <td>94128</td>\n",
              "      <td>19</td>\n",
              "      <td>13</td>\n",
              "      <td>10</td>\n",
              "      <td>0.0</td>\n",
              "      <td>9.8</td>\n",
              "      <td>3</td>\n",
              "      <td>89</td>\n",
              "      <td>7:41 PM</td>\n",
              "      <td>9:52 AM</td>\n",
              "      <td>8:24 AM</td>\n",
              "      <td>6:02 PM</td>\n",
              "      <td>9</td>\n",
              "      <td>11</td>\n",
              "      <td>13</td>\n",
              "      <td>11</td>\n",
              "      <td>13</td>\n",
              "      <td>3</td>\n",
              "      <td>78</td>\n",
              "      <td>0.0</td>\n",
              "      <td>1019</td>\n",
              "      <td>12</td>\n",
              "      <td>10</td>\n",
              "      <td>312</td>\n",
              "      <td>11</td>\n",
              "    </tr>\n",
              "  </tbody>\n",
              "</table>\n",
              "<p>1279266 rows × 41 columns</p>\n",
              "</div>"
            ],
            "text/plain": [
              "               date  FlightNumber  ... winddirDegree windspeedKmph\n",
              "0        2016-01-01           325  ...           244            14\n",
              "1        2016-01-01           542  ...           244            14\n",
              "2        2016-01-01          1373  ...           244            14\n",
              "3        2016-01-01           352  ...           344            19\n",
              "4        2016-01-01           871  ...           344            19\n",
              "...             ...           ...  ...           ...           ...\n",
              "1279261  2020-12-31           454  ...           339             7\n",
              "1279262  2020-12-31           505  ...           223            15\n",
              "1279263  2020-12-31          1857  ...           223            15\n",
              "1279264  2020-12-31           516  ...           158            12\n",
              "1279265  2020-12-31          2264  ...           312            11\n",
              "\n",
              "[1279266 rows x 41 columns]"
            ]
          },
          "metadata": {
            "tags": []
          },
          "execution_count": 4
        }
      ]
    },
    {
      "cell_type": "code",
      "metadata": {
        "id": "m-hhk_EAEl-e"
      },
      "source": [
        "\n",
        "DNC_ne = df.drop(['date','DestinationAirport','TailNumber','FlightNumber', 'Scheduleddeparturetime', 'Actualdeparturetime', 'ScheduledelapsedtimeMinutes','TaxiOuttimeMinutes','city','time','maxtempC','mintempC','sunHour','ActualelapsedtimeMinutes', 'Wheelsofftime', 'moonrise', 'moonset','sunrise','sunset'], axis = 1)"
      ],
      "execution_count": null,
      "outputs": []
    },
    {
      "cell_type": "code",
      "metadata": {
        "colab": {
          "base_uri": "https://localhost:8080/"
        },
        "id": "J8eGWSizj6rj",
        "outputId": "72bda5bb-c452-4006-9401-ae8467ec8f2e"
      },
      "source": [
        "delay = DNC_ne['DeparturedelayMinutes'] > 14\n",
        "print(delay)"
      ],
      "execution_count": null,
      "outputs": [
        {
          "output_type": "stream",
          "text": [
            "0          False\n",
            "1           True\n",
            "2          False\n",
            "3           True\n",
            "4           True\n",
            "           ...  \n",
            "1279261    False\n",
            "1279262    False\n",
            "1279263    False\n",
            "1279264    False\n",
            "1279265    False\n",
            "Name: DeparturedelayMinutes, Length: 1279266, dtype: bool\n"
          ],
          "name": "stdout"
        }
      ]
    },
    {
      "cell_type": "code",
      "metadata": {
        "colab": {
          "base_uri": "https://localhost:8080/",
          "height": 441
        },
        "id": "CA1m_3J2n2PB",
        "outputId": "72343f67-522a-42ea-d2be-cb0df9f59e1f"
      },
      "source": [
        "DNC_new = DNC_ne[delay]\n",
        "DNC_new"
      ],
      "execution_count": null,
      "outputs": [
        {
          "output_type": "execute_result",
          "data": {
            "text/html": [
              "<div>\n",
              "<style scoped>\n",
              "    .dataframe tbody tr th:only-of-type {\n",
              "        vertical-align: middle;\n",
              "    }\n",
              "\n",
              "    .dataframe tbody tr th {\n",
              "        vertical-align: top;\n",
              "    }\n",
              "\n",
              "    .dataframe thead th {\n",
              "        text-align: right;\n",
              "    }\n",
              "</style>\n",
              "<table border=\"1\" class=\"dataframe\">\n",
              "  <thead>\n",
              "    <tr style=\"text-align: right;\">\n",
              "      <th></th>\n",
              "      <th>DeparturedelayMinutes</th>\n",
              "      <th>DelayCarrierMinutes</th>\n",
              "      <th>DelayWeatherMinutes</th>\n",
              "      <th>DelayNationalAviationSystemMinutes</th>\n",
              "      <th>DelaySecurityMinutes</th>\n",
              "      <th>DelayLateAircraftArrivalMinutes</th>\n",
              "      <th>totalSnow_cm</th>\n",
              "      <th>uvIndex</th>\n",
              "      <th>moon_illumination</th>\n",
              "      <th>DewPointC</th>\n",
              "      <th>FeelsLikeC</th>\n",
              "      <th>HeatIndexC</th>\n",
              "      <th>WindChillC</th>\n",
              "      <th>WindGustKmph</th>\n",
              "      <th>cloudcover</th>\n",
              "      <th>humidity</th>\n",
              "      <th>precipMM</th>\n",
              "      <th>pressure</th>\n",
              "      <th>tempC</th>\n",
              "      <th>visibility</th>\n",
              "      <th>winddirDegree</th>\n",
              "      <th>windspeedKmph</th>\n",
              "    </tr>\n",
              "  </thead>\n",
              "  <tbody>\n",
              "    <tr>\n",
              "      <th>1</th>\n",
              "      <td>43</td>\n",
              "      <td>8</td>\n",
              "      <td>0</td>\n",
              "      <td>2</td>\n",
              "      <td>0</td>\n",
              "      <td>35</td>\n",
              "      <td>0.0</td>\n",
              "      <td>6</td>\n",
              "      <td>50</td>\n",
              "      <td>20</td>\n",
              "      <td>28</td>\n",
              "      <td>28</td>\n",
              "      <td>26</td>\n",
              "      <td>19</td>\n",
              "      <td>6</td>\n",
              "      <td>67</td>\n",
              "      <td>0.0</td>\n",
              "      <td>1018</td>\n",
              "      <td>26</td>\n",
              "      <td>10</td>\n",
              "      <td>244</td>\n",
              "      <td>14</td>\n",
              "    </tr>\n",
              "    <tr>\n",
              "      <th>3</th>\n",
              "      <td>33</td>\n",
              "      <td>0</td>\n",
              "      <td>0</td>\n",
              "      <td>0</td>\n",
              "      <td>0</td>\n",
              "      <td>0</td>\n",
              "      <td>0.0</td>\n",
              "      <td>6</td>\n",
              "      <td>50</td>\n",
              "      <td>20</td>\n",
              "      <td>22</td>\n",
              "      <td>24</td>\n",
              "      <td>22</td>\n",
              "      <td>27</td>\n",
              "      <td>51</td>\n",
              "      <td>90</td>\n",
              "      <td>0.0</td>\n",
              "      <td>1019</td>\n",
              "      <td>22</td>\n",
              "      <td>10</td>\n",
              "      <td>344</td>\n",
              "      <td>19</td>\n",
              "    </tr>\n",
              "    <tr>\n",
              "      <th>4</th>\n",
              "      <td>19</td>\n",
              "      <td>0</td>\n",
              "      <td>0</td>\n",
              "      <td>0</td>\n",
              "      <td>0</td>\n",
              "      <td>0</td>\n",
              "      <td>0.0</td>\n",
              "      <td>6</td>\n",
              "      <td>50</td>\n",
              "      <td>20</td>\n",
              "      <td>22</td>\n",
              "      <td>24</td>\n",
              "      <td>22</td>\n",
              "      <td>27</td>\n",
              "      <td>51</td>\n",
              "      <td>90</td>\n",
              "      <td>0.0</td>\n",
              "      <td>1019</td>\n",
              "      <td>22</td>\n",
              "      <td>10</td>\n",
              "      <td>344</td>\n",
              "      <td>19</td>\n",
              "    </tr>\n",
              "    <tr>\n",
              "      <th>23</th>\n",
              "      <td>37</td>\n",
              "      <td>16</td>\n",
              "      <td>0</td>\n",
              "      <td>0</td>\n",
              "      <td>0</td>\n",
              "      <td>0</td>\n",
              "      <td>0.0</td>\n",
              "      <td>6</td>\n",
              "      <td>20</td>\n",
              "      <td>16</td>\n",
              "      <td>19</td>\n",
              "      <td>21</td>\n",
              "      <td>19</td>\n",
              "      <td>26</td>\n",
              "      <td>25</td>\n",
              "      <td>81</td>\n",
              "      <td>0.0</td>\n",
              "      <td>1022</td>\n",
              "      <td>19</td>\n",
              "      <td>10</td>\n",
              "      <td>134</td>\n",
              "      <td>17</td>\n",
              "    </tr>\n",
              "    <tr>\n",
              "      <th>31</th>\n",
              "      <td>18</td>\n",
              "      <td>0</td>\n",
              "      <td>0</td>\n",
              "      <td>0</td>\n",
              "      <td>0</td>\n",
              "      <td>0</td>\n",
              "      <td>0.0</td>\n",
              "      <td>6</td>\n",
              "      <td>20</td>\n",
              "      <td>18</td>\n",
              "      <td>21</td>\n",
              "      <td>23</td>\n",
              "      <td>21</td>\n",
              "      <td>12</td>\n",
              "      <td>4</td>\n",
              "      <td>81</td>\n",
              "      <td>0.0</td>\n",
              "      <td>1021</td>\n",
              "      <td>21</td>\n",
              "      <td>10</td>\n",
              "      <td>201</td>\n",
              "      <td>6</td>\n",
              "    </tr>\n",
              "    <tr>\n",
              "      <th>...</th>\n",
              "      <td>...</td>\n",
              "      <td>...</td>\n",
              "      <td>...</td>\n",
              "      <td>...</td>\n",
              "      <td>...</td>\n",
              "      <td>...</td>\n",
              "      <td>...</td>\n",
              "      <td>...</td>\n",
              "      <td>...</td>\n",
              "      <td>...</td>\n",
              "      <td>...</td>\n",
              "      <td>...</td>\n",
              "      <td>...</td>\n",
              "      <td>...</td>\n",
              "      <td>...</td>\n",
              "      <td>...</td>\n",
              "      <td>...</td>\n",
              "      <td>...</td>\n",
              "      <td>...</td>\n",
              "      <td>...</td>\n",
              "      <td>...</td>\n",
              "      <td>...</td>\n",
              "    </tr>\n",
              "    <tr>\n",
              "      <th>1279214</th>\n",
              "      <td>18</td>\n",
              "      <td>0</td>\n",
              "      <td>0</td>\n",
              "      <td>0</td>\n",
              "      <td>0</td>\n",
              "      <td>0</td>\n",
              "      <td>0.0</td>\n",
              "      <td>4</td>\n",
              "      <td>9</td>\n",
              "      <td>4</td>\n",
              "      <td>9</td>\n",
              "      <td>11</td>\n",
              "      <td>9</td>\n",
              "      <td>16</td>\n",
              "      <td>7</td>\n",
              "      <td>64</td>\n",
              "      <td>0.0</td>\n",
              "      <td>1014</td>\n",
              "      <td>11</td>\n",
              "      <td>10</td>\n",
              "      <td>78</td>\n",
              "      <td>14</td>\n",
              "    </tr>\n",
              "    <tr>\n",
              "      <th>1279215</th>\n",
              "      <td>28</td>\n",
              "      <td>23</td>\n",
              "      <td>0</td>\n",
              "      <td>0</td>\n",
              "      <td>0</td>\n",
              "      <td>0</td>\n",
              "      <td>0.0</td>\n",
              "      <td>4</td>\n",
              "      <td>9</td>\n",
              "      <td>4</td>\n",
              "      <td>9</td>\n",
              "      <td>11</td>\n",
              "      <td>9</td>\n",
              "      <td>16</td>\n",
              "      <td>7</td>\n",
              "      <td>64</td>\n",
              "      <td>0.0</td>\n",
              "      <td>1014</td>\n",
              "      <td>11</td>\n",
              "      <td>10</td>\n",
              "      <td>78</td>\n",
              "      <td>14</td>\n",
              "    </tr>\n",
              "    <tr>\n",
              "      <th>1279224</th>\n",
              "      <td>20</td>\n",
              "      <td>0</td>\n",
              "      <td>0</td>\n",
              "      <td>0</td>\n",
              "      <td>0</td>\n",
              "      <td>0</td>\n",
              "      <td>0.0</td>\n",
              "      <td>3</td>\n",
              "      <td>86</td>\n",
              "      <td>11</td>\n",
              "      <td>12</td>\n",
              "      <td>12</td>\n",
              "      <td>12</td>\n",
              "      <td>5</td>\n",
              "      <td>54</td>\n",
              "      <td>89</td>\n",
              "      <td>0.0</td>\n",
              "      <td>1021</td>\n",
              "      <td>12</td>\n",
              "      <td>10</td>\n",
              "      <td>181</td>\n",
              "      <td>4</td>\n",
              "    </tr>\n",
              "    <tr>\n",
              "      <th>1279228</th>\n",
              "      <td>15</td>\n",
              "      <td>0</td>\n",
              "      <td>0</td>\n",
              "      <td>0</td>\n",
              "      <td>0</td>\n",
              "      <td>0</td>\n",
              "      <td>0.0</td>\n",
              "      <td>3</td>\n",
              "      <td>86</td>\n",
              "      <td>7</td>\n",
              "      <td>14</td>\n",
              "      <td>14</td>\n",
              "      <td>14</td>\n",
              "      <td>6</td>\n",
              "      <td>60</td>\n",
              "      <td>61</td>\n",
              "      <td>0.0</td>\n",
              "      <td>1019</td>\n",
              "      <td>14</td>\n",
              "      <td>10</td>\n",
              "      <td>136</td>\n",
              "      <td>5</td>\n",
              "    </tr>\n",
              "    <tr>\n",
              "      <th>1279230</th>\n",
              "      <td>23</td>\n",
              "      <td>0</td>\n",
              "      <td>0</td>\n",
              "      <td>0</td>\n",
              "      <td>0</td>\n",
              "      <td>0</td>\n",
              "      <td>0.0</td>\n",
              "      <td>3</td>\n",
              "      <td>86</td>\n",
              "      <td>7</td>\n",
              "      <td>14</td>\n",
              "      <td>14</td>\n",
              "      <td>14</td>\n",
              "      <td>6</td>\n",
              "      <td>60</td>\n",
              "      <td>61</td>\n",
              "      <td>0.0</td>\n",
              "      <td>1019</td>\n",
              "      <td>14</td>\n",
              "      <td>10</td>\n",
              "      <td>136</td>\n",
              "      <td>5</td>\n",
              "    </tr>\n",
              "  </tbody>\n",
              "</table>\n",
              "<p>228084 rows × 22 columns</p>\n",
              "</div>"
            ],
            "text/plain": [
              "         DeparturedelayMinutes  ...  windspeedKmph\n",
              "1                           43  ...             14\n",
              "3                           33  ...             19\n",
              "4                           19  ...             19\n",
              "23                          37  ...             17\n",
              "31                          18  ...              6\n",
              "...                        ...  ...            ...\n",
              "1279214                     18  ...             14\n",
              "1279215                     28  ...             14\n",
              "1279224                     20  ...              4\n",
              "1279228                     15  ...              5\n",
              "1279230                     23  ...              5\n",
              "\n",
              "[228084 rows x 22 columns]"
            ]
          },
          "metadata": {
            "tags": []
          },
          "execution_count": 7
        }
      ]
    },
    {
      "cell_type": "code",
      "metadata": {
        "id": "BjsljOuOFVa4"
      },
      "source": [
        "from sklearn.preprocessing import StandardScaler as scaler\n",
        "data_scaled = scaler().fit_transform(DNC_new)\n",
        "\n",
        "data_scaled = pd.DataFrame(data_scaled)\n",
        "data_scaled.columns = DNC_new.columns\n"
      ],
      "execution_count": null,
      "outputs": []
    },
    {
      "cell_type": "code",
      "metadata": {
        "colab": {
          "base_uri": "https://localhost:8080/",
          "height": 441
        },
        "id": "PamydO2AFzjE",
        "outputId": "76048bb2-f55e-45c6-dbd0-ad4fc780b2ae"
      },
      "source": [
        "data_scaled "
      ],
      "execution_count": null,
      "outputs": [
        {
          "output_type": "execute_result",
          "data": {
            "text/html": [
              "<div>\n",
              "<style scoped>\n",
              "    .dataframe tbody tr th:only-of-type {\n",
              "        vertical-align: middle;\n",
              "    }\n",
              "\n",
              "    .dataframe tbody tr th {\n",
              "        vertical-align: top;\n",
              "    }\n",
              "\n",
              "    .dataframe thead th {\n",
              "        text-align: right;\n",
              "    }\n",
              "</style>\n",
              "<table border=\"1\" class=\"dataframe\">\n",
              "  <thead>\n",
              "    <tr style=\"text-align: right;\">\n",
              "      <th></th>\n",
              "      <th>DeparturedelayMinutes</th>\n",
              "      <th>DelayCarrierMinutes</th>\n",
              "      <th>DelayWeatherMinutes</th>\n",
              "      <th>DelayNationalAviationSystemMinutes</th>\n",
              "      <th>DelaySecurityMinutes</th>\n",
              "      <th>DelayLateAircraftArrivalMinutes</th>\n",
              "      <th>totalSnow_cm</th>\n",
              "      <th>uvIndex</th>\n",
              "      <th>moon_illumination</th>\n",
              "      <th>DewPointC</th>\n",
              "      <th>FeelsLikeC</th>\n",
              "      <th>HeatIndexC</th>\n",
              "      <th>WindChillC</th>\n",
              "      <th>WindGustKmph</th>\n",
              "      <th>cloudcover</th>\n",
              "      <th>humidity</th>\n",
              "      <th>precipMM</th>\n",
              "      <th>pressure</th>\n",
              "      <th>tempC</th>\n",
              "      <th>visibility</th>\n",
              "      <th>winddirDegree</th>\n",
              "      <th>windspeedKmph</th>\n",
              "    </tr>\n",
              "  </thead>\n",
              "  <tbody>\n",
              "    <tr>\n",
              "      <th>0</th>\n",
              "      <td>-0.307777</td>\n",
              "      <td>-0.180431</td>\n",
              "      <td>-0.122959</td>\n",
              "      <td>-0.351091</td>\n",
              "      <td>-0.030396</td>\n",
              "      <td>0.239729</td>\n",
              "      <td>-0.11173</td>\n",
              "      <td>0.583205</td>\n",
              "      <td>0.101575</td>\n",
              "      <td>0.994899</td>\n",
              "      <td>0.791630</td>\n",
              "      <td>0.803847</td>\n",
              "      <td>0.735516</td>\n",
              "      <td>0.170659</td>\n",
              "      <td>-0.843022</td>\n",
              "      <td>0.153997</td>\n",
              "      <td>-0.322487</td>\n",
              "      <td>0.346799</td>\n",
              "      <td>0.759741</td>\n",
              "      <td>0.455969</td>\n",
              "      <td>0.529181</td>\n",
              "      <td>0.198240</td>\n",
              "    </tr>\n",
              "    <tr>\n",
              "      <th>1</th>\n",
              "      <td>-0.429920</td>\n",
              "      <td>-0.321166</td>\n",
              "      <td>-0.122959</td>\n",
              "      <td>-0.398690</td>\n",
              "      <td>-0.030396</td>\n",
              "      <td>-0.445688</td>\n",
              "      <td>-0.11173</td>\n",
              "      <td>0.583205</td>\n",
              "      <td>0.101575</td>\n",
              "      <td>0.994899</td>\n",
              "      <td>0.293683</td>\n",
              "      <td>0.428211</td>\n",
              "      <td>0.381466</td>\n",
              "      <td>0.924444</td>\n",
              "      <td>0.494811</td>\n",
              "      <td>1.314426</td>\n",
              "      <td>-0.322487</td>\n",
              "      <td>0.508499</td>\n",
              "      <td>0.353045</td>\n",
              "      <td>0.455969</td>\n",
              "      <td>1.682274</td>\n",
              "      <td>0.898968</td>\n",
              "    </tr>\n",
              "    <tr>\n",
              "      <th>2</th>\n",
              "      <td>-0.600921</td>\n",
              "      <td>-0.321166</td>\n",
              "      <td>-0.122959</td>\n",
              "      <td>-0.398690</td>\n",
              "      <td>-0.030396</td>\n",
              "      <td>-0.445688</td>\n",
              "      <td>-0.11173</td>\n",
              "      <td>0.583205</td>\n",
              "      <td>0.101575</td>\n",
              "      <td>0.994899</td>\n",
              "      <td>0.293683</td>\n",
              "      <td>0.428211</td>\n",
              "      <td>0.381466</td>\n",
              "      <td>0.924444</td>\n",
              "      <td>0.494811</td>\n",
              "      <td>1.314426</td>\n",
              "      <td>-0.322487</td>\n",
              "      <td>0.508499</td>\n",
              "      <td>0.353045</td>\n",
              "      <td>0.455969</td>\n",
              "      <td>1.682274</td>\n",
              "      <td>0.898968</td>\n",
              "    </tr>\n",
              "    <tr>\n",
              "      <th>3</th>\n",
              "      <td>-0.381063</td>\n",
              "      <td>-0.039695</td>\n",
              "      <td>-0.122959</td>\n",
              "      <td>-0.398690</td>\n",
              "      <td>-0.030396</td>\n",
              "      <td>-0.445688</td>\n",
              "      <td>-0.11173</td>\n",
              "      <td>0.583205</td>\n",
              "      <td>-0.859325</td>\n",
              "      <td>0.574513</td>\n",
              "      <td>0.044710</td>\n",
              "      <td>0.146484</td>\n",
              "      <td>0.115928</td>\n",
              "      <td>0.830220</td>\n",
              "      <td>-0.278159</td>\n",
              "      <td>0.860345</td>\n",
              "      <td>-0.322487</td>\n",
              "      <td>0.993600</td>\n",
              "      <td>0.048022</td>\n",
              "      <td>0.455969</td>\n",
              "      <td>-0.739221</td>\n",
              "      <td>0.618677</td>\n",
              "    </tr>\n",
              "    <tr>\n",
              "      <th>4</th>\n",
              "      <td>-0.613135</td>\n",
              "      <td>-0.321166</td>\n",
              "      <td>-0.122959</td>\n",
              "      <td>-0.398690</td>\n",
              "      <td>-0.030396</td>\n",
              "      <td>-0.445688</td>\n",
              "      <td>-0.11173</td>\n",
              "      <td>0.583205</td>\n",
              "      <td>-0.859325</td>\n",
              "      <td>0.784706</td>\n",
              "      <td>0.210692</td>\n",
              "      <td>0.334302</td>\n",
              "      <td>0.292953</td>\n",
              "      <td>-0.488903</td>\n",
              "      <td>-0.902481</td>\n",
              "      <td>0.860345</td>\n",
              "      <td>-0.322487</td>\n",
              "      <td>0.831900</td>\n",
              "      <td>0.251371</td>\n",
              "      <td>0.455969</td>\n",
              "      <td>0.033351</td>\n",
              "      <td>-0.922924</td>\n",
              "    </tr>\n",
              "    <tr>\n",
              "      <th>...</th>\n",
              "      <td>...</td>\n",
              "      <td>...</td>\n",
              "      <td>...</td>\n",
              "      <td>...</td>\n",
              "      <td>...</td>\n",
              "      <td>...</td>\n",
              "      <td>...</td>\n",
              "      <td>...</td>\n",
              "      <td>...</td>\n",
              "      <td>...</td>\n",
              "      <td>...</td>\n",
              "      <td>...</td>\n",
              "      <td>...</td>\n",
              "      <td>...</td>\n",
              "      <td>...</td>\n",
              "      <td>...</td>\n",
              "      <td>...</td>\n",
              "      <td>...</td>\n",
              "      <td>...</td>\n",
              "      <td>...</td>\n",
              "      <td>...</td>\n",
              "      <td>...</td>\n",
              "    </tr>\n",
              "    <tr>\n",
              "      <th>228079</th>\n",
              "      <td>-0.613135</td>\n",
              "      <td>-0.321166</td>\n",
              "      <td>-0.122959</td>\n",
              "      <td>-0.398690</td>\n",
              "      <td>-0.030396</td>\n",
              "      <td>-0.445688</td>\n",
              "      <td>-0.11173</td>\n",
              "      <td>-0.470057</td>\n",
              "      <td>-1.211654</td>\n",
              "      <td>-0.686646</td>\n",
              "      <td>-0.785201</td>\n",
              "      <td>-0.792606</td>\n",
              "      <td>-0.769198</td>\n",
              "      <td>-0.112011</td>\n",
              "      <td>-0.813293</td>\n",
              "      <td>0.002637</td>\n",
              "      <td>-0.322487</td>\n",
              "      <td>-0.300002</td>\n",
              "      <td>-0.765371</td>\n",
              "      <td>0.455969</td>\n",
              "      <td>-1.384953</td>\n",
              "      <td>0.198240</td>\n",
              "    </tr>\n",
              "    <tr>\n",
              "      <th>228080</th>\n",
              "      <td>-0.490992</td>\n",
              "      <td>0.083449</td>\n",
              "      <td>-0.122959</td>\n",
              "      <td>-0.398690</td>\n",
              "      <td>-0.030396</td>\n",
              "      <td>-0.445688</td>\n",
              "      <td>-0.11173</td>\n",
              "      <td>-0.470057</td>\n",
              "      <td>-1.211654</td>\n",
              "      <td>-0.686646</td>\n",
              "      <td>-0.785201</td>\n",
              "      <td>-0.792606</td>\n",
              "      <td>-0.769198</td>\n",
              "      <td>-0.112011</td>\n",
              "      <td>-0.813293</td>\n",
              "      <td>0.002637</td>\n",
              "      <td>-0.322487</td>\n",
              "      <td>-0.300002</td>\n",
              "      <td>-0.765371</td>\n",
              "      <td>0.455969</td>\n",
              "      <td>-1.384953</td>\n",
              "      <td>0.198240</td>\n",
              "    </tr>\n",
              "    <tr>\n",
              "      <th>228081</th>\n",
              "      <td>-0.588707</td>\n",
              "      <td>-0.321166</td>\n",
              "      <td>-0.122959</td>\n",
              "      <td>-0.398690</td>\n",
              "      <td>-0.030396</td>\n",
              "      <td>-0.445688</td>\n",
              "      <td>-0.11173</td>\n",
              "      <td>-0.996688</td>\n",
              "      <td>1.254655</td>\n",
              "      <td>0.049030</td>\n",
              "      <td>-0.536228</td>\n",
              "      <td>-0.698697</td>\n",
              "      <td>-0.503660</td>\n",
              "      <td>-1.148465</td>\n",
              "      <td>0.584000</td>\n",
              "      <td>1.263973</td>\n",
              "      <td>-0.322487</td>\n",
              "      <td>0.831900</td>\n",
              "      <td>-0.663697</td>\n",
              "      <td>0.455969</td>\n",
              "      <td>-0.197267</td>\n",
              "      <td>-1.203215</td>\n",
              "    </tr>\n",
              "    <tr>\n",
              "      <th>228082</th>\n",
              "      <td>-0.649778</td>\n",
              "      <td>-0.321166</td>\n",
              "      <td>-0.122959</td>\n",
              "      <td>-0.398690</td>\n",
              "      <td>-0.030396</td>\n",
              "      <td>-0.445688</td>\n",
              "      <td>-0.11173</td>\n",
              "      <td>-0.996688</td>\n",
              "      <td>1.254655</td>\n",
              "      <td>-0.371356</td>\n",
              "      <td>-0.370246</td>\n",
              "      <td>-0.510879</td>\n",
              "      <td>-0.326635</td>\n",
              "      <td>-1.054242</td>\n",
              "      <td>0.762377</td>\n",
              "      <td>-0.148723</td>\n",
              "      <td>-0.322487</td>\n",
              "      <td>0.508499</td>\n",
              "      <td>-0.460348</td>\n",
              "      <td>0.455969</td>\n",
              "      <td>-0.716159</td>\n",
              "      <td>-1.063070</td>\n",
              "    </tr>\n",
              "    <tr>\n",
              "      <th>228083</th>\n",
              "      <td>-0.552064</td>\n",
              "      <td>-0.321166</td>\n",
              "      <td>-0.122959</td>\n",
              "      <td>-0.398690</td>\n",
              "      <td>-0.030396</td>\n",
              "      <td>-0.445688</td>\n",
              "      <td>-0.11173</td>\n",
              "      <td>-0.996688</td>\n",
              "      <td>1.254655</td>\n",
              "      <td>-0.371356</td>\n",
              "      <td>-0.370246</td>\n",
              "      <td>-0.510879</td>\n",
              "      <td>-0.326635</td>\n",
              "      <td>-1.054242</td>\n",
              "      <td>0.762377</td>\n",
              "      <td>-0.148723</td>\n",
              "      <td>-0.322487</td>\n",
              "      <td>0.508499</td>\n",
              "      <td>-0.460348</td>\n",
              "      <td>0.455969</td>\n",
              "      <td>-0.716159</td>\n",
              "      <td>-1.063070</td>\n",
              "    </tr>\n",
              "  </tbody>\n",
              "</table>\n",
              "<p>228084 rows × 22 columns</p>\n",
              "</div>"
            ],
            "text/plain": [
              "        DeparturedelayMinutes  ...  windspeedKmph\n",
              "0                   -0.307777  ...       0.198240\n",
              "1                   -0.429920  ...       0.898968\n",
              "2                   -0.600921  ...       0.898968\n",
              "3                   -0.381063  ...       0.618677\n",
              "4                   -0.613135  ...      -0.922924\n",
              "...                       ...  ...            ...\n",
              "228079              -0.613135  ...       0.198240\n",
              "228080              -0.490992  ...       0.198240\n",
              "228081              -0.588707  ...      -1.203215\n",
              "228082              -0.649778  ...      -1.063070\n",
              "228083              -0.552064  ...      -1.063070\n",
              "\n",
              "[228084 rows x 22 columns]"
            ]
          },
          "metadata": {
            "tags": []
          },
          "execution_count": 9
        }
      ]
    },
    {
      "cell_type": "code",
      "metadata": {
        "id": "Y75FqB-pjDTo"
      },
      "source": [
        "X = data_scaled.drop('DeparturedelayMinutes', axis=1)"
      ],
      "execution_count": null,
      "outputs": []
    },
    {
      "cell_type": "code",
      "metadata": {
        "id": "Gd2NXkMhjueC"
      },
      "source": [
        "y = data_scaled.DeparturedelayMinutes"
      ],
      "execution_count": null,
      "outputs": []
    },
    {
      "cell_type": "code",
      "metadata": {
        "id": "nXcS_0FRGADi"
      },
      "source": [
        "X_train, X_val, Y_train, Y_val = train_test_split(X,y,  test_size=0.30, random_state=50000)"
      ],
      "execution_count": null,
      "outputs": []
    },
    {
      "cell_type": "code",
      "metadata": {
        "colab": {
          "base_uri": "https://localhost:8080/",
          "height": 327
        },
        "id": "F2BDhOxwGbU_",
        "outputId": "84c58e40-3cd2-4355-b55b-7b4b6879ef27"
      },
      "source": [
        "data_scaled.to_csv('depREG.csv')"
      ],
      "execution_count": null,
      "outputs": [
        {
          "output_type": "error",
          "ename": "KeyboardInterrupt",
          "evalue": "ignored",
          "traceback": [
            "\u001b[0;31m---------------------------------------------------------------------------\u001b[0m",
            "\u001b[0;31mKeyboardInterrupt\u001b[0m                         Traceback (most recent call last)",
            "\u001b[0;32m<ipython-input-16-171e27534f22>\u001b[0m in \u001b[0;36m<module>\u001b[0;34m()\u001b[0m\n\u001b[0;32m----> 1\u001b[0;31m \u001b[0mdata_scaled\u001b[0m\u001b[0;34m.\u001b[0m\u001b[0mto_csv\u001b[0m\u001b[0;34m(\u001b[0m\u001b[0;34m'depREG.csv'\u001b[0m\u001b[0;34m)\u001b[0m\u001b[0;34m\u001b[0m\u001b[0;34m\u001b[0m\u001b[0m\n\u001b[0m",
            "\u001b[0;32m/usr/local/lib/python3.7/dist-packages/pandas/core/generic.py\u001b[0m in \u001b[0;36mto_csv\u001b[0;34m(self, path_or_buf, sep, na_rep, float_format, columns, header, index, index_label, mode, encoding, compression, quoting, quotechar, line_terminator, chunksize, date_format, doublequote, escapechar, decimal, errors)\u001b[0m\n\u001b[1;32m   3168\u001b[0m             \u001b[0mdecimal\u001b[0m\u001b[0;34m=\u001b[0m\u001b[0mdecimal\u001b[0m\u001b[0;34m,\u001b[0m\u001b[0;34m\u001b[0m\u001b[0;34m\u001b[0m\u001b[0m\n\u001b[1;32m   3169\u001b[0m         )\n\u001b[0;32m-> 3170\u001b[0;31m         \u001b[0mformatter\u001b[0m\u001b[0;34m.\u001b[0m\u001b[0msave\u001b[0m\u001b[0;34m(\u001b[0m\u001b[0;34m)\u001b[0m\u001b[0;34m\u001b[0m\u001b[0;34m\u001b[0m\u001b[0m\n\u001b[0m\u001b[1;32m   3171\u001b[0m \u001b[0;34m\u001b[0m\u001b[0m\n\u001b[1;32m   3172\u001b[0m         \u001b[0;32mif\u001b[0m \u001b[0mpath_or_buf\u001b[0m \u001b[0;32mis\u001b[0m \u001b[0;32mNone\u001b[0m\u001b[0;34m:\u001b[0m\u001b[0;34m\u001b[0m\u001b[0;34m\u001b[0m\u001b[0m\n",
            "\u001b[0;32m/usr/local/lib/python3.7/dist-packages/pandas/io/formats/csvs.py\u001b[0m in \u001b[0;36msave\u001b[0;34m(self)\u001b[0m\n\u001b[1;32m    204\u001b[0m             )\n\u001b[1;32m    205\u001b[0m \u001b[0;34m\u001b[0m\u001b[0m\n\u001b[0;32m--> 206\u001b[0;31m             \u001b[0mself\u001b[0m\u001b[0;34m.\u001b[0m\u001b[0m_save\u001b[0m\u001b[0;34m(\u001b[0m\u001b[0;34m)\u001b[0m\u001b[0;34m\u001b[0m\u001b[0;34m\u001b[0m\u001b[0m\n\u001b[0m\u001b[1;32m    207\u001b[0m \u001b[0;34m\u001b[0m\u001b[0m\n\u001b[1;32m    208\u001b[0m         \u001b[0;32mfinally\u001b[0m\u001b[0;34m:\u001b[0m\u001b[0;34m\u001b[0m\u001b[0;34m\u001b[0m\u001b[0m\n",
            "\u001b[0;32m/usr/local/lib/python3.7/dist-packages/pandas/io/formats/csvs.py\u001b[0m in \u001b[0;36m_save\u001b[0;34m(self)\u001b[0m\n\u001b[1;32m    326\u001b[0m                 \u001b[0;32mbreak\u001b[0m\u001b[0;34m\u001b[0m\u001b[0;34m\u001b[0m\u001b[0m\n\u001b[1;32m    327\u001b[0m \u001b[0;34m\u001b[0m\u001b[0m\n\u001b[0;32m--> 328\u001b[0;31m             \u001b[0mself\u001b[0m\u001b[0;34m.\u001b[0m\u001b[0m_save_chunk\u001b[0m\u001b[0;34m(\u001b[0m\u001b[0mstart_i\u001b[0m\u001b[0;34m,\u001b[0m \u001b[0mend_i\u001b[0m\u001b[0;34m)\u001b[0m\u001b[0;34m\u001b[0m\u001b[0;34m\u001b[0m\u001b[0m\n\u001b[0m\u001b[1;32m    329\u001b[0m \u001b[0;34m\u001b[0m\u001b[0m\n\u001b[1;32m    330\u001b[0m     \u001b[0;32mdef\u001b[0m \u001b[0m_save_chunk\u001b[0m\u001b[0;34m(\u001b[0m\u001b[0mself\u001b[0m\u001b[0;34m,\u001b[0m \u001b[0mstart_i\u001b[0m\u001b[0;34m:\u001b[0m \u001b[0mint\u001b[0m\u001b[0;34m,\u001b[0m \u001b[0mend_i\u001b[0m\u001b[0;34m:\u001b[0m \u001b[0mint\u001b[0m\u001b[0;34m)\u001b[0m \u001b[0;34m->\u001b[0m \u001b[0;32mNone\u001b[0m\u001b[0;34m:\u001b[0m\u001b[0;34m\u001b[0m\u001b[0;34m\u001b[0m\u001b[0m\n",
            "\u001b[0;32m/usr/local/lib/python3.7/dist-packages/pandas/io/formats/csvs.py\u001b[0m in \u001b[0;36m_save_chunk\u001b[0;34m(self, start_i, end_i)\u001b[0m\n\u001b[1;32m    344\u001b[0m                 \u001b[0mdecimal\u001b[0m\u001b[0;34m=\u001b[0m\u001b[0mself\u001b[0m\u001b[0;34m.\u001b[0m\u001b[0mdecimal\u001b[0m\u001b[0;34m,\u001b[0m\u001b[0;34m\u001b[0m\u001b[0;34m\u001b[0m\u001b[0m\n\u001b[1;32m    345\u001b[0m                 \u001b[0mdate_format\u001b[0m\u001b[0;34m=\u001b[0m\u001b[0mself\u001b[0m\u001b[0;34m.\u001b[0m\u001b[0mdate_format\u001b[0m\u001b[0;34m,\u001b[0m\u001b[0;34m\u001b[0m\u001b[0;34m\u001b[0m\u001b[0m\n\u001b[0;32m--> 346\u001b[0;31m                 \u001b[0mquoting\u001b[0m\u001b[0;34m=\u001b[0m\u001b[0mself\u001b[0m\u001b[0;34m.\u001b[0m\u001b[0mquoting\u001b[0m\u001b[0;34m,\u001b[0m\u001b[0;34m\u001b[0m\u001b[0;34m\u001b[0m\u001b[0m\n\u001b[0m\u001b[1;32m    347\u001b[0m             )\n\u001b[1;32m    348\u001b[0m \u001b[0;34m\u001b[0m\u001b[0m\n",
            "\u001b[0;32m/usr/local/lib/python3.7/dist-packages/pandas/core/internals/blocks.py\u001b[0m in \u001b[0;36mto_native_types\u001b[0;34m(self, na_rep, float_format, decimal, quoting, **kwargs)\u001b[0m\n\u001b[1;32m   1949\u001b[0m \u001b[0;34m\u001b[0m\u001b[0m\n\u001b[1;32m   1950\u001b[0m             \u001b[0;32mif\u001b[0m \u001b[0;32mnot\u001b[0m \u001b[0mquoting\u001b[0m\u001b[0;34m:\u001b[0m\u001b[0;34m\u001b[0m\u001b[0;34m\u001b[0m\u001b[0m\n\u001b[0;32m-> 1951\u001b[0;31m                 \u001b[0mvalues\u001b[0m \u001b[0;34m=\u001b[0m \u001b[0mvalues\u001b[0m\u001b[0;34m.\u001b[0m\u001b[0mastype\u001b[0m\u001b[0;34m(\u001b[0m\u001b[0mstr\u001b[0m\u001b[0;34m)\u001b[0m\u001b[0;34m\u001b[0m\u001b[0;34m\u001b[0m\u001b[0m\n\u001b[0m\u001b[1;32m   1952\u001b[0m             \u001b[0;32melse\u001b[0m\u001b[0;34m:\u001b[0m\u001b[0;34m\u001b[0m\u001b[0;34m\u001b[0m\u001b[0m\n\u001b[1;32m   1953\u001b[0m                 \u001b[0mvalues\u001b[0m \u001b[0;34m=\u001b[0m \u001b[0mnp\u001b[0m\u001b[0;34m.\u001b[0m\u001b[0marray\u001b[0m\u001b[0;34m(\u001b[0m\u001b[0mvalues\u001b[0m\u001b[0;34m,\u001b[0m \u001b[0mdtype\u001b[0m\u001b[0;34m=\u001b[0m\u001b[0;34m\"object\"\u001b[0m\u001b[0;34m)\u001b[0m\u001b[0;34m\u001b[0m\u001b[0;34m\u001b[0m\u001b[0m\n",
            "\u001b[0;31mKeyboardInterrupt\u001b[0m: "
          ]
        }
      ]
    },
    {
      "cell_type": "code",
      "metadata": {
        "id": "Fwv5H6TupKI1"
      },
      "source": [
        "X_train.to_csv('DEPregTrNS.csv')"
      ],
      "execution_count": null,
      "outputs": []
    },
    {
      "cell_type": "code",
      "metadata": {
        "id": "Q-pM2YkSr9QC"
      },
      "source": [
        "X_val.to_csv('DEPregValNS.csv')"
      ],
      "execution_count": null,
      "outputs": []
    },
    {
      "cell_type": "code",
      "metadata": {
        "id": "xBwCqmFVsE-7"
      },
      "source": [
        "from sklearn.datasets import make_regression\n",
        "from sklearn.ensemble import ExtraTreesRegressor"
      ],
      "execution_count": null,
      "outputs": []
    },
    {
      "cell_type": "code",
      "metadata": {
        "colab": {
          "base_uri": "https://localhost:8080/"
        },
        "id": "h1lnUukl2hzx",
        "outputId": "8986f717-b7c6-4107-e940-fc4e2fffd1e6"
      },
      "source": [
        "model = ExtraTreesRegressor()\n",
        "model.fit(X_train, Y_train)"
      ],
      "execution_count": null,
      "outputs": [
        {
          "output_type": "execute_result",
          "data": {
            "text/plain": [
              "ExtraTreesRegressor(bootstrap=False, ccp_alpha=0.0, criterion='mse',\n",
              "                    max_depth=None, max_features='auto', max_leaf_nodes=None,\n",
              "                    max_samples=None, min_impurity_decrease=0.0,\n",
              "                    min_impurity_split=None, min_samples_leaf=1,\n",
              "                    min_samples_split=2, min_weight_fraction_leaf=0.0,\n",
              "                    n_estimators=100, n_jobs=None, oob_score=False,\n",
              "                    random_state=None, verbose=0, warm_start=False)"
            ]
          },
          "metadata": {
            "tags": []
          },
          "execution_count": 18
        }
      ]
    },
    {
      "cell_type": "code",
      "metadata": {
        "colab": {
          "base_uri": "https://localhost:8080/"
        },
        "id": "NEH-fNRA2p8k",
        "outputId": "5bcc9ed5-8b8e-4c20-95d5-a4f523a63ce6"
      },
      "source": [
        "model.predict(X_train)"
      ],
      "execution_count": null,
      "outputs": [
        {
          "output_type": "execute_result",
          "data": {
            "text/plain": [
              "array([ 2.90459741,  0.26629783,  0.96251577, ..., -0.38106272,\n",
              "        0.64494267,  0.63272832])"
            ]
          },
          "metadata": {
            "tags": []
          },
          "execution_count": 55
        }
      ]
    },
    {
      "cell_type": "code",
      "metadata": {
        "colab": {
          "base_uri": "https://localhost:8080/"
        },
        "id": "U2v-F3C24FsT",
        "outputId": "91440d10-fdef-4451-dc2d-6585f4b5938c"
      },
      "source": [
        "model.predict(X_val)"
      ],
      "execution_count": null,
      "outputs": [
        {
          "output_type": "execute_result",
          "data": {
            "text/plain": [
              "array([ 0.84489158, -0.33000674, -0.25659849, ..., -0.55747865,\n",
              "        0.56994657, -0.54754431])"
            ]
          },
          "metadata": {
            "tags": []
          },
          "execution_count": 56
        }
      ]
    },
    {
      "cell_type": "code",
      "metadata": {
        "colab": {
          "base_uri": "https://localhost:8080/"
        },
        "id": "gXW8dBOE4Jfr",
        "outputId": "a22c85b0-d120-4bce-9bf5-cce44c6f73aa"
      },
      "source": [
        "model.score(X_train, Y_train)"
      ],
      "execution_count": null,
      "outputs": [
        {
          "output_type": "execute_result",
          "data": {
            "text/plain": [
              "0.998064827395674"
            ]
          },
          "metadata": {
            "tags": []
          },
          "execution_count": 19
        }
      ]
    },
    {
      "cell_type": "code",
      "metadata": {
        "colab": {
          "base_uri": "https://localhost:8080/"
        },
        "id": "3A3ycODg4T_a",
        "outputId": "96b078f1-d85e-40eb-c5d9-d6d4d8a34531"
      },
      "source": [
        "model.score(X_val, Y_val)"
      ],
      "execution_count": null,
      "outputs": [
        {
          "output_type": "execute_result",
          "data": {
            "text/plain": [
              "0.9507211351295477"
            ]
          },
          "metadata": {
            "tags": []
          },
          "execution_count": 58
        }
      ]
    },
    {
      "cell_type": "code",
      "metadata": {
        "id": "-F6PZLvAOKkF"
      },
      "source": [
        "from sklearn.ensemble import RandomForestRegressor"
      ],
      "execution_count": null,
      "outputs": []
    },
    {
      "cell_type": "code",
      "metadata": {
        "id": "cXvXXuG_g0cO"
      },
      "source": [
        "model2 = RandomForestRegressor()"
      ],
      "execution_count": null,
      "outputs": []
    },
    {
      "cell_type": "code",
      "metadata": {
        "colab": {
          "base_uri": "https://localhost:8080/"
        },
        "id": "1aL1h4nIhDzW",
        "outputId": "1c7ae4bf-fccc-44e3-8f7e-6b2daa46703e"
      },
      "source": [
        "model2.fit(X_train,Y_train)"
      ],
      "execution_count": null,
      "outputs": [
        {
          "output_type": "execute_result",
          "data": {
            "text/plain": [
              "RandomForestRegressor(bootstrap=True, ccp_alpha=0.0, criterion='mse',\n",
              "                      max_depth=None, max_features='auto', max_leaf_nodes=None,\n",
              "                      max_samples=None, min_impurity_decrease=0.0,\n",
              "                      min_impurity_split=None, min_samples_leaf=1,\n",
              "                      min_samples_split=2, min_weight_fraction_leaf=0.0,\n",
              "                      n_estimators=100, n_jobs=None, oob_score=False,\n",
              "                      random_state=None, verbose=0, warm_start=False)"
            ]
          },
          "metadata": {
            "tags": []
          },
          "execution_count": 22
        }
      ]
    },
    {
      "cell_type": "code",
      "metadata": {
        "colab": {
          "base_uri": "https://localhost:8080/"
        },
        "id": "WCwVuNpvhJBz",
        "outputId": "2521a8e7-19ee-45a6-94b2-0e0e2af57ee5"
      },
      "source": [
        "model2.score(X_train, Y_train)"
      ],
      "execution_count": null,
      "outputs": [
        {
          "output_type": "execute_result",
          "data": {
            "text/plain": [
              "0.9922529345555433"
            ]
          },
          "metadata": {
            "tags": []
          },
          "execution_count": 23
        }
      ]
    },
    {
      "cell_type": "code",
      "metadata": {
        "colab": {
          "base_uri": "https://localhost:8080/"
        },
        "id": "6Mk3g0TvhQYS",
        "outputId": "5181f8a7-5ebc-4719-8728-8924f992bfad"
      },
      "source": [
        "model2.score(X_val, Y_val)"
      ],
      "execution_count": null,
      "outputs": [
        {
          "output_type": "execute_result",
          "data": {
            "text/plain": [
              "0.9505434590352292"
            ]
          },
          "metadata": {
            "tags": []
          },
          "execution_count": 24
        }
      ]
    },
    {
      "cell_type": "code",
      "metadata": {
        "colab": {
          "base_uri": "https://localhost:8080/"
        },
        "id": "D8Kki8DJicH0",
        "outputId": "b43ded39-3a68-451b-ee13-27790d88ff98"
      },
      "source": [
        " random_grid = {'n_estimators': [5, 50, 100, 200, 400], 'max_features': ['auto', 'sqrt'], 'max_depth': [2, 6, 8, 10]}"
      ],
      "execution_count": null,
      "outputs": [
        {
          "output_type": "stream",
          "text": [
            "{'n_estimators': [5, 50, 100, 200, 400], 'max_features': ['auto', 'sqrt'], 'max_depth': [2, 6, 8, 10]}\n"
          ],
          "name": "stdout"
        }
      ]
    },
    {
      "cell_type": "code",
      "metadata": {
        "colab": {
          "base_uri": "https://localhost:8080/"
        },
        "id": "M_zyPh-akdA6",
        "outputId": "b6849ea7-2c18-499e-cf12-afd31b717bb0"
      },
      "source": [
        "rf = RandomForestRegressor()\n",
        "# Random search of parameters, using 3 fold cross validation, \n",
        "# search across 100 different combinations, and use all available cores\n",
        "rf_random = RandomizedSearchCV(estimator = rf, param_distributions = random_grid, n_iter = 50 , cv= 3, verbose=2, random_state=42)\n",
        "# Fit the random search model\n",
        "rf_random.fit(X_val,Y_val)"
      ],
      "execution_count": null,
      "outputs": [
        {
          "output_type": "stream",
          "text": [
            "/usr/local/lib/python3.7/dist-packages/sklearn/model_selection/_search.py:281: UserWarning: The total space of parameters 40 is smaller than n_iter=50. Running 40 iterations. For exhaustive searches, use GridSearchCV.\n",
            "  % (grid_size, self.n_iter, grid_size), UserWarning)\n",
            "[Parallel(n_jobs=1)]: Using backend SequentialBackend with 1 concurrent workers.\n"
          ],
          "name": "stderr"
        },
        {
          "output_type": "stream",
          "text": [
            "Fitting 3 folds for each of 40 candidates, totalling 120 fits\n",
            "[CV] n_estimators=5, max_features=auto, max_depth=2 ..................\n",
            "[CV] ... n_estimators=5, max_features=auto, max_depth=2, total=   0.2s\n",
            "[CV] n_estimators=5, max_features=auto, max_depth=2 ..................\n"
          ],
          "name": "stdout"
        },
        {
          "output_type": "stream",
          "text": [
            "[Parallel(n_jobs=1)]: Done   1 out of   1 | elapsed:    0.2s remaining:    0.0s\n"
          ],
          "name": "stderr"
        },
        {
          "output_type": "stream",
          "text": [
            "[CV] ... n_estimators=5, max_features=auto, max_depth=2, total=   0.2s\n",
            "[CV] n_estimators=5, max_features=auto, max_depth=2 ..................\n",
            "[CV] ... n_estimators=5, max_features=auto, max_depth=2, total=   0.2s\n",
            "[CV] n_estimators=50, max_features=auto, max_depth=2 .................\n",
            "[CV] .. n_estimators=50, max_features=auto, max_depth=2, total=   2.1s\n",
            "[CV] n_estimators=50, max_features=auto, max_depth=2 .................\n",
            "[CV] .. n_estimators=50, max_features=auto, max_depth=2, total=   2.1s\n",
            "[CV] n_estimators=50, max_features=auto, max_depth=2 .................\n",
            "[CV] .. n_estimators=50, max_features=auto, max_depth=2, total=   2.1s\n",
            "[CV] n_estimators=100, max_features=auto, max_depth=2 ................\n",
            "[CV] . n_estimators=100, max_features=auto, max_depth=2, total=   4.2s\n",
            "[CV] n_estimators=100, max_features=auto, max_depth=2 ................\n",
            "[CV] . n_estimators=100, max_features=auto, max_depth=2, total=   4.1s\n",
            "[CV] n_estimators=100, max_features=auto, max_depth=2 ................\n",
            "[CV] . n_estimators=100, max_features=auto, max_depth=2, total=   4.1s\n",
            "[CV] n_estimators=200, max_features=auto, max_depth=2 ................\n",
            "[CV] . n_estimators=200, max_features=auto, max_depth=2, total=   8.2s\n",
            "[CV] n_estimators=200, max_features=auto, max_depth=2 ................\n",
            "[CV] . n_estimators=200, max_features=auto, max_depth=2, total=   8.2s\n",
            "[CV] n_estimators=200, max_features=auto, max_depth=2 ................\n",
            "[CV] . n_estimators=200, max_features=auto, max_depth=2, total=   8.2s\n",
            "[CV] n_estimators=400, max_features=auto, max_depth=2 ................\n",
            "[CV] . n_estimators=400, max_features=auto, max_depth=2, total=  16.4s\n",
            "[CV] n_estimators=400, max_features=auto, max_depth=2 ................\n",
            "[CV] . n_estimators=400, max_features=auto, max_depth=2, total=  16.4s\n",
            "[CV] n_estimators=400, max_features=auto, max_depth=2 ................\n",
            "[CV] . n_estimators=400, max_features=auto, max_depth=2, total=  16.5s\n",
            "[CV] n_estimators=5, max_features=sqrt, max_depth=2 ..................\n",
            "[CV] ... n_estimators=5, max_features=sqrt, max_depth=2, total=   0.1s\n",
            "[CV] n_estimators=5, max_features=sqrt, max_depth=2 ..................\n",
            "[CV] ... n_estimators=5, max_features=sqrt, max_depth=2, total=   0.1s\n",
            "[CV] n_estimators=5, max_features=sqrt, max_depth=2 ..................\n",
            "[CV] ... n_estimators=5, max_features=sqrt, max_depth=2, total=   0.1s\n",
            "[CV] n_estimators=50, max_features=sqrt, max_depth=2 .................\n",
            "[CV] .. n_estimators=50, max_features=sqrt, max_depth=2, total=   0.6s\n",
            "[CV] n_estimators=50, max_features=sqrt, max_depth=2 .................\n",
            "[CV] .. n_estimators=50, max_features=sqrt, max_depth=2, total=   0.6s\n",
            "[CV] n_estimators=50, max_features=sqrt, max_depth=2 .................\n",
            "[CV] .. n_estimators=50, max_features=sqrt, max_depth=2, total=   0.6s\n",
            "[CV] n_estimators=100, max_features=sqrt, max_depth=2 ................\n",
            "[CV] . n_estimators=100, max_features=sqrt, max_depth=2, total=   1.1s\n",
            "[CV] n_estimators=100, max_features=sqrt, max_depth=2 ................\n",
            "[CV] . n_estimators=100, max_features=sqrt, max_depth=2, total=   1.2s\n",
            "[CV] n_estimators=100, max_features=sqrt, max_depth=2 ................\n",
            "[CV] . n_estimators=100, max_features=sqrt, max_depth=2, total=   1.1s\n",
            "[CV] n_estimators=200, max_features=sqrt, max_depth=2 ................\n",
            "[CV] . n_estimators=200, max_features=sqrt, max_depth=2, total=   2.3s\n",
            "[CV] n_estimators=200, max_features=sqrt, max_depth=2 ................\n",
            "[CV] . n_estimators=200, max_features=sqrt, max_depth=2, total=   2.3s\n",
            "[CV] n_estimators=200, max_features=sqrt, max_depth=2 ................\n",
            "[CV] . n_estimators=200, max_features=sqrt, max_depth=2, total=   2.3s\n",
            "[CV] n_estimators=400, max_features=sqrt, max_depth=2 ................\n",
            "[CV] . n_estimators=400, max_features=sqrt, max_depth=2, total=   4.6s\n",
            "[CV] n_estimators=400, max_features=sqrt, max_depth=2 ................\n",
            "[CV] . n_estimators=400, max_features=sqrt, max_depth=2, total=   4.6s\n",
            "[CV] n_estimators=400, max_features=sqrt, max_depth=2 ................\n",
            "[CV] . n_estimators=400, max_features=sqrt, max_depth=2, total=   4.6s\n",
            "[CV] n_estimators=5, max_features=auto, max_depth=6 ..................\n",
            "[CV] ... n_estimators=5, max_features=auto, max_depth=6, total=   0.6s\n",
            "[CV] n_estimators=5, max_features=auto, max_depth=6 ..................\n",
            "[CV] ... n_estimators=5, max_features=auto, max_depth=6, total=   0.6s\n",
            "[CV] n_estimators=5, max_features=auto, max_depth=6 ..................\n",
            "[CV] ... n_estimators=5, max_features=auto, max_depth=6, total=   0.6s\n",
            "[CV] n_estimators=50, max_features=auto, max_depth=6 .................\n",
            "[CV] .. n_estimators=50, max_features=auto, max_depth=6, total=   5.9s\n",
            "[CV] n_estimators=50, max_features=auto, max_depth=6 .................\n",
            "[CV] .. n_estimators=50, max_features=auto, max_depth=6, total=   5.9s\n",
            "[CV] n_estimators=50, max_features=auto, max_depth=6 .................\n",
            "[CV] .. n_estimators=50, max_features=auto, max_depth=6, total=   6.0s\n",
            "[CV] n_estimators=100, max_features=auto, max_depth=6 ................\n",
            "[CV] . n_estimators=100, max_features=auto, max_depth=6, total=  11.9s\n",
            "[CV] n_estimators=100, max_features=auto, max_depth=6 ................\n",
            "[CV] . n_estimators=100, max_features=auto, max_depth=6, total=  11.9s\n",
            "[CV] n_estimators=100, max_features=auto, max_depth=6 ................\n",
            "[CV] . n_estimators=100, max_features=auto, max_depth=6, total=  11.9s\n",
            "[CV] n_estimators=200, max_features=auto, max_depth=6 ................\n",
            "[CV] . n_estimators=200, max_features=auto, max_depth=6, total=  23.7s\n",
            "[CV] n_estimators=200, max_features=auto, max_depth=6 ................\n",
            "[CV] . n_estimators=200, max_features=auto, max_depth=6, total=  23.7s\n",
            "[CV] n_estimators=200, max_features=auto, max_depth=6 ................\n",
            "[CV] . n_estimators=200, max_features=auto, max_depth=6, total=  23.7s\n",
            "[CV] n_estimators=400, max_features=auto, max_depth=6 ................\n",
            "[CV] . n_estimators=400, max_features=auto, max_depth=6, total=  47.3s\n",
            "[CV] n_estimators=400, max_features=auto, max_depth=6 ................\n",
            "[CV] . n_estimators=400, max_features=auto, max_depth=6, total=  47.3s\n",
            "[CV] n_estimators=400, max_features=auto, max_depth=6 ................\n",
            "[CV] . n_estimators=400, max_features=auto, max_depth=6, total=  47.3s\n",
            "[CV] n_estimators=5, max_features=sqrt, max_depth=6 ..................\n",
            "[CV] ... n_estimators=5, max_features=sqrt, max_depth=6, total=   0.1s\n",
            "[CV] n_estimators=5, max_features=sqrt, max_depth=6 ..................\n",
            "[CV] ... n_estimators=5, max_features=sqrt, max_depth=6, total=   0.2s\n",
            "[CV] n_estimators=5, max_features=sqrt, max_depth=6 ..................\n",
            "[CV] ... n_estimators=5, max_features=sqrt, max_depth=6, total=   0.2s\n",
            "[CV] n_estimators=50, max_features=sqrt, max_depth=6 .................\n",
            "[CV] .. n_estimators=50, max_features=sqrt, max_depth=6, total=   1.5s\n",
            "[CV] n_estimators=50, max_features=sqrt, max_depth=6 .................\n",
            "[CV] .. n_estimators=50, max_features=sqrt, max_depth=6, total=   1.5s\n",
            "[CV] n_estimators=50, max_features=sqrt, max_depth=6 .................\n",
            "[CV] .. n_estimators=50, max_features=sqrt, max_depth=6, total=   1.4s\n",
            "[CV] n_estimators=100, max_features=sqrt, max_depth=6 ................\n",
            "[CV] . n_estimators=100, max_features=sqrt, max_depth=6, total=   2.8s\n",
            "[CV] n_estimators=100, max_features=sqrt, max_depth=6 ................\n",
            "[CV] . n_estimators=100, max_features=sqrt, max_depth=6, total=   2.9s\n",
            "[CV] n_estimators=100, max_features=sqrt, max_depth=6 ................\n",
            "[CV] . n_estimators=100, max_features=sqrt, max_depth=6, total=   2.8s\n",
            "[CV] n_estimators=200, max_features=sqrt, max_depth=6 ................\n",
            "[CV] . n_estimators=200, max_features=sqrt, max_depth=6, total=   5.7s\n",
            "[CV] n_estimators=200, max_features=sqrt, max_depth=6 ................\n",
            "[CV] . n_estimators=200, max_features=sqrt, max_depth=6, total=   5.7s\n",
            "[CV] n_estimators=200, max_features=sqrt, max_depth=6 ................\n",
            "[CV] . n_estimators=200, max_features=sqrt, max_depth=6, total=   5.7s\n",
            "[CV] n_estimators=400, max_features=sqrt, max_depth=6 ................\n",
            "[CV] . n_estimators=400, max_features=sqrt, max_depth=6, total=  11.3s\n",
            "[CV] n_estimators=400, max_features=sqrt, max_depth=6 ................\n",
            "[CV] . n_estimators=400, max_features=sqrt, max_depth=6, total=  11.4s\n",
            "[CV] n_estimators=400, max_features=sqrt, max_depth=6 ................\n",
            "[CV] . n_estimators=400, max_features=sqrt, max_depth=6, total=  11.4s\n",
            "[CV] n_estimators=5, max_features=auto, max_depth=8 ..................\n",
            "[CV] ... n_estimators=5, max_features=auto, max_depth=8, total=   0.8s\n",
            "[CV] n_estimators=5, max_features=auto, max_depth=8 ..................\n",
            "[CV] ... n_estimators=5, max_features=auto, max_depth=8, total=   0.8s\n",
            "[CV] n_estimators=5, max_features=auto, max_depth=8 ..................\n",
            "[CV] ... n_estimators=5, max_features=auto, max_depth=8, total=   0.8s\n",
            "[CV] n_estimators=50, max_features=auto, max_depth=8 .................\n",
            "[CV] .. n_estimators=50, max_features=auto, max_depth=8, total=   7.9s\n",
            "[CV] n_estimators=50, max_features=auto, max_depth=8 .................\n",
            "[CV] .. n_estimators=50, max_features=auto, max_depth=8, total=   7.9s\n",
            "[CV] n_estimators=50, max_features=auto, max_depth=8 .................\n",
            "[CV] .. n_estimators=50, max_features=auto, max_depth=8, total=   7.9s\n",
            "[CV] n_estimators=100, max_features=auto, max_depth=8 ................\n",
            "[CV] . n_estimators=100, max_features=auto, max_depth=8, total=  15.8s\n",
            "[CV] n_estimators=100, max_features=auto, max_depth=8 ................\n",
            "[CV] . n_estimators=100, max_features=auto, max_depth=8, total=  15.8s\n",
            "[CV] n_estimators=100, max_features=auto, max_depth=8 ................\n",
            "[CV] . n_estimators=100, max_features=auto, max_depth=8, total=  15.8s\n",
            "[CV] n_estimators=200, max_features=auto, max_depth=8 ................\n",
            "[CV] . n_estimators=200, max_features=auto, max_depth=8, total=  31.5s\n",
            "[CV] n_estimators=200, max_features=auto, max_depth=8 ................\n",
            "[CV] . n_estimators=200, max_features=auto, max_depth=8, total=  31.6s\n",
            "[CV] n_estimators=200, max_features=auto, max_depth=8 ................\n",
            "[CV] . n_estimators=200, max_features=auto, max_depth=8, total=  31.6s\n",
            "[CV] n_estimators=400, max_features=auto, max_depth=8 ................\n",
            "[CV] . n_estimators=400, max_features=auto, max_depth=8, total= 1.1min\n",
            "[CV] n_estimators=400, max_features=auto, max_depth=8 ................\n",
            "[CV] . n_estimators=400, max_features=auto, max_depth=8, total= 1.1min\n",
            "[CV] n_estimators=400, max_features=auto, max_depth=8 ................\n",
            "[CV] . n_estimators=400, max_features=auto, max_depth=8, total= 1.0min\n",
            "[CV] n_estimators=5, max_features=sqrt, max_depth=8 ..................\n",
            "[CV] ... n_estimators=5, max_features=sqrt, max_depth=8, total=   0.2s\n",
            "[CV] n_estimators=5, max_features=sqrt, max_depth=8 ..................\n",
            "[CV] ... n_estimators=5, max_features=sqrt, max_depth=8, total=   0.2s\n",
            "[CV] n_estimators=5, max_features=sqrt, max_depth=8 ..................\n",
            "[CV] ... n_estimators=5, max_features=sqrt, max_depth=8, total=   0.2s\n",
            "[CV] n_estimators=50, max_features=sqrt, max_depth=8 .................\n",
            "[CV] .. n_estimators=50, max_features=sqrt, max_depth=8, total=   1.9s\n",
            "[CV] n_estimators=50, max_features=sqrt, max_depth=8 .................\n",
            "[CV] .. n_estimators=50, max_features=sqrt, max_depth=8, total=   1.9s\n",
            "[CV] n_estimators=50, max_features=sqrt, max_depth=8 .................\n",
            "[CV] .. n_estimators=50, max_features=sqrt, max_depth=8, total=   1.8s\n",
            "[CV] n_estimators=100, max_features=sqrt, max_depth=8 ................\n",
            "[CV] . n_estimators=100, max_features=sqrt, max_depth=8, total=   3.7s\n",
            "[CV] n_estimators=100, max_features=sqrt, max_depth=8 ................\n",
            "[CV] . n_estimators=100, max_features=sqrt, max_depth=8, total=   3.7s\n",
            "[CV] n_estimators=100, max_features=sqrt, max_depth=8 ................\n",
            "[CV] . n_estimators=100, max_features=sqrt, max_depth=8, total=   3.7s\n",
            "[CV] n_estimators=200, max_features=sqrt, max_depth=8 ................\n",
            "[CV] . n_estimators=200, max_features=sqrt, max_depth=8, total=   7.4s\n",
            "[CV] n_estimators=200, max_features=sqrt, max_depth=8 ................\n",
            "[CV] . n_estimators=200, max_features=sqrt, max_depth=8, total=   7.4s\n",
            "[CV] n_estimators=200, max_features=sqrt, max_depth=8 ................\n",
            "[CV] . n_estimators=200, max_features=sqrt, max_depth=8, total=   7.4s\n",
            "[CV] n_estimators=400, max_features=sqrt, max_depth=8 ................\n",
            "[CV] . n_estimators=400, max_features=sqrt, max_depth=8, total=  14.9s\n",
            "[CV] n_estimators=400, max_features=sqrt, max_depth=8 ................\n",
            "[CV] . n_estimators=400, max_features=sqrt, max_depth=8, total=  14.9s\n",
            "[CV] n_estimators=400, max_features=sqrt, max_depth=8 ................\n",
            "[CV] . n_estimators=400, max_features=sqrt, max_depth=8, total=  14.8s\n",
            "[CV] n_estimators=5, max_features=auto, max_depth=10 .................\n",
            "[CV] .. n_estimators=5, max_features=auto, max_depth=10, total=   1.0s\n",
            "[CV] n_estimators=5, max_features=auto, max_depth=10 .................\n",
            "[CV] .. n_estimators=5, max_features=auto, max_depth=10, total=   1.0s\n",
            "[CV] n_estimators=5, max_features=auto, max_depth=10 .................\n",
            "[CV] .. n_estimators=5, max_features=auto, max_depth=10, total=   1.0s\n",
            "[CV] n_estimators=50, max_features=auto, max_depth=10 ................\n",
            "[CV] . n_estimators=50, max_features=auto, max_depth=10, total=   9.9s\n",
            "[CV] n_estimators=50, max_features=auto, max_depth=10 ................\n",
            "[CV] . n_estimators=50, max_features=auto, max_depth=10, total=   9.9s\n",
            "[CV] n_estimators=50, max_features=auto, max_depth=10 ................\n",
            "[CV] . n_estimators=50, max_features=auto, max_depth=10, total=   9.9s\n",
            "[CV] n_estimators=100, max_features=auto, max_depth=10 ...............\n",
            "[CV]  n_estimators=100, max_features=auto, max_depth=10, total=  19.8s\n",
            "[CV] n_estimators=100, max_features=auto, max_depth=10 ...............\n",
            "[CV]  n_estimators=100, max_features=auto, max_depth=10, total=  19.8s\n",
            "[CV] n_estimators=100, max_features=auto, max_depth=10 ...............\n",
            "[CV]  n_estimators=100, max_features=auto, max_depth=10, total=  19.8s\n",
            "[CV] n_estimators=200, max_features=auto, max_depth=10 ...............\n",
            "[CV]  n_estimators=200, max_features=auto, max_depth=10, total=  39.5s\n",
            "[CV] n_estimators=200, max_features=auto, max_depth=10 ...............\n",
            "[CV]  n_estimators=200, max_features=auto, max_depth=10, total=  39.5s\n",
            "[CV] n_estimators=200, max_features=auto, max_depth=10 ...............\n",
            "[CV]  n_estimators=200, max_features=auto, max_depth=10, total=  39.5s\n",
            "[CV] n_estimators=400, max_features=auto, max_depth=10 ...............\n",
            "[CV]  n_estimators=400, max_features=auto, max_depth=10, total= 1.3min\n",
            "[CV] n_estimators=400, max_features=auto, max_depth=10 ...............\n",
            "[CV]  n_estimators=400, max_features=auto, max_depth=10, total= 1.3min\n",
            "[CV] n_estimators=400, max_features=auto, max_depth=10 ...............\n",
            "[CV]  n_estimators=400, max_features=auto, max_depth=10, total= 1.3min\n",
            "[CV] n_estimators=5, max_features=sqrt, max_depth=10 .................\n",
            "[CV] .. n_estimators=5, max_features=sqrt, max_depth=10, total=   0.3s\n",
            "[CV] n_estimators=5, max_features=sqrt, max_depth=10 .................\n",
            "[CV] .. n_estimators=5, max_features=sqrt, max_depth=10, total=   0.2s\n",
            "[CV] n_estimators=5, max_features=sqrt, max_depth=10 .................\n",
            "[CV] .. n_estimators=5, max_features=sqrt, max_depth=10, total=   0.2s\n",
            "[CV] n_estimators=50, max_features=sqrt, max_depth=10 ................\n",
            "[CV] . n_estimators=50, max_features=sqrt, max_depth=10, total=   2.3s\n",
            "[CV] n_estimators=50, max_features=sqrt, max_depth=10 ................\n",
            "[CV] . n_estimators=50, max_features=sqrt, max_depth=10, total=   2.3s\n",
            "[CV] n_estimators=50, max_features=sqrt, max_depth=10 ................\n",
            "[CV] . n_estimators=50, max_features=sqrt, max_depth=10, total=   2.3s\n",
            "[CV] n_estimators=100, max_features=sqrt, max_depth=10 ...............\n",
            "[CV]  n_estimators=100, max_features=sqrt, max_depth=10, total=   4.5s\n",
            "[CV] n_estimators=100, max_features=sqrt, max_depth=10 ...............\n",
            "[CV]  n_estimators=100, max_features=sqrt, max_depth=10, total=   4.6s\n",
            "[CV] n_estimators=100, max_features=sqrt, max_depth=10 ...............\n",
            "[CV]  n_estimators=100, max_features=sqrt, max_depth=10, total=   4.5s\n",
            "[CV] n_estimators=200, max_features=sqrt, max_depth=10 ...............\n",
            "[CV]  n_estimators=200, max_features=sqrt, max_depth=10, total=   9.1s\n",
            "[CV] n_estimators=200, max_features=sqrt, max_depth=10 ...............\n",
            "[CV]  n_estimators=200, max_features=sqrt, max_depth=10, total=   9.2s\n",
            "[CV] n_estimators=200, max_features=sqrt, max_depth=10 ...............\n",
            "[CV]  n_estimators=200, max_features=sqrt, max_depth=10, total=   9.1s\n",
            "[CV] n_estimators=400, max_features=sqrt, max_depth=10 ...............\n",
            "[CV]  n_estimators=400, max_features=sqrt, max_depth=10, total=  18.3s\n",
            "[CV] n_estimators=400, max_features=sqrt, max_depth=10 ...............\n",
            "[CV]  n_estimators=400, max_features=sqrt, max_depth=10, total=  18.3s\n",
            "[CV] n_estimators=400, max_features=sqrt, max_depth=10 ...............\n",
            "[CV]  n_estimators=400, max_features=sqrt, max_depth=10, total=  18.2s\n"
          ],
          "name": "stdout"
        },
        {
          "output_type": "stream",
          "text": [
            "[Parallel(n_jobs=1)]: Done 120 out of 120 | elapsed: 24.1min finished\n"
          ],
          "name": "stderr"
        },
        {
          "output_type": "execute_result",
          "data": {
            "text/plain": [
              "RandomizedSearchCV(cv=3, error_score=nan,\n",
              "                   estimator=RandomForestRegressor(bootstrap=True,\n",
              "                                                   ccp_alpha=0.0,\n",
              "                                                   criterion='mse',\n",
              "                                                   max_depth=None,\n",
              "                                                   max_features='auto',\n",
              "                                                   max_leaf_nodes=None,\n",
              "                                                   max_samples=None,\n",
              "                                                   min_impurity_decrease=0.0,\n",
              "                                                   min_impurity_split=None,\n",
              "                                                   min_samples_leaf=1,\n",
              "                                                   min_samples_split=2,\n",
              "                                                   min_weight_fraction_leaf=0.0,\n",
              "                                                   n_estimators=100,\n",
              "                                                   n_jobs=None, oob_score=False,\n",
              "                                                   random_state=None, verbose=0,\n",
              "                                                   warm_start=False),\n",
              "                   iid='deprecated', n_iter=50, n_jobs=None,\n",
              "                   param_distributions={'max_depth': [2, 6, 8, 10],\n",
              "                                        'max_features': ['auto', 'sqrt'],\n",
              "                                        'n_estimators': [5, 50, 100, 200, 400]},\n",
              "                   pre_dispatch='2*n_jobs', random_state=42, refit=True,\n",
              "                   return_train_score=False, scoring=None, verbose=2)"
            ]
          },
          "metadata": {
            "tags": []
          },
          "execution_count": 34
        }
      ]
    },
    {
      "cell_type": "code",
      "metadata": {
        "id": "2FASDhlQkuRF"
      },
      "source": [
        "model3 = RandomForestRegressor(bootstrap=True,\n",
        "                                                   ccp_alpha=0.0,\n",
        "                                                   criterion='mse',\n",
        "                                                   max_depth=None,\n",
        "                                                   max_features='auto',\n",
        "                                                   max_leaf_nodes=None,\n",
        "                                                   max_samples=None,\n",
        "                                                   min_impurity_decrease=0.0,\n",
        "                                                   min_impurity_split=None,\n",
        "                                                   min_samples_leaf=1,\n",
        "                                                   min_samples_split=2,\n",
        "                                                   min_weight_fraction_leaf=0.0,\n",
        "                                                   n_estimators=100,\n",
        "                                                   n_jobs=None, oob_score=False,\n",
        "                                                   random_state=None, verbose=0,\n",
        "                                                   warm_start=False)"
      ],
      "execution_count": null,
      "outputs": []
    },
    {
      "cell_type": "code",
      "metadata": {
        "colab": {
          "base_uri": "https://localhost:8080/"
        },
        "id": "u8kndGoEfO6X",
        "outputId": "802a0c27-2dd5-4902-b1a7-24f8a734344c"
      },
      "source": [
        "model3.fit(X_train, Y_train)"
      ],
      "execution_count": null,
      "outputs": [
        {
          "output_type": "execute_result",
          "data": {
            "text/plain": [
              "RandomForestRegressor(bootstrap=True, ccp_alpha=0.0, criterion='mse',\n",
              "                      max_depth=None, max_features='auto', max_leaf_nodes=None,\n",
              "                      max_samples=None, min_impurity_decrease=0.0,\n",
              "                      min_impurity_split=None, min_samples_leaf=1,\n",
              "                      min_samples_split=2, min_weight_fraction_leaf=0.0,\n",
              "                      n_estimators=100, n_jobs=None, oob_score=False,\n",
              "                      random_state=None, verbose=0, warm_start=False)"
            ]
          },
          "metadata": {
            "tags": []
          },
          "execution_count": 28
        }
      ]
    },
    {
      "cell_type": "code",
      "metadata": {
        "colab": {
          "base_uri": "https://localhost:8080/"
        },
        "id": "Ji7Sc8w5fUGA",
        "outputId": "51a954dc-6084-4b55-e482-00ace2ec47cb"
      },
      "source": [
        "model3.score(X_train, Y_train)"
      ],
      "execution_count": null,
      "outputs": [
        {
          "output_type": "execute_result",
          "data": {
            "text/plain": [
              "0.9921874072424883"
            ]
          },
          "metadata": {
            "tags": []
          },
          "execution_count": 29
        }
      ]
    },
    {
      "cell_type": "code",
      "metadata": {
        "colab": {
          "base_uri": "https://localhost:8080/"
        },
        "id": "UrYwQnPbhaJv",
        "outputId": "070fb66f-5778-4bd7-d033-341656f342ed"
      },
      "source": [
        "model3.score(X_val, Y_val)"
      ],
      "execution_count": null,
      "outputs": [
        {
          "output_type": "execute_result",
          "data": {
            "text/plain": [
              "0.9507329368867427"
            ]
          },
          "metadata": {
            "tags": []
          },
          "execution_count": 30
        }
      ]
    },
    {
      "cell_type": "code",
      "metadata": {
        "colab": {
          "base_uri": "https://localhost:8080/",
          "height": 609
        },
        "id": "CV-pwNowlt7h",
        "outputId": "9d64c0a8-2781-408f-c259-e1c419fabe88"
      },
      "source": [
        "importance = model3.feature_importances_\n",
        "\n",
        "for i,v in enumerate(importance):\n",
        "    print('Feature: %0d, Score: %.5f' % (i,v))\n",
        "\n",
        "plt.bar([x for x in range(len(importance))], importance)\n",
        "plt.show()"
      ],
      "execution_count": null,
      "outputs": [
        {
          "output_type": "stream",
          "text": [
            "Feature: 0, Score: 0.40857\n",
            "Feature: 1, Score: 0.08940\n",
            "Feature: 2, Score: 0.13764\n",
            "Feature: 3, Score: 0.00066\n",
            "Feature: 4, Score: 0.32663\n",
            "Feature: 5, Score: 0.00137\n",
            "Feature: 6, Score: 0.00430\n",
            "Feature: 7, Score: 0.00227\n",
            "Feature: 8, Score: 0.00135\n",
            "Feature: 9, Score: 0.00134\n",
            "Feature: 10, Score: 0.00123\n",
            "Feature: 11, Score: 0.00298\n",
            "Feature: 12, Score: 0.00365\n",
            "Feature: 13, Score: 0.00385\n",
            "Feature: 14, Score: 0.00136\n",
            "Feature: 15, Score: 0.00323\n",
            "Feature: 16, Score: 0.00118\n",
            "Feature: 17, Score: 0.00076\n",
            "Feature: 18, Score: 0.00564\n",
            "Feature: 19, Score: 0.00259\n"
          ],
          "name": "stdout"
        },
        {
          "output_type": "display_data",
          "data": {
            "image/png": "[encoded data removed]",
            "text/plain": [
              "<Figure size 432x288 with 1 Axes>"
            ]
          },
          "metadata": {
            "tags": [],
            "needs_background": "light"
          }
        }
      ]
    },
    {
      "cell_type": "code",
      "metadata": {
        "colab": {
          "base_uri": "https://localhost:8080/"
        },
        "id": "qoIuXCzpsiv5",
        "outputId": "ff18454b-6213-4369-9e96-4f33eebf84ec"
      },
      "source": [
        "X_train.info()"
      ],
      "execution_count": null,
      "outputs": [
        {
          "output_type": "stream",
          "text": [
            "<class 'pandas.core.frame.DataFrame'>\n",
            "Int64Index: 159658 entries, 84831 to 149376\n",
            "Data columns (total 20 columns):\n",
            " #   Column                              Non-Null Count   Dtype  \n",
            "---  ------                              --------------   -----  \n",
            " 0   DelayCarrierMinutes                 159658 non-null  float64\n",
            " 1   DelayWeatherMinutes                 159658 non-null  float64\n",
            " 2   DelayNationalAviationSystemMinutes  159658 non-null  float64\n",
            " 3   DelaySecurityMinutes                159658 non-null  float64\n",
            " 4   DelayLateAircraftArrivalMinutes     159658 non-null  float64\n",
            " 5   uvIndex                             159658 non-null  float64\n",
            " 6   moon_illumination                   159658 non-null  float64\n",
            " 7   DewPointC                           159658 non-null  float64\n",
            " 8   FeelsLikeC                          159658 non-null  float64\n",
            " 9   HeatIndexC                          159658 non-null  float64\n",
            " 10  WindChillC                          159658 non-null  float64\n",
            " 11  WindGustKmph                        159658 non-null  float64\n",
            " 12  cloudcover                          159658 non-null  float64\n",
            " 13  humidity                            159658 non-null  float64\n",
            " 14  precipMM                            159658 non-null  float64\n",
            " 15  pressure                            159658 non-null  float64\n",
            " 16  tempC                               159658 non-null  float64\n",
            " 17  visibility                          159658 non-null  float64\n",
            " 18  winddirDegree                       159658 non-null  float64\n",
            " 19  windspeedKmph                       159658 non-null  float64\n",
            "dtypes: float64(20)\n",
            "memory usage: 25.6 MB\n"
          ],
          "name": "stdout"
        }
      ]
    },
    {
      "cell_type": "code",
      "metadata": {
        "id": "5YMLhOnNIImb"
      },
      "source": [
        ""
      ],
      "execution_count": null,
      "outputs": []
    },
    {
      "cell_type": "code",
      "metadata": {
        "id": "m6JqcTn6IUWJ"
      },
      "source": [
        ""
      ],
      "execution_count": null,
      "outputs": []
    },
    {
      "cell_type": "code",
      "metadata": {
        "id": "HYm1LXjFIh3t"
      },
      "source": [
        ""
      ],
      "execution_count": null,
      "outputs": []
    }
  ]
}