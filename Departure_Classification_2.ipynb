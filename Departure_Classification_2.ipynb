{
 "cells": [
  {
   "cell_type": "code",
   "execution_count": 1,
   "metadata": {},
   "outputs": [],
   "source": [
    "# The packages used are shown below\n",
    "\n",
    "import pandas as pd\n",
    "import numpy as np\n",
    "import matplotlib.pyplot as plt\n",
    "import seaborn as sns\n",
    "import statsmodels.api as sm\n",
    "\n",
    "import sklearn\n",
    "sklearn.__version__\n",
    "\n",
    "from sklearn.model_selection import StratifiedKFold\n",
    "from sklearn.model_selection import train_test_split\n",
    "from sklearn import metrics\n",
    "from sklearn.model_selection import RandomizedSearchCV\n",
    "from sklearn.model_selection import GridSearchCV\n",
    "\n",
    "from sklearn.linear_model import LogisticRegression\n",
    "from sklearn.linear_model import LinearRegression\n",
    "from sklearn.linear_model import Lasso\n",
    "from sklearn import metrics\n",
    "from sklearn.metrics import r2_score\n",
    "import math\n",
    "from sklearn.decomposition import PCA\n",
    "from sklearn.metrics import mean_squared_error\n",
    "from sklearn.svm import SVC\n",
    "from sklearn.svm import SVR"
   ]
  },
  {
   "cell_type": "code",
   "execution_count": 9,
   "metadata": {},
   "outputs": [
    {
     "data": {
      "text/html": [
       "<div>\n",
       "<style scoped>\n",
       "    .dataframe tbody tr th:only-of-type {\n",
       "        vertical-align: middle;\n",
       "    }\n",
       "\n",
       "    .dataframe tbody tr th {\n",
       "        vertical-align: top;\n",
       "    }\n",
       "\n",
       "    .dataframe thead th {\n",
       "        text-align: right;\n",
       "    }\n",
       "</style>\n",
       "<table border=\"1\" class=\"dataframe\">\n",
       "  <thead>\n",
       "    <tr style=\"text-align: right;\">\n",
       "      <th></th>\n",
       "      <th>TaxiOuttimeMinutes</th>\n",
       "      <th>DelayCarrierMinutes</th>\n",
       "      <th>DelayWeatherMinutes</th>\n",
       "      <th>DelayNationalAviationSystemMinutes</th>\n",
       "      <th>DelaySecurityMinutes</th>\n",
       "      <th>DelayLateAircraftArrivalMinutes</th>\n",
       "      <th>city</th>\n",
       "      <th>time</th>\n",
       "      <th>maxtempC</th>\n",
       "      <th>mintempC</th>\n",
       "      <th>...</th>\n",
       "      <th>humidity</th>\n",
       "      <th>precipMM</th>\n",
       "      <th>pressure</th>\n",
       "      <th>tempC</th>\n",
       "      <th>visibility</th>\n",
       "      <th>winddirDegree</th>\n",
       "      <th>windspeedKmph</th>\n",
       "      <th>TailNumber</th>\n",
       "      <th>DestinationAirport</th>\n",
       "      <th>DeparturedelayMinutes</th>\n",
       "    </tr>\n",
       "  </thead>\n",
       "  <tbody>\n",
       "    <tr>\n",
       "      <th>0</th>\n",
       "      <td>-0.696706</td>\n",
       "      <td>-0.133200</td>\n",
       "      <td>-0.052276</td>\n",
       "      <td>-0.214549</td>\n",
       "      <td>-0.013172</td>\n",
       "      <td>-0.175610</td>\n",
       "      <td>-0.879167</td>\n",
       "      <td>-0.018254</td>\n",
       "      <td>0.494536</td>\n",
       "      <td>0.822523</td>\n",
       "      <td>...</td>\n",
       "      <td>0.261324</td>\n",
       "      <td>-0.259572</td>\n",
       "      <td>0.214704</td>\n",
       "      <td>0.820179</td>\n",
       "      <td>0.371536</td>\n",
       "      <td>0.541785</td>\n",
       "      <td>0.333371</td>\n",
       "      <td>N66831</td>\n",
       "      <td>IAD</td>\n",
       "      <td>0</td>\n",
       "    </tr>\n",
       "    <tr>\n",
       "      <th>1</th>\n",
       "      <td>-0.599715</td>\n",
       "      <td>0.186753</td>\n",
       "      <td>-0.052276</td>\n",
       "      <td>-0.113895</td>\n",
       "      <td>-0.013172</td>\n",
       "      <td>1.329416</td>\n",
       "      <td>-0.879167</td>\n",
       "      <td>-0.018254</td>\n",
       "      <td>0.494536</td>\n",
       "      <td>0.822523</td>\n",
       "      <td>...</td>\n",
       "      <td>0.261324</td>\n",
       "      <td>-0.259572</td>\n",
       "      <td>0.214704</td>\n",
       "      <td>0.820179</td>\n",
       "      <td>0.371536</td>\n",
       "      <td>0.541785</td>\n",
       "      <td>0.333371</td>\n",
       "      <td>N521NK</td>\n",
       "      <td>ATL</td>\n",
       "      <td>1</td>\n",
       "    </tr>\n",
       "    <tr>\n",
       "      <th>2</th>\n",
       "      <td>-0.793697</td>\n",
       "      <td>-0.133200</td>\n",
       "      <td>-0.052276</td>\n",
       "      <td>-0.214549</td>\n",
       "      <td>-0.013172</td>\n",
       "      <td>-0.175610</td>\n",
       "      <td>-0.879167</td>\n",
       "      <td>-0.018254</td>\n",
       "      <td>0.494536</td>\n",
       "      <td>0.822523</td>\n",
       "      <td>...</td>\n",
       "      <td>0.261324</td>\n",
       "      <td>-0.259572</td>\n",
       "      <td>0.214704</td>\n",
       "      <td>0.820179</td>\n",
       "      <td>0.371536</td>\n",
       "      <td>0.541785</td>\n",
       "      <td>0.333371</td>\n",
       "      <td>N971DL</td>\n",
       "      <td>ATL</td>\n",
       "      <td>0</td>\n",
       "    </tr>\n",
       "    <tr>\n",
       "      <th>3</th>\n",
       "      <td>-0.987679</td>\n",
       "      <td>-0.133200</td>\n",
       "      <td>-0.052276</td>\n",
       "      <td>-0.214549</td>\n",
       "      <td>-0.013172</td>\n",
       "      <td>-0.175610</td>\n",
       "      <td>-0.879167</td>\n",
       "      <td>1.168270</td>\n",
       "      <td>0.494536</td>\n",
       "      <td>0.822523</td>\n",
       "      <td>...</td>\n",
       "      <td>1.414447</td>\n",
       "      <td>-0.259572</td>\n",
       "      <td>0.379231</td>\n",
       "      <td>0.394988</td>\n",
       "      <td>0.371536</td>\n",
       "      <td>1.656321</td>\n",
       "      <td>1.079486</td>\n",
       "      <td>N75436</td>\n",
       "      <td>IAD</td>\n",
       "      <td>1</td>\n",
       "    </tr>\n",
       "    <tr>\n",
       "      <th>4</th>\n",
       "      <td>-0.502724</td>\n",
       "      <td>-0.133200</td>\n",
       "      <td>-0.052276</td>\n",
       "      <td>-0.214549</td>\n",
       "      <td>-0.013172</td>\n",
       "      <td>-0.175610</td>\n",
       "      <td>-0.879167</td>\n",
       "      <td>1.168270</td>\n",
       "      <td>0.494536</td>\n",
       "      <td>0.822523</td>\n",
       "      <td>...</td>\n",
       "      <td>1.414447</td>\n",
       "      <td>-0.259572</td>\n",
       "      <td>0.379231</td>\n",
       "      <td>0.394988</td>\n",
       "      <td>0.371536</td>\n",
       "      <td>1.656321</td>\n",
       "      <td>1.079486</td>\n",
       "      <td>N803AW</td>\n",
       "      <td>LAX</td>\n",
       "      <td>1</td>\n",
       "    </tr>\n",
       "  </tbody>\n",
       "</table>\n",
       "<p>5 rows × 30 columns</p>\n",
       "</div>"
      ],
      "text/plain": [
       "   TaxiOuttimeMinutes  DelayCarrierMinutes  DelayWeatherMinutes  \\\n",
       "0           -0.696706            -0.133200            -0.052276   \n",
       "1           -0.599715             0.186753            -0.052276   \n",
       "2           -0.793697            -0.133200            -0.052276   \n",
       "3           -0.987679            -0.133200            -0.052276   \n",
       "4           -0.502724            -0.133200            -0.052276   \n",
       "\n",
       "   DelayNationalAviationSystemMinutes  DelaySecurityMinutes  \\\n",
       "0                           -0.214549             -0.013172   \n",
       "1                           -0.113895             -0.013172   \n",
       "2                           -0.214549             -0.013172   \n",
       "3                           -0.214549             -0.013172   \n",
       "4                           -0.214549             -0.013172   \n",
       "\n",
       "   DelayLateAircraftArrivalMinutes      city      time  maxtempC  mintempC  \\\n",
       "0                        -0.175610 -0.879167 -0.018254  0.494536  0.822523   \n",
       "1                         1.329416 -0.879167 -0.018254  0.494536  0.822523   \n",
       "2                        -0.175610 -0.879167 -0.018254  0.494536  0.822523   \n",
       "3                        -0.175610 -0.879167  1.168270  0.494536  0.822523   \n",
       "4                        -0.175610 -0.879167  1.168270  0.494536  0.822523   \n",
       "\n",
       "   ...  humidity  precipMM  pressure     tempC  visibility  winddirDegree  \\\n",
       "0  ...  0.261324 -0.259572  0.214704  0.820179    0.371536       0.541785   \n",
       "1  ...  0.261324 -0.259572  0.214704  0.820179    0.371536       0.541785   \n",
       "2  ...  0.261324 -0.259572  0.214704  0.820179    0.371536       0.541785   \n",
       "3  ...  1.414447 -0.259572  0.379231  0.394988    0.371536       1.656321   \n",
       "4  ...  1.414447 -0.259572  0.379231  0.394988    0.371536       1.656321   \n",
       "\n",
       "   windspeedKmph  TailNumber  DestinationAirport  DeparturedelayMinutes  \n",
       "0       0.333371      N66831                 IAD                      0  \n",
       "1       0.333371      N521NK                 ATL                      1  \n",
       "2       0.333371      N971DL                 ATL                      0  \n",
       "3       1.079486      N75436                 IAD                      1  \n",
       "4       1.079486      N803AW                 LAX                      1  \n",
       "\n",
       "[5 rows x 30 columns]"
      ]
     },
     "execution_count": 9,
     "metadata": {},
     "output_type": "execute_result"
    }
   ],
   "source": [
    "df = pd.read_csv(\"data_scaled.csv\", delimiter = ',')\n",
    "df.head(5)"
   ]
  },
  {
   "cell_type": "code",
   "execution_count": 3,
   "metadata": {},
   "outputs": [
    {
     "name": "stdout",
     "output_type": "stream",
     "text": [
      "<class 'pandas.core.frame.DataFrame'>\n",
      "RangeIndex: 1279266 entries, 0 to 1279265\n",
      "Data columns (total 30 columns):\n",
      " #   Column                              Non-Null Count    Dtype  \n",
      "---  ------                              --------------    -----  \n",
      " 0   TaxiOuttimeMinutes                  1279266 non-null  float64\n",
      " 1   DelayCarrierMinutes                 1279266 non-null  float64\n",
      " 2   DelayWeatherMinutes                 1279266 non-null  float64\n",
      " 3   DelayNationalAviationSystemMinutes  1279266 non-null  float64\n",
      " 4   DelaySecurityMinutes                1279266 non-null  float64\n",
      " 5   DelayLateAircraftArrivalMinutes     1279266 non-null  float64\n",
      " 6   city                                1279266 non-null  float64\n",
      " 7   time                                1279266 non-null  float64\n",
      " 8   maxtempC                            1279266 non-null  float64\n",
      " 9   mintempC                            1279266 non-null  float64\n",
      " 10  totalSnow_cm                        1279266 non-null  float64\n",
      " 11  sunHour                             1279266 non-null  float64\n",
      " 12  uvIndex                             1279266 non-null  float64\n",
      " 13  moon_illumination                   1279266 non-null  float64\n",
      " 14  DewPointC                           1279266 non-null  float64\n",
      " 15  FeelsLikeC                          1279266 non-null  float64\n",
      " 16  HeatIndexC                          1279266 non-null  float64\n",
      " 17  WindChillC                          1279266 non-null  float64\n",
      " 18  WindGustKmph                        1279266 non-null  float64\n",
      " 19  cloudcover                          1279266 non-null  float64\n",
      " 20  humidity                            1279266 non-null  float64\n",
      " 21  precipMM                            1279266 non-null  float64\n",
      " 22  pressure                            1279266 non-null  float64\n",
      " 23  tempC                               1279266 non-null  float64\n",
      " 24  visibility                          1279266 non-null  float64\n",
      " 25  winddirDegree                       1279266 non-null  float64\n",
      " 26  windspeedKmph                       1279266 non-null  float64\n",
      " 27  TailNumber                          1279266 non-null  object \n",
      " 28  DestinationAirport                  1279266 non-null  object \n",
      " 29  DeparturedelayMinutes               1279266 non-null  int64  \n",
      "dtypes: float64(27), int64(1), object(2)\n",
      "memory usage: 292.8+ MB\n"
     ]
    }
   ],
   "source": [
    "df.info()"
   ]
  },
  {
   "cell_type": "code",
   "execution_count": 4,
   "metadata": {},
   "outputs": [
    {
     "data": {
      "text/plain": [
       "<matplotlib.axes._subplots.AxesSubplot at 0x7fdddb41ff70>"
      ]
     },
     "execution_count": 4,
     "metadata": {},
     "output_type": "execute_result"
    },
    {
     "data": {
      "image/png": "[encoded data removed]",
      "text/plain": [
       "<Figure size 1080x720 with 2 Axes>"
      ]
     },
     "metadata": {
      "needs_background": "light"
     },
     "output_type": "display_data"
    }
   ],
   "source": [
    "corrplot = df.corr()\n",
    "plt.figure(figsize=(15,10))\n",
    "sns.heatmap(corrplot, cmap = sns.diverging_palette(230, 20, as_cmap=True))"
   ]
  },
  {
   "cell_type": "code",
   "execution_count": 3,
   "metadata": {},
   "outputs": [
    {
     "data": {
      "text/plain": [
       "(1279266, 30)"
      ]
     },
     "execution_count": 3,
     "metadata": {},
     "output_type": "execute_result"
    }
   ],
   "source": [
    "df.shape"
   ]
  },
  {
   "cell_type": "code",
   "execution_count": 10,
   "metadata": {},
   "outputs": [],
   "source": [
    "df.drop(['time', 'DelayWeatherMinutes'], axis=1, inplace=True)"
   ]
  },
  {
   "cell_type": "code",
   "execution_count": 11,
   "metadata": {},
   "outputs": [
    {
     "data": {
      "text/plain": [
       "(1279266, 25)"
      ]
     },
     "execution_count": 11,
     "metadata": {},
     "output_type": "execute_result"
    }
   ],
   "source": [
    "target = df[\"DeparturedelayMinutes\"]\n",
    "TailNumber = df[\"TailNumber\"]\n",
    "DestinationAirport = df[\"DestinationAirport\"]\n",
    "data = df.drop([\"DeparturedelayMinutes\", \"TailNumber\", \"DestinationAirport\"], axis = 1)\n",
    "data.shape"
   ]
  },
  {
   "cell_type": "code",
   "execution_count": 12,
   "metadata": {},
   "outputs": [
    {
     "data": {
      "text/plain": [
       "0    1058726\n",
       "1     220540\n",
       "Name: DeparturedelayMinutes, dtype: int64"
      ]
     },
     "execution_count": 12,
     "metadata": {},
     "output_type": "execute_result"
    }
   ],
   "source": [
    "target.value_counts()"
   ]
  },
  {
   "cell_type": "code",
   "execution_count": 13,
   "metadata": {},
   "outputs": [],
   "source": [
    "\n",
    "X_train, X_val, y_train, y_val = train_test_split(data, target, test_size=0.30, random_state=55000)\n"
   ]
  },
  {
   "cell_type": "code",
   "execution_count": 6,
   "metadata": {},
   "outputs": [],
   "source": [
    "\"\"\"\n",
    "The function classification_models fit the model with the best parameters. Calculates the model accuracy score \n",
    "on both training and validation sets. Displays the confusion matrix and computes the classification report to \n",
    "measure the performance of the model on the validation set.\n",
    "\n",
    "The functions RandomForest_Hypermarameter, SVC_Hypermarameter, Decision_Tree_model_hp, AdaBoost_model_hp identifies\n",
    "the best parameters and calls the classification_models to compute the statistics. \n",
    "\n",
    "\n",
    "\"\"\"\n",
    "\n",
    "from sklearn.ensemble import RandomForestClassifier\n",
    "from sklearn.tree import DecisionTreeClassifier, plot_tree\n",
    "from sklearn.ensemble import AdaBoostClassifier\n",
    "from sklearn import naive_bayes\n",
    "from sklearn import metrics\n",
    "from sklearn.svm import SVC\n",
    "\n",
    "def classification_models(X_train, y_train, X_val, y_val, hp = False, RandomForest = False, SVC_RBF = False, SVC_linear = False, SVC_polynomial = False, DT = False, AdaBoost = False):\n",
    "  \"\"\"\n",
    "Returns the model accuracy on train and validation data. Plots the confusion matrix and print classification reprt.\n",
    "      \n",
    "      Parameters:\n",
    "                  X_train (DataFrame): Train data excluding target variable (Shares)\n",
    "                  y_train (DataFrame): Target variable (Shares) of training set\n",
    "                  X_val (DataFrame): Validation data excluding target variable (Shares)\n",
    "                  y_val (DataFrame): Target variable (Shares) of validation set\n",
    "                  hp (boolean): Set true to fit model with best parameters\n",
    "                  RandomForest: Set true to fit the RandomForest model\n",
    "                  SVC_RBF:  Set true to fit the RBF kernel SVC model\n",
    "                  SVC_linear: Set true to fit the Linear kernel SVC model\n",
    "                  SVC_polynomial: Set true to fit the Polynomial kernel SVC model\n",
    "                  DT: Set true to fit the Decision tree model\n",
    "                  AdaBoost: Set true to fit the AdaBoost model\n",
    "  \"\"\"\n",
    "  if(hp == False):\n",
    "    if (RandomForest == True):\n",
    "      model = RandomForestClassifier()    # Fit default RandomForest model\n",
    "      model.fit(X_train, y_train)\n",
    "    elif (SVC_RBF == True):\n",
    "      model = SVC(kernel ='rbf')          # Fit default RBF kernel SVC model\n",
    "      model.fit(X_train, y_train)\n",
    "    elif (SVC_linear == True):\n",
    "      model = SVC(kernel ='linear')       # Fit default Linear kernel SVC model\n",
    "      model.fit(X_train, y_train)\n",
    "    elif (SVC_polynomial == True):\n",
    "      model = SVC(kernel ='poly')         # Fit default Polynomial kernel SVC model\n",
    "      model.fit(X_train, y_train)\n",
    "    elif (DT == True):\n",
    "      model = DecisionTreeClassifier()    # Fit default Decision tree model\n",
    "      model.fit(X_train, y_train)\n",
    "    elif (AdaBoost == True):              # Fit default AdaBoost model\n",
    "      model = AdaBoostClassifier()\n",
    "      model.fit(X_train, y_train)\n",
    "\n",
    "  else:\n",
    "    if (RandomForest == True):\n",
    "      max_depth_input = int(input('Enter max_depth: '))\n",
    "      min_samples_split_input = int(input('Enter min_samples_split: '))\n",
    "      \n",
    "      # Fit the RandomForest model with best parameters\n",
    "      model = RandomForestClassifier(max_depth = max_depth_input, min_samples_split = min_samples_split_input)\n",
    "      model.fit(X_train, y_train)   \n",
    "    elif (DT == True):\n",
    "      max_depth_input = int(input('Enter max_depth: '))\n",
    "      min_samples_split_input = int(input('Enter min_samples_split: '))\n",
    "\n",
    "      # Fit the RandomForest model with best parameters\n",
    "      model = DecisionTreeClassifier(max_depth = max_depth_input, min_samples_split = min_samples_split_input)\n",
    "      model.fit(X_train, y_train)\n",
    "    elif (AdaBoost == True):\n",
    "      learning_rate_input = float(input('Enter Optimal learning rate: '))\n",
    "\n",
    "      # Fit the AdaBoost classifier with optimal learning rate\n",
    "      model = AdaBoostClassifier(n_estimators=100, learning_rate=learning_rate_input)\n",
    "      model.fit(X_train, y_train)\n",
    "    else:\n",
    "      C_input = int(input('Enter optimal C value: '))\n",
    "      # Fit the SVC kernels with optimal C value\n",
    "      if (SVC_RBF == True):\n",
    "        model = SVC(kernel ='rbf', C = C_input)\n",
    "        model.fit(X_train, y_train)\n",
    "      elif (SVC_linear == True):\n",
    "        model = SVC(kernel ='linear', C = C_input)\n",
    "        model.fit(X_train, y_train)\n",
    "      elif (SVC_polynomial == True):\n",
    "        model = SVC(kernel ='poly', C = C_input)\n",
    "        model.fit(X_train, y_train)\n",
    "\n",
    "\n",
    "  model_pred_train = model.predict(X_train)  # Predict and calculate accuracy on train data\n",
    "  print('Accuracy score of train data: ', metrics.accuracy_score(y_true = y_train, y_pred = model_pred_train))\n",
    "  print('\\n')\n",
    "\n",
    "  model_pred_test = model.predict(X_val)    # Predict and calculate accuracy on validation data\n",
    "  print('Accuracy score of test data: ', metrics.accuracy_score(y_true = y_val, y_pred = model_pred_test))\n",
    "  print('-------------------------------------------------------------------------------------------------------------------')\n",
    "\n",
    "  #Confusion matrix\n",
    "  confusion_matrix =  pd.crosstab(index=y_val, columns=model_pred_test.ravel(), rownames=['Expected'], colnames=['Predicted'])\n",
    "  sns.heatmap(confusion_matrix, annot=True, square=False, fmt='', cbar=False)\n",
    "  print(confusion_matrix)\n",
    "  plt.title(\"Confusion Matrix for test data\", fontsize = 15)\n",
    "  plt.show()\n",
    "\n",
    "  # Print classification report\n",
    "  print('Classification report of default Random forest model: ')\n",
    "  print(metrics.classification_report(y_val, model_pred_test))\n",
    "\n",
    "\n",
    "\n",
    "def RandomForest_Hypermarameter(X_train, y_train, X_val, y_val):\n",
    "  \"\"\"\n",
    "  Computes the optimal max_depth and min_samples_split and call classification_models function to perform validation\n",
    "  \n",
    "        Parameters:\n",
    "                  X_train (DataFrame): Train data excluding target variable (Shares)\n",
    "                  y_train (DataFrame): Target variable (Shares) of training set\n",
    "                  X_val (DataFrame): Validation data excluding target variable (Shares)\n",
    "                  y_val (DataFrame): Target variable (Shares) of validation set\n",
    "  \"\"\"\n",
    "  RF_hp = RandomForestClassifier()\n",
    "  parameters = {\n",
    "    'max_depth': [2,4,6,8,10],\n",
    "    'min_samples_split': [8,10,12,14,16,20]\n",
    "  }\n",
    "  GSC = GridSearchCV(RF_hp, parameters, scoring = 'precision', n_jobs = -1)\n",
    "  GSC.fit(X_train, y_train)\n",
    "  print('Best parameters of RandomForest model: ', GSC.best_params_)\n",
    "  classification_models(X_train, y_train, X_val, y_val, hp = True, RandomForest = True)\n",
    "\n",
    "\n",
    "def SVC_Hypermarameter(X_train, y_train, X_val, y_val, RBF = False, linear = False, polynomial = False):\n",
    "  \"\"\"\n",
    "  Computes the optimal C value and call classification_models function to perform validation\n",
    "  \n",
    "        Parameters:\n",
    "                  X_train (DataFrame): Train data excluding target variable (Shares)\n",
    "                  y_train (DataFrame): Target variable (Shares) of training set\n",
    "                  X_val (DataFrame): Validation data excluding target variable (Shares)\n",
    "                  y_val (DataFrame): Target variable (Shares) of validation set\n",
    "                  RBF (Boolean): Set to True to perform hyperparameter tuning on RBF kernel SVC model\n",
    "                  linear (Boolean): Set to True to perform hyperparameter tuning on linear kernel SVC model\n",
    "                  polynomial (Boolean): Set to True to perform hyperparameter tuning on polynomial kernel SVC model\n",
    "\n",
    "  \"\"\"\n",
    "  selected = input('Select one of the three SVC models (RBF, Linear and Polynomial): ')\n",
    "  print('Selected SVC_{} model for hyperparameter tuning'.format(selected))\n",
    "  print('\\n')\n",
    "  if (RBF == True):\n",
    "    svc = SVC(kernel ='rbf')\n",
    "  elif (linear == True):\n",
    "    svc = SVC(kernel ='linear')\n",
    "  elif (polynomial == True):\n",
    "    svc = SVC(kernel ='poly')\n",
    "  parameters = {\n",
    "    'C': [0.01, 0.1, 5]\n",
    "  }\n",
    "  GSC = GridSearchCV(svc, parameters, scoring = 'precision', n_jobs = -1)\n",
    "  GSC.fit(X_train, y_train)\n",
    "  print('Best parameters for SVC_{}: {}'.format(selected, GSC.best_params_))\n",
    "  \n",
    "  if (RBF == True):\n",
    "    classification_models(X_train, y_train, X_val, y_val, hp = True, SVC_RBF = True)\n",
    "  elif (linear == True):\n",
    "    classification_models(X_train, y_train, X_val, y_val, hp = True, SVC_linear = True)\n",
    "  else:\n",
    "    classification_models(X_train, y_train, X_val, y_val, hp = True, SVC_polynomial = True)\n",
    "\n",
    "\n",
    "def Decision_Tree_model_hp(X_train, y_train, X_val, y_val):\n",
    "  \"\"\"\n",
    "  Computes the optimal max_depth and min_samples_split and call classification_models function to perform validation\n",
    "  \n",
    "        Parameters:\n",
    "                  X_train (DataFrame): Train data excluding target variable (Shares)\n",
    "                  y_train (DataFrame): Target variable (Shares) of training set\n",
    "                  X_val (DataFrame): Validation data excluding target variable (Shares)\n",
    "                  y_val (DataFrame): Target variable (Shares) of validation set\n",
    "\n",
    "  \"\"\"\n",
    "  DT_hp = DecisionTreeClassifier()\n",
    "  parameters = {\n",
    "    'max_depth': [2,4,6,8,10],\n",
    "    'min_samples_split': [8,10,12,14,16,20]\n",
    "  }\n",
    "  GSC = GridSearchCV(DT_hp, parameters, scoring = 'precision', n_jobs = -1)\n",
    "  GSC.fit(X_train, y_train)\n",
    "  print('Best parameters of Decision Trees model: ', GSC.best_params_)\n",
    "  classification_models(X_train, y_train, X_val, y_val, hp = True, DT = True)\n",
    "\n",
    "\n",
    "def AdaBoost_model_hp(X_train, y_train, X_val, y_val):\n",
    "  \"\"\"\n",
    "  Computes the optimal learning rate and call classification_models function to perform validation\n",
    "  \n",
    "        Parameters:\n",
    "                  X_train (DataFrame): Train data excluding target variable (Shares)\n",
    "                  y_train (DataFrame): Target variable (Shares) of training set\n",
    "                  X_val (DataFrame): Validation data excluding target variable (Shares)\n",
    "                  y_val (DataFrame): Target variable (Shares) of validation set\n",
    "\n",
    "  \"\"\"\n",
    "  AB_hp = AdaBoostClassifier()\n",
    "  parameters = {\n",
    "    'learning_rate': [0.0001, 0.001, 0.01, 0.1]\n",
    "}\n",
    "  GSC = GridSearchCV(AB_hp, parameters, scoring = 'precision', n_jobs = -1)\n",
    "  GSC.fit(X_train, y_train)\n",
    "  print('Best parameters of AdaBoost model: ', GSC.best_params_)\n",
    "  classification_models(X_train, y_train, X_val, y_val, hp = True, AdaBoost = True)"
   ]
  },
  {
   "cell_type": "code",
   "execution_count": 8,
   "metadata": {},
   "outputs": [
    {
     "name": "stdout",
     "output_type": "stream",
     "text": [
      "Accuracy score of train data:  0.9941037604161316\n",
      "\n",
      "\n",
      "Accuracy score of test data:  0.9372583250820783\n",
      "-------------------------------------------------------------------------------------------------------------------\n",
      "Predicted       0      1\n",
      "Expected                \n",
      "0          310133   7534\n",
      "1           16545  49568\n"
     ]
    },
    {
     "data": {
      "image/png": "[encoded data removed]",
      "text/plain": [
       "<Figure size 432x288 with 1 Axes>"
      ]
     },
     "metadata": {
      "needs_background": "light"
     },
     "output_type": "display_data"
    },
    {
     "name": "stdout",
     "output_type": "stream",
     "text": [
      "Classification report of default Random forest model: \n",
      "              precision    recall  f1-score   support\n",
      "\n",
      "           0       0.95      0.98      0.96    317667\n",
      "           1       0.87      0.75      0.80     66113\n",
      "\n",
      "    accuracy                           0.94    383780\n",
      "   macro avg       0.91      0.86      0.88    383780\n",
      "weighted avg       0.94      0.94      0.94    383780\n",
      "\n"
     ]
    }
   ],
   "source": [
    "# Random forest without hyperparameter tuning\n",
    "classification_models(X_train, y_train, X_val, y_val, hp = False, RandomForest = True)"
   ]
  },
  {
   "cell_type": "code",
   "execution_count": 9,
   "metadata": {},
   "outputs": [
    {
     "name": "stdout",
     "output_type": "stream",
     "text": [
      "Best parameters of RandomForest model:  {'max_depth': 10, 'min_samples_split': 14}\n",
      "Enter max_depth: 10\n",
      "Enter min_samples_split: 14\n",
      "Accuracy score of train data:  0.9494006606468443\n",
      "\n",
      "\n",
      "Accuracy score of test data:  0.9493095002345093\n",
      "-------------------------------------------------------------------------------------------------------------------\n",
      "Predicted       0      1\n",
      "Expected                \n",
      "0          316474   1193\n",
      "1           18261  47852\n"
     ]
    },
    {
     "data": {
      "image/png": "[encoded data removed]",
      "text/plain": [
       "<Figure size 432x288 with 1 Axes>"
      ]
     },
     "metadata": {
      "needs_background": "light"
     },
     "output_type": "display_data"
    },
    {
     "name": "stdout",
     "output_type": "stream",
     "text": [
      "Classification report of default Random forest model: \n",
      "              precision    recall  f1-score   support\n",
      "\n",
      "           0       0.95      1.00      0.97    317667\n",
      "           1       0.98      0.72      0.83     66113\n",
      "\n",
      "    accuracy                           0.95    383780\n",
      "   macro avg       0.96      0.86      0.90    383780\n",
      "weighted avg       0.95      0.95      0.95    383780\n",
      "\n"
     ]
    }
   ],
   "source": [
    "# Random Forest classifier with hyperparameter tuning\n",
    "RandomForest_Hypermarameter(X_train, y_train, X_val, y_val)\n"
   ]
  },
  {
   "cell_type": "code",
   "execution_count": 28,
   "metadata": {},
   "outputs": [
    {
     "name": "stdout",
     "output_type": "stream",
     "text": [
      "Accuracy score of train data:  0.9941495456098699\n",
      "\n",
      "\n",
      "Accuracy score of test data:  0.9107118661733284\n",
      "-------------------------------------------------------------------------------------------------------------------\n",
      "Predicted       0      1\n",
      "Expected                \n",
      "0          299516  18151\n",
      "1           16116  49997\n"
     ]
    },
    {
     "data": {
      "image/png": "[encoded data removed]",
      "text/plain": [
       "<Figure size 432x288 with 1 Axes>"
      ]
     },
     "metadata": {
      "needs_background": "light"
     },
     "output_type": "display_data"
    },
    {
     "name": "stdout",
     "output_type": "stream",
     "text": [
      "Classification report of default Random forest model: \n",
      "              precision    recall  f1-score   support\n",
      "\n",
      "           0       0.95      0.94      0.95    317667\n",
      "           1       0.73      0.76      0.74     66113\n",
      "\n",
      "    accuracy                           0.91    383780\n",
      "   macro avg       0.84      0.85      0.85    383780\n",
      "weighted avg       0.91      0.91      0.91    383780\n",
      "\n"
     ]
    }
   ],
   "source": [
    "# Decision tree model without hyperparameter tuning\n",
    "classification_models(X_train, y_train, X_val, y_val, hp = False, DT = True)"
   ]
  },
  {
   "cell_type": "code",
   "execution_count": 86,
   "metadata": {},
   "outputs": [
    {
     "name": "stdout",
     "output_type": "stream",
     "text": [
      "Best parameters of Decision Trees model:  {'max_depth': 8, 'min_samples_split': 14}\n",
      "Enter max_depth: 8\n",
      "Enter min_samples_split: 14\n",
      "Accuracy score of train data:  0.949525732395593\n",
      "\n",
      "\n",
      "Accuracy score of test data:  0.9498071811975611\n",
      "-------------------------------------------------------------------------------------------------------------------\n",
      "Predicted       0      1\n",
      "Expected                \n",
      "0          316344   1323\n",
      "1           17940  48173\n"
     ]
    },
    {
     "data": {
      "image/png": "[encoded data removed]",
      "text/plain": [
       "<Figure size 432x288 with 1 Axes>"
      ]
     },
     "metadata": {
      "needs_background": "light"
     },
     "output_type": "display_data"
    },
    {
     "name": "stdout",
     "output_type": "stream",
     "text": [
      "Classification report of default Random forest model: \n",
      "              precision    recall  f1-score   support\n",
      "\n",
      "           0       0.95      1.00      0.97    317667\n",
      "           1       0.97      0.73      0.83     66113\n",
      "\n",
      "    accuracy                           0.95    383780\n",
      "   macro avg       0.96      0.86      0.90    383780\n",
      "weighted avg       0.95      0.95      0.95    383780\n",
      "\n"
     ]
    }
   ],
   "source": [
    "# Decision tree model with hyperparameter tuning\n",
    "Decision_Tree_model_hp(X_train, y_train, X_val, y_val)"
   ]
  },
  {
   "cell_type": "code",
   "execution_count": 29,
   "metadata": {},
   "outputs": [
    {
     "name": "stdout",
     "output_type": "stream",
     "text": [
      "Accuracy score of train data:  0.9463844214203238\n",
      "\n",
      "\n",
      "Accuracy score of test data:  0.9469148991609776\n",
      "-------------------------------------------------------------------------------------------------------------------\n",
      "Predicted       0      1\n",
      "Expected                \n",
      "0          315584   2083\n",
      "1           18290  47823\n"
     ]
    },
    {
     "data": {
      "image/png": "[encoded data removed]",
      "text/plain": [
       "<Figure size 432x288 with 1 Axes>"
      ]
     },
     "metadata": {
      "needs_background": "light"
     },
     "output_type": "display_data"
    },
    {
     "name": "stdout",
     "output_type": "stream",
     "text": [
      "Classification report of default Random forest model: \n",
      "              precision    recall  f1-score   support\n",
      "\n",
      "           0       0.95      0.99      0.97    317667\n",
      "           1       0.96      0.72      0.82     66113\n",
      "\n",
      "    accuracy                           0.95    383780\n",
      "   macro avg       0.95      0.86      0.90    383780\n",
      "weighted avg       0.95      0.95      0.94    383780\n",
      "\n"
     ]
    }
   ],
   "source": [
    "# AdaBoost model without hyperparameter tuning\n",
    "classification_models(X_train, y_train, X_val, y_val, hp = False, AdaBoost = True)\n"
   ]
  },
  {
   "cell_type": "code",
   "execution_count": 30,
   "metadata": {},
   "outputs": [
    {
     "name": "stdout",
     "output_type": "stream",
     "text": [
      "Best parameters of AdaBoost model:  {'learning_rate': 0.1}\n",
      "Enter Optimal learning rate: 0.1\n",
      "Accuracy score of train data:  0.9437467475761765\n",
      "\n",
      "\n",
      "Accuracy score of test data:  0.9441893793319089\n",
      "-------------------------------------------------------------------------------------------------------------------\n",
      "Predicted       0      1\n",
      "Expected                \n",
      "0          315661   2006\n",
      "1           19413  46700\n"
     ]
    },
    {
     "data": {
      "image/png": "[encoded data removed]",
      "text/plain": [
       "<Figure size 432x288 with 1 Axes>"
      ]
     },
     "metadata": {
      "needs_background": "light"
     },
     "output_type": "display_data"
    },
    {
     "name": "stdout",
     "output_type": "stream",
     "text": [
      "Classification report of default Random forest model: \n",
      "              precision    recall  f1-score   support\n",
      "\n",
      "           0       0.94      0.99      0.97    317667\n",
      "           1       0.96      0.71      0.81     66113\n",
      "\n",
      "    accuracy                           0.94    383780\n",
      "   macro avg       0.95      0.85      0.89    383780\n",
      "weighted avg       0.94      0.94      0.94    383780\n",
      "\n"
     ]
    }
   ],
   "source": [
    "# AdaBoost model with hyperparameter tuning\n",
    "AdaBoost_model_hp(X_train, y_train, X_val, y_val)"
   ]
  },
  {
   "cell_type": "code",
   "execution_count": 27,
   "metadata": {},
   "outputs": [],
   "source": [
    "# Performing Backward Elimination\n",
    "\n",
    "def backwardElimination(x, Y, sl, columns):\n",
    "    numVars = len(x[0])\n",
    "    for i in range(0, numVars):\n",
    "        regressor_OLS = sm.OLS(Y, x).fit()  # Fitting ordinary least square regression\n",
    "        maxVar = max(regressor_OLS.pvalues).astype(float)\n",
    "        if maxVar > sl:  # Checking condition for p-value\n",
    "            for j in range(0, numVars - i):\n",
    "                if (regressor_OLS.pvalues[j].astype(float) == maxVar):\n",
    "                    x = np.delete(x, j, 1)\n",
    "                    columns = np.delete(columns, j)\n",
    "                    \n",
    "    BE_summary = regressor_OLS.summary()\n",
    "    return x, columns, BE_summary  # Returning modeled data and the significant columns\n",
    "\n",
    "\n",
    "def Summary_Selection_Methods(train, target, cutoff, train_columns):\n",
    "    Data_BE, selected_columns, BE_summary = backwardElimination(train.values, target.values, cutoff, train_columns.columns)\n",
    "    \n",
    "    print(\"The variables selected by backwardElimination are: \")\n",
    "    for i in selected_columns:\n",
    "        print(i)\n",
    "    print(\"---------------------------------------------------------------------------------------------------------------\")\n",
    "    print(\"Summary of Backward Elimination: \")\n",
    "    print(BE_summary)\n",
    "    \n",
    "    return Data_BE, selected_columns"
   ]
  },
  {
   "cell_type": "code",
   "execution_count": 29,
   "metadata": {},
   "outputs": [
    {
     "name": "stdout",
     "output_type": "stream",
     "text": [
      "The variables selected by backwardElimination are: \n",
      "TaxiOuttimeMinutes\n",
      "DelayCarrierMinutes\n",
      "DelayWeatherMinutes\n",
      "DelayNationalAviationSystemMinutes\n",
      "DelaySecurityMinutes\n",
      "DelayLateAircraftArrivalMinutes\n",
      "city\n",
      "time\n",
      "maxtempC\n",
      "mintempC\n",
      "totalSnow_cm\n",
      "sunHour\n",
      "moon_illumination\n",
      "DewPointC\n",
      "FeelsLikeC\n",
      "HeatIndexC\n",
      "WindChillC\n",
      "WindGustKmph\n",
      "cloudcover\n",
      "humidity\n",
      "precipMM\n",
      "pressure\n",
      "tempC\n",
      "visibility\n",
      "windspeedKmph\n",
      "---------------------------------------------------------------------------------------------------------------\n",
      "Summary of Backward Elimination: \n",
      "                                 OLS Regression Results                                \n",
      "=======================================================================================\n",
      "Dep. Variable:                      y   R-squared (uncentered):                   0.259\n",
      "Model:                            OLS   Adj. R-squared (uncentered):              0.259\n",
      "Method:                 Least Squares   F-statistic:                          1.253e+04\n",
      "Date:                Mon, 24 May 2021   Prob (F-statistic):                        0.00\n",
      "Time:                        11:25:36   Log-Likelihood:                     -3.4939e+05\n",
      "No. Observations:              895486   AIC:                                  6.988e+05\n",
      "Df Residuals:                  895461   BIC:                                  6.991e+05\n",
      "Df Model:                          25                                                  \n",
      "Covariance Type:            nonrobust                                                  \n",
      "==============================================================================\n",
      "                 coef    std err          t      P>|t|      [0.025      0.975]\n",
      "------------------------------------------------------------------------------\n",
      "x1            -0.0054      0.000    -13.277      0.000      -0.006      -0.005\n",
      "x2             0.0952      0.000    251.799      0.000       0.094       0.096\n",
      "x3             0.0335      0.000     87.531      0.000       0.033       0.034\n",
      "x4             0.1042      0.000    261.313      0.000       0.103       0.105\n",
      "x5             0.0086      0.000     24.133      0.000       0.008       0.009\n",
      "x6             0.1290      0.000    336.091      0.000       0.128       0.130\n",
      "x7             0.0147      0.000     34.314      0.000       0.014       0.016\n",
      "x8             0.0323      0.000     82.192      0.000       0.032       0.033\n",
      "x9            -0.0200      0.002    -11.854      0.000      -0.023      -0.017\n",
      "x10           -0.0156      0.001    -10.826      0.000      -0.018      -0.013\n",
      "x11            0.0008      0.000      1.967      0.049    2.66e-06       0.002\n",
      "x12            0.0098      0.001     17.556      0.000       0.009       0.011\n",
      "x13            0.0022      0.000      5.792      0.000       0.001       0.003\n",
      "x14           -0.0089      0.002     -4.241      0.000      -0.013      -0.005\n",
      "x15            0.0315      0.009      3.552      0.000       0.014       0.049\n",
      "x16            0.0303      0.007      4.087      0.000       0.016       0.045\n",
      "x17           -0.0920      0.008    -11.201      0.000      -0.108      -0.076\n",
      "x18           -0.0027      0.001     -2.301      0.021      -0.005      -0.000\n",
      "x19            0.0041      0.001      7.198      0.000       0.003       0.005\n",
      "x20            0.0172      0.001     12.158      0.000       0.014       0.020\n",
      "x21            0.0095      0.000     21.585      0.000       0.009       0.010\n",
      "x22           -0.0027      0.000     -5.815      0.000      -0.004      -0.002\n",
      "x23            0.0694      0.008      9.134      0.000       0.055       0.084\n",
      "x24           -0.0060      0.000    -12.493      0.000      -0.007      -0.005\n",
      "x25            0.0067      0.001      5.556      0.000       0.004       0.009\n",
      "==============================================================================\n",
      "Omnibus:                   263129.868   Durbin-Watson:                   1.536\n",
      "Prob(Omnibus):                  0.000   Jarque-Bera (JB):          3094810.192\n",
      "Skew:                           1.079   Prob(JB):                         0.00\n",
      "Kurtosis:                      11.848   Cond. No.                         105.\n",
      "==============================================================================\n",
      "\n",
      "Warnings:\n",
      "[1] Standard Errors assume that the covariance matrix of the errors is correctly specified.\n"
     ]
    }
   ],
   "source": [
    "Data_BE, selected_columns = Summary_Selection_Methods(X_train, y_train, 0.05, X_train)"
   ]
  },
  {
   "cell_type": "code",
   "execution_count": 31,
   "metadata": {},
   "outputs": [],
   "source": [
    "# Creating data frame with only the important columns\n",
    "\n",
    "X_train_BE = X_train[selected_columns]\n",
    "X_val_BE = X_val[selected_columns]"
   ]
  },
  {
   "cell_type": "code",
   "execution_count": 32,
   "metadata": {},
   "outputs": [
    {
     "name": "stdout",
     "output_type": "stream",
     "text": [
      "Accuracy score of train data:  0.9941495456098699\n",
      "\n",
      "\n",
      "Accuracy score of test data:  0.9107379227682526\n",
      "-------------------------------------------------------------------------------------------------------------------\n",
      "Predicted       0      1\n",
      "Expected                \n",
      "0          299513  18154\n",
      "1           16103  50010\n"
     ]
    },
    {
     "data": {
      "image/png": "[encoded data removed]",
      "text/plain": [
       "<Figure size 432x288 with 1 Axes>"
      ]
     },
     "metadata": {
      "needs_background": "light"
     },
     "output_type": "display_data"
    },
    {
     "name": "stdout",
     "output_type": "stream",
     "text": [
      "Classification report of default Random forest model: \n",
      "              precision    recall  f1-score   support\n",
      "\n",
      "           0       0.95      0.94      0.95    317667\n",
      "           1       0.73      0.76      0.74     66113\n",
      "\n",
      "    accuracy                           0.91    383780\n",
      "   macro avg       0.84      0.85      0.85    383780\n",
      "weighted avg       0.91      0.91      0.91    383780\n",
      "\n"
     ]
    }
   ],
   "source": [
    "# Decision tree model without hyperparameter tuning\n",
    "classification_models(X_train_BE, y_train, X_val_BE, y_val, hp = False, DT = True)"
   ]
  },
  {
   "cell_type": "code",
   "execution_count": 38,
   "metadata": {},
   "outputs": [
    {
     "name": "stdout",
     "output_type": "stream",
     "text": [
      "Best parameters of Decision Trees model:  {'max_depth': 8, 'min_samples_split': 14}\n",
      "Enter max_depth: 8\n",
      "Enter min_samples_split: 14\n",
      "Accuracy score of train data:  0.9495212655474234\n",
      "\n",
      "\n",
      "Accuracy score of test data:  0.9498045755380687\n",
      "-------------------------------------------------------------------------------------------------------------------\n",
      "Predicted       0      1\n",
      "Expected                \n",
      "0          316354   1313\n",
      "1           17951  48162\n"
     ]
    },
    {
     "data": {
      "image/png": "[encoded data removed]",
      "text/plain": [
       "<Figure size 432x288 with 1 Axes>"
      ]
     },
     "metadata": {
      "needs_background": "light"
     },
     "output_type": "display_data"
    },
    {
     "name": "stdout",
     "output_type": "stream",
     "text": [
      "Classification report of default Random forest model: \n",
      "              precision    recall  f1-score   support\n",
      "\n",
      "           0       0.95      1.00      0.97    317667\n",
      "           1       0.97      0.73      0.83     66113\n",
      "\n",
      "    accuracy                           0.95    383780\n",
      "   macro avg       0.96      0.86      0.90    383780\n",
      "weighted avg       0.95      0.95      0.95    383780\n",
      "\n"
     ]
    }
   ],
   "source": [
    "# Decision tree model with hyperparameter tuning\n",
    "Decision_Tree_model_hp(X_train_BE, y_train, X_val_BE, y_val)"
   ]
  },
  {
   "cell_type": "code",
   "execution_count": 34,
   "metadata": {},
   "outputs": [
    {
     "name": "stdout",
     "output_type": "stream",
     "text": [
      "Accuracy score of train data:  0.9463844214203238\n",
      "\n",
      "\n",
      "Accuracy score of test data:  0.9469148991609776\n",
      "-------------------------------------------------------------------------------------------------------------------\n",
      "Predicted       0      1\n",
      "Expected                \n",
      "0          315584   2083\n",
      "1           18290  47823\n"
     ]
    },
    {
     "data": {
      "image/png": "[encoded data removed]",
      "text/plain": [
       "<Figure size 432x288 with 1 Axes>"
      ]
     },
     "metadata": {
      "needs_background": "light"
     },
     "output_type": "display_data"
    },
    {
     "name": "stdout",
     "output_type": "stream",
     "text": [
      "Classification report of default Random forest model: \n",
      "              precision    recall  f1-score   support\n",
      "\n",
      "           0       0.95      0.99      0.97    317667\n",
      "           1       0.96      0.72      0.82     66113\n",
      "\n",
      "    accuracy                           0.95    383780\n",
      "   macro avg       0.95      0.86      0.90    383780\n",
      "weighted avg       0.95      0.95      0.94    383780\n",
      "\n"
     ]
    }
   ],
   "source": [
    "# AdaBoost model without hyperparameter tuning\n",
    "classification_models(X_train_BE, y_train, X_val_BE, y_val, hp = False, AdaBoost = True)"
   ]
  },
  {
   "cell_type": "code",
   "execution_count": 35,
   "metadata": {},
   "outputs": [
    {
     "name": "stdout",
     "output_type": "stream",
     "text": [
      "Best parameters of AdaBoost model:  {'learning_rate': 0.1}\n",
      "Enter Optimal learning rate: 0.1\n",
      "Accuracy score of train data:  0.9437467475761765\n",
      "\n",
      "\n",
      "Accuracy score of test data:  0.9441893793319089\n",
      "-------------------------------------------------------------------------------------------------------------------\n",
      "Predicted       0      1\n",
      "Expected                \n",
      "0          315661   2006\n",
      "1           19413  46700\n"
     ]
    },
    {
     "data": {
      "image/png": "[encoded data removed]",
      "text/plain": [
       "<Figure size 432x288 with 1 Axes>"
      ]
     },
     "metadata": {
      "needs_background": "light"
     },
     "output_type": "display_data"
    },
    {
     "name": "stdout",
     "output_type": "stream",
     "text": [
      "Classification report of default Random forest model: \n",
      "              precision    recall  f1-score   support\n",
      "\n",
      "           0       0.94      0.99      0.97    317667\n",
      "           1       0.96      0.71      0.81     66113\n",
      "\n",
      "    accuracy                           0.94    383780\n",
      "   macro avg       0.95      0.85      0.89    383780\n",
      "weighted avg       0.94      0.94      0.94    383780\n",
      "\n"
     ]
    }
   ],
   "source": [
    "# AdaBoost model with hyperparameter tuning\n",
    "AdaBoost_model_hp(X_train_BE, y_train, X_val_BE, y_val)"
   ]
  },
  {
   "cell_type": "code",
   "execution_count": 52,
   "metadata": {},
   "outputs": [
    {
     "name": "stderr",
     "output_type": "stream",
     "text": [
      "[Parallel(n_jobs=1)]: Using backend SequentialBackend with 1 concurrent workers.\n",
      "[Parallel(n_jobs=1)]: Done   1 out of   1 | elapsed:    1.2s remaining:    0.0s\n",
      "[Parallel(n_jobs=1)]: Done  27 out of  27 | elapsed:   32.6s finished\n",
      "\n",
      "[2021-05-24 12:31:04] Features: 1/25 -- score: 0.8925376831779737[Parallel(n_jobs=1)]: Using backend SequentialBackend with 1 concurrent workers.\n",
      "[Parallel(n_jobs=1)]: Done   1 out of   1 | elapsed:    1.6s remaining:    0.0s\n",
      "[Parallel(n_jobs=1)]: Done  26 out of  26 | elapsed:   40.7s finished\n",
      "\n",
      "[2021-05-24 12:31:45] Features: 2/25 -- score: 0.9291736550558818[Parallel(n_jobs=1)]: Using backend SequentialBackend with 1 concurrent workers.\n",
      "[Parallel(n_jobs=1)]: Done   1 out of   1 | elapsed:    2.0s remaining:    0.0s\n",
      "[Parallel(n_jobs=1)]: Done  25 out of  25 | elapsed:   48.2s finished\n",
      "\n",
      "[2021-05-24 12:32:33] Features: 3/25 -- score: 0.9429695157449738[Parallel(n_jobs=1)]: Using backend SequentialBackend with 1 concurrent workers.\n",
      "[Parallel(n_jobs=1)]: Done   1 out of   1 | elapsed:    2.4s remaining:    0.0s\n",
      "[Parallel(n_jobs=1)]: Done  24 out of  24 | elapsed:   57.5s finished\n",
      "\n",
      "[2021-05-24 12:33:30] Features: 4/25 -- score: 0.9467093842365661[Parallel(n_jobs=1)]: Using backend SequentialBackend with 1 concurrent workers.\n",
      "[Parallel(n_jobs=1)]: Done   1 out of   1 | elapsed:    2.6s remaining:    0.0s\n",
      "[Parallel(n_jobs=1)]: Done  23 out of  23 | elapsed:   58.6s finished\n",
      "\n",
      "[2021-05-24 12:34:29] Features: 5/25 -- score: 0.9491270658208432[Parallel(n_jobs=1)]: Using backend SequentialBackend with 1 concurrent workers.\n",
      "[Parallel(n_jobs=1)]: Done   1 out of   1 | elapsed:    2.9s remaining:    0.0s\n",
      "[Parallel(n_jobs=1)]: Done  22 out of  22 | elapsed:  1.5min finished\n",
      "\n",
      "[2021-05-24 12:35:58] Features: 6/25 -- score: 0.9492487874197477[Parallel(n_jobs=1)]: Using backend SequentialBackend with 1 concurrent workers.\n",
      "[Parallel(n_jobs=1)]: Done   1 out of   1 | elapsed:    4.1s remaining:    0.0s\n",
      "[Parallel(n_jobs=1)]: Done  21 out of  21 | elapsed:  1.6min finished\n",
      "\n",
      "[2021-05-24 12:37:34] Features: 7/25 -- score: 0.9492543709674894[Parallel(n_jobs=1)]: Using backend SequentialBackend with 1 concurrent workers.\n",
      "[Parallel(n_jobs=1)]: Done   1 out of   1 | elapsed:    5.0s remaining:    0.0s\n",
      "[Parallel(n_jobs=1)]: Done  20 out of  20 | elapsed:  1.8min finished\n",
      "\n",
      "[2021-05-24 12:39:20] Features: 8/25 -- score: 0.9492588378206472[Parallel(n_jobs=1)]: Using backend SequentialBackend with 1 concurrent workers.\n",
      "[Parallel(n_jobs=1)]: Done   1 out of   1 | elapsed:    6.3s remaining:    0.0s\n",
      "[Parallel(n_jobs=1)]: Done  19 out of  19 | elapsed:  2.2min finished\n",
      "\n",
      "[2021-05-24 12:41:31] Features: 9/25 -- score: 0.9492610712347558[Parallel(n_jobs=1)]: Using backend SequentialBackend with 1 concurrent workers.\n",
      "[Parallel(n_jobs=1)]: Done   1 out of   1 | elapsed:    6.7s remaining:    0.0s\n",
      "[Parallel(n_jobs=1)]: Done  18 out of  18 | elapsed:  2.2min finished\n",
      "\n",
      "[2021-05-24 12:43:43] Features: 10/25 -- score: 0.9492621879480453[Parallel(n_jobs=1)]: Using backend SequentialBackend with 1 concurrent workers.\n",
      "[Parallel(n_jobs=1)]: Done   1 out of   1 | elapsed:    8.4s remaining:    0.0s\n",
      "[Parallel(n_jobs=1)]: Done  17 out of  17 | elapsed:  2.5min finished\n",
      "\n",
      "[2021-05-24 12:46:15] Features: 11/25 -- score: 0.9492633046613346[Parallel(n_jobs=1)]: Using backend SequentialBackend with 1 concurrent workers.\n",
      "[Parallel(n_jobs=1)]: Done   1 out of   1 | elapsed:    9.5s remaining:    0.0s\n",
      "[Parallel(n_jobs=1)]: Done  16 out of  16 | elapsed:  2.7min finished\n",
      "\n",
      "[2021-05-24 12:48:56] Features: 12/25 -- score: 0.9492577211322987[Parallel(n_jobs=1)]: Using backend SequentialBackend with 1 concurrent workers.\n",
      "[Parallel(n_jobs=1)]: Done   1 out of   1 | elapsed:   11.1s remaining:    0.0s\n",
      "[Parallel(n_jobs=1)]: Done  15 out of  15 | elapsed:  2.9min finished\n",
      "\n",
      "[2021-05-24 12:51:50] Features: 13/25 -- score: 0.9492554877057197[Parallel(n_jobs=1)]: Using backend SequentialBackend with 1 concurrent workers.\n",
      "[Parallel(n_jobs=1)]: Done   1 out of   1 | elapsed:   11.8s remaining:    0.0s\n",
      "[Parallel(n_jobs=1)]: Done  14 out of  14 | elapsed:  2.8min finished\n",
      "\n",
      "[2021-05-24 12:54:39] Features: 14/25 -- score: 0.9492543709986654[Parallel(n_jobs=1)]: Using backend SequentialBackend with 1 concurrent workers.\n",
      "[Parallel(n_jobs=1)]: Done   1 out of   1 | elapsed:   13.5s remaining:    0.0s\n",
      "[Parallel(n_jobs=1)]: Done  13 out of  13 | elapsed:  3.0min finished\n",
      "\n",
      "[2021-05-24 12:57:40] Features: 15/25 -- score: 0.9492577211322987[Parallel(n_jobs=1)]: Using backend SequentialBackend with 1 concurrent workers.\n",
      "[Parallel(n_jobs=1)]: Done   1 out of   1 | elapsed:   15.2s remaining:    0.0s\n",
      "[Parallel(n_jobs=1)]: Done  12 out of  12 | elapsed:  3.1min finished\n",
      "\n",
      "[2021-05-24 13:00:45] Features: 16/25 -- score: 0.9492532542978465[Parallel(n_jobs=1)]: Using backend SequentialBackend with 1 concurrent workers.\n",
      "[Parallel(n_jobs=1)]: Done   1 out of   1 | elapsed:   17.2s remaining:    0.0s\n",
      "[Parallel(n_jobs=1)]: Done  11 out of  11 | elapsed:  3.2min finished\n",
      "\n",
      "[2021-05-24 13:03:57] Features: 17/25 -- score: 0.949252137584557[Parallel(n_jobs=1)]: Using backend SequentialBackend with 1 concurrent workers.\n",
      "[Parallel(n_jobs=1)]: Done   1 out of   1 | elapsed:   19.2s remaining:    0.0s\n",
      "[Parallel(n_jobs=1)]: Done  10 out of  10 | elapsed:  3.2min finished\n",
      "\n",
      "[2021-05-24 13:07:11] Features: 18/25 -- score: 0.9492510208775027[Parallel(n_jobs=1)]: Using backend SequentialBackend with 1 concurrent workers.\n",
      "[Parallel(n_jobs=1)]: Done   1 out of   1 | elapsed:   20.4s remaining:    0.0s\n",
      "[Parallel(n_jobs=1)]: Done   9 out of   9 | elapsed:  3.2min finished\n",
      "\n",
      "[2021-05-24 13:10:20] Features: 19/25 -- score: 0.9492510208650323[Parallel(n_jobs=1)]: Using backend SequentialBackend with 1 concurrent workers.\n",
      "[Parallel(n_jobs=1)]: Done   1 out of   1 | elapsed:   22.4s remaining:    0.0s\n",
      "[Parallel(n_jobs=1)]: Done   8 out of   8 | elapsed:  3.1min finished\n",
      "\n",
      "[2021-05-24 13:13:24] Features: 20/25 -- score: 0.9492487874509239[Parallel(n_jobs=1)]: Using backend SequentialBackend with 1 concurrent workers.\n",
      "[Parallel(n_jobs=1)]: Done   1 out of   1 | elapsed:   24.2s remaining:    0.0s\n",
      "[Parallel(n_jobs=1)]: Done   7 out of   7 | elapsed:  2.9min finished\n",
      "\n",
      "[2021-05-24 13:16:17] Features: 21/25 -- score: 0.9492476707376344[Parallel(n_jobs=1)]: Using backend SequentialBackend with 1 concurrent workers.\n",
      "[Parallel(n_jobs=1)]: Done   1 out of   1 | elapsed:   25.5s remaining:    0.0s\n",
      "[Parallel(n_jobs=1)]: Done   6 out of   6 | elapsed:  2.6min finished\n",
      "\n",
      "[2021-05-24 13:18:55] Features: 22/25 -- score: 0.9492465540368155[Parallel(n_jobs=1)]: Using backend SequentialBackend with 1 concurrent workers.\n",
      "[Parallel(n_jobs=1)]: Done   1 out of   1 | elapsed:   27.1s remaining:    0.0s\n",
      "[Parallel(n_jobs=1)]: Done   5 out of   5 | elapsed:  2.3min finished\n",
      "\n",
      "[2021-05-24 13:21:13] Features: 23/25 -- score: 0.9492499041455078[Parallel(n_jobs=1)]: Using backend SequentialBackend with 1 concurrent workers.\n",
      "[Parallel(n_jobs=1)]: Done   1 out of   1 | elapsed:   30.2s remaining:    0.0s\n",
      "[Parallel(n_jobs=1)]: Done   4 out of   4 | elapsed:  2.0min finished\n",
      "\n",
      "[2021-05-24 13:23:13] Features: 24/25 -- score: 0.9492476707189288[Parallel(n_jobs=1)]: Using backend SequentialBackend with 1 concurrent workers.\n",
      "[Parallel(n_jobs=1)]: Done   1 out of   1 | elapsed:   32.7s remaining:    0.0s\n",
      "[Parallel(n_jobs=1)]: Done   3 out of   3 | elapsed:  1.6min finished\n",
      "\n",
      "[2021-05-24 13:24:50] Features: 25/25 -- score: 0.949244320591531"
     ]
    }
   ],
   "source": [
    "from mlxtend.feature_selection import SequentialFeatureSelector as sfs\n",
    "clf = DecisionTreeClassifier(max_depth = 8, min_samples_split = 14)\n",
    "sfs1 = sfs(clf,\n",
    "           k_features=25,\n",
    "           forward=True,\n",
    "           floating=False,\n",
    "           verbose=2,\n",
    "           scoring='precision',\n",
    "           cv=5)\n",
    "\n",
    "# Perform SFFS\n",
    "sfs1 = sfs1.fit(X_train, y_train)"
   ]
  },
  {
   "cell_type": "code",
   "execution_count": 85,
   "metadata": {},
   "outputs": [
    {
     "data": {
      "text/plain": [
       "SequentialFeatureSelector(estimator=DecisionTreeClassifier(max_depth=8,\n",
       "                                                           min_samples_split=14),\n",
       "                          k_features=25, scoring='accuracy', verbose=2)"
      ]
     },
     "execution_count": 85,
     "metadata": {},
     "output_type": "execute_result"
    }
   ],
   "source": [
    "sfs1"
   ]
  },
  {
   "cell_type": "code",
   "execution_count": 53,
   "metadata": {},
   "outputs": [
    {
     "name": "stdout",
     "output_type": "stream",
     "text": [
      "[0, 1, 2, 3, 4, 5, 7, 8, 9, 10, 11, 12, 13, 14, 15, 16, 17, 18, 19, 21, 22, 23, 24, 25, 26]\n"
     ]
    }
   ],
   "source": [
    "feat_cols = list(sfs1.k_feature_idx_)\n",
    "print(feat_cols)"
   ]
  },
  {
   "cell_type": "code",
   "execution_count": 63,
   "metadata": {},
   "outputs": [
    {
     "name": "stderr",
     "output_type": "stream",
     "text": [
      "[Parallel(n_jobs=1)]: Using backend SequentialBackend with 1 concurrent workers.\n",
      "[Parallel(n_jobs=1)]: Done   1 out of   1 | elapsed:    1.4s remaining:    0.0s\n",
      "/opt/anaconda3/lib/python3.8/site-packages/sklearn/metrics/_classification.py:1221: UndefinedMetricWarning: Precision is ill-defined and being set to 0.0 due to no predicted samples. Use `zero_division` parameter to control this behavior.\n",
      "  _warn_prf(average, modifier, msg_start, len(result))\n",
      "/opt/anaconda3/lib/python3.8/site-packages/sklearn/metrics/_classification.py:1221: UndefinedMetricWarning: Precision is ill-defined and being set to 0.0 due to no predicted samples. Use `zero_division` parameter to control this behavior.\n",
      "  _warn_prf(average, modifier, msg_start, len(result))\n",
      "/opt/anaconda3/lib/python3.8/site-packages/sklearn/metrics/_classification.py:1221: UndefinedMetricWarning: Precision is ill-defined and being set to 0.0 due to no predicted samples. Use `zero_division` parameter to control this behavior.\n",
      "  _warn_prf(average, modifier, msg_start, len(result))\n",
      "/opt/anaconda3/lib/python3.8/site-packages/sklearn/metrics/_classification.py:1221: UndefinedMetricWarning: Precision is ill-defined and being set to 0.0 due to no predicted samples. Use `zero_division` parameter to control this behavior.\n",
      "  _warn_prf(average, modifier, msg_start, len(result))\n",
      "/opt/anaconda3/lib/python3.8/site-packages/sklearn/metrics/_classification.py:1221: UndefinedMetricWarning: Precision is ill-defined and being set to 0.0 due to no predicted samples. Use `zero_division` parameter to control this behavior.\n",
      "  _warn_prf(average, modifier, msg_start, len(result))\n",
      "/opt/anaconda3/lib/python3.8/site-packages/sklearn/metrics/_classification.py:1221: UndefinedMetricWarning: Precision is ill-defined and being set to 0.0 due to no predicted samples. Use `zero_division` parameter to control this behavior.\n",
      "  _warn_prf(average, modifier, msg_start, len(result))\n",
      "/opt/anaconda3/lib/python3.8/site-packages/sklearn/metrics/_classification.py:1221: UndefinedMetricWarning: Precision is ill-defined and being set to 0.0 due to no predicted samples. Use `zero_division` parameter to control this behavior.\n",
      "  _warn_prf(average, modifier, msg_start, len(result))\n",
      "/opt/anaconda3/lib/python3.8/site-packages/sklearn/metrics/_classification.py:1221: UndefinedMetricWarning: Precision is ill-defined and being set to 0.0 due to no predicted samples. Use `zero_division` parameter to control this behavior.\n",
      "  _warn_prf(average, modifier, msg_start, len(result))\n",
      "/opt/anaconda3/lib/python3.8/site-packages/sklearn/metrics/_classification.py:1221: UndefinedMetricWarning: Precision is ill-defined and being set to 0.0 due to no predicted samples. Use `zero_division` parameter to control this behavior.\n",
      "  _warn_prf(average, modifier, msg_start, len(result))\n",
      "/opt/anaconda3/lib/python3.8/site-packages/sklearn/metrics/_classification.py:1221: UndefinedMetricWarning: Precision is ill-defined and being set to 0.0 due to no predicted samples. Use `zero_division` parameter to control this behavior.\n",
      "  _warn_prf(average, modifier, msg_start, len(result))\n",
      "/opt/anaconda3/lib/python3.8/site-packages/sklearn/metrics/_classification.py:1221: UndefinedMetricWarning: Precision is ill-defined and being set to 0.0 due to no predicted samples. Use `zero_division` parameter to control this behavior.\n",
      "  _warn_prf(average, modifier, msg_start, len(result))\n",
      "/opt/anaconda3/lib/python3.8/site-packages/sklearn/metrics/_classification.py:1221: UndefinedMetricWarning: Precision is ill-defined and being set to 0.0 due to no predicted samples. Use `zero_division` parameter to control this behavior.\n",
      "  _warn_prf(average, modifier, msg_start, len(result))\n",
      "/opt/anaconda3/lib/python3.8/site-packages/sklearn/metrics/_classification.py:1221: UndefinedMetricWarning: Precision is ill-defined and being set to 0.0 due to no predicted samples. Use `zero_division` parameter to control this behavior.\n",
      "  _warn_prf(average, modifier, msg_start, len(result))\n",
      "/opt/anaconda3/lib/python3.8/site-packages/sklearn/metrics/_classification.py:1221: UndefinedMetricWarning: Precision is ill-defined and being set to 0.0 due to no predicted samples. Use `zero_division` parameter to control this behavior.\n",
      "  _warn_prf(average, modifier, msg_start, len(result))\n",
      "/opt/anaconda3/lib/python3.8/site-packages/sklearn/metrics/_classification.py:1221: UndefinedMetricWarning: Precision is ill-defined and being set to 0.0 due to no predicted samples. Use `zero_division` parameter to control this behavior.\n",
      "  _warn_prf(average, modifier, msg_start, len(result))\n",
      "/opt/anaconda3/lib/python3.8/site-packages/sklearn/metrics/_classification.py:1221: UndefinedMetricWarning: Precision is ill-defined and being set to 0.0 due to no predicted samples. Use `zero_division` parameter to control this behavior.\n",
      "  _warn_prf(average, modifier, msg_start, len(result))\n",
      "/opt/anaconda3/lib/python3.8/site-packages/sklearn/metrics/_classification.py:1221: UndefinedMetricWarning: Precision is ill-defined and being set to 0.0 due to no predicted samples. Use `zero_division` parameter to control this behavior.\n",
      "  _warn_prf(average, modifier, msg_start, len(result))\n",
      "/opt/anaconda3/lib/python3.8/site-packages/sklearn/metrics/_classification.py:1221: UndefinedMetricWarning: Precision is ill-defined and being set to 0.0 due to no predicted samples. Use `zero_division` parameter to control this behavior.\n",
      "  _warn_prf(average, modifier, msg_start, len(result))\n",
      "/opt/anaconda3/lib/python3.8/site-packages/sklearn/metrics/_classification.py:1221: UndefinedMetricWarning: Precision is ill-defined and being set to 0.0 due to no predicted samples. Use `zero_division` parameter to control this behavior.\n",
      "  _warn_prf(average, modifier, msg_start, len(result))\n",
      "/opt/anaconda3/lib/python3.8/site-packages/sklearn/metrics/_classification.py:1221: UndefinedMetricWarning: Precision is ill-defined and being set to 0.0 due to no predicted samples. Use `zero_division` parameter to control this behavior.\n",
      "  _warn_prf(average, modifier, msg_start, len(result))\n",
      "/opt/anaconda3/lib/python3.8/site-packages/sklearn/metrics/_classification.py:1221: UndefinedMetricWarning: Precision is ill-defined and being set to 0.0 due to no predicted samples. Use `zero_division` parameter to control this behavior.\n",
      "  _warn_prf(average, modifier, msg_start, len(result))\n",
      "/opt/anaconda3/lib/python3.8/site-packages/sklearn/metrics/_classification.py:1221: UndefinedMetricWarning: Precision is ill-defined and being set to 0.0 due to no predicted samples. Use `zero_division` parameter to control this behavior.\n",
      "  _warn_prf(average, modifier, msg_start, len(result))\n",
      "/opt/anaconda3/lib/python3.8/site-packages/sklearn/metrics/_classification.py:1221: UndefinedMetricWarning: Precision is ill-defined and being set to 0.0 due to no predicted samples. Use `zero_division` parameter to control this behavior.\n",
      "  _warn_prf(average, modifier, msg_start, len(result))\n",
      "/opt/anaconda3/lib/python3.8/site-packages/sklearn/metrics/_classification.py:1221: UndefinedMetricWarning: Precision is ill-defined and being set to 0.0 due to no predicted samples. Use `zero_division` parameter to control this behavior.\n",
      "  _warn_prf(average, modifier, msg_start, len(result))\n",
      "/opt/anaconda3/lib/python3.8/site-packages/sklearn/metrics/_classification.py:1221: UndefinedMetricWarning: Precision is ill-defined and being set to 0.0 due to no predicted samples. Use `zero_division` parameter to control this behavior.\n",
      "  _warn_prf(average, modifier, msg_start, len(result))\n",
      "/opt/anaconda3/lib/python3.8/site-packages/sklearn/metrics/_classification.py:1221: UndefinedMetricWarning: Precision is ill-defined and being set to 0.0 due to no predicted samples. Use `zero_division` parameter to control this behavior.\n",
      "  _warn_prf(average, modifier, msg_start, len(result))\n",
      "/opt/anaconda3/lib/python3.8/site-packages/sklearn/metrics/_classification.py:1221: UndefinedMetricWarning: Precision is ill-defined and being set to 0.0 due to no predicted samples. Use `zero_division` parameter to control this behavior.\n",
      "  _warn_prf(average, modifier, msg_start, len(result))\n",
      "/opt/anaconda3/lib/python3.8/site-packages/sklearn/metrics/_classification.py:1221: UndefinedMetricWarning: Precision is ill-defined and being set to 0.0 due to no predicted samples. Use `zero_division` parameter to control this behavior.\n",
      "  _warn_prf(average, modifier, msg_start, len(result))\n",
      "/opt/anaconda3/lib/python3.8/site-packages/sklearn/metrics/_classification.py:1221: UndefinedMetricWarning: Precision is ill-defined and being set to 0.0 due to no predicted samples. Use `zero_division` parameter to control this behavior.\n",
      "  _warn_prf(average, modifier, msg_start, len(result))\n"
     ]
    },
    {
     "name": "stderr",
     "output_type": "stream",
     "text": [
      "/opt/anaconda3/lib/python3.8/site-packages/sklearn/metrics/_classification.py:1221: UndefinedMetricWarning: Precision is ill-defined and being set to 0.0 due to no predicted samples. Use `zero_division` parameter to control this behavior.\n",
      "  _warn_prf(average, modifier, msg_start, len(result))\n",
      "/opt/anaconda3/lib/python3.8/site-packages/sklearn/metrics/_classification.py:1221: UndefinedMetricWarning: Precision is ill-defined and being set to 0.0 due to no predicted samples. Use `zero_division` parameter to control this behavior.\n",
      "  _warn_prf(average, modifier, msg_start, len(result))\n",
      "/opt/anaconda3/lib/python3.8/site-packages/sklearn/metrics/_classification.py:1221: UndefinedMetricWarning: Precision is ill-defined and being set to 0.0 due to no predicted samples. Use `zero_division` parameter to control this behavior.\n",
      "  _warn_prf(average, modifier, msg_start, len(result))\n",
      "/opt/anaconda3/lib/python3.8/site-packages/sklearn/metrics/_classification.py:1221: UndefinedMetricWarning: Precision is ill-defined and being set to 0.0 due to no predicted samples. Use `zero_division` parameter to control this behavior.\n",
      "  _warn_prf(average, modifier, msg_start, len(result))\n",
      "/opt/anaconda3/lib/python3.8/site-packages/sklearn/metrics/_classification.py:1221: UndefinedMetricWarning: Precision is ill-defined and being set to 0.0 due to no predicted samples. Use `zero_division` parameter to control this behavior.\n",
      "  _warn_prf(average, modifier, msg_start, len(result))\n",
      "/opt/anaconda3/lib/python3.8/site-packages/sklearn/metrics/_classification.py:1221: UndefinedMetricWarning: Precision is ill-defined and being set to 0.0 due to no predicted samples. Use `zero_division` parameter to control this behavior.\n",
      "  _warn_prf(average, modifier, msg_start, len(result))\n",
      "/opt/anaconda3/lib/python3.8/site-packages/sklearn/metrics/_classification.py:1221: UndefinedMetricWarning: Precision is ill-defined and being set to 0.0 due to no predicted samples. Use `zero_division` parameter to control this behavior.\n",
      "  _warn_prf(average, modifier, msg_start, len(result))\n",
      "/opt/anaconda3/lib/python3.8/site-packages/sklearn/metrics/_classification.py:1221: UndefinedMetricWarning: Precision is ill-defined and being set to 0.0 due to no predicted samples. Use `zero_division` parameter to control this behavior.\n",
      "  _warn_prf(average, modifier, msg_start, len(result))\n",
      "/opt/anaconda3/lib/python3.8/site-packages/sklearn/metrics/_classification.py:1221: UndefinedMetricWarning: Precision is ill-defined and being set to 0.0 due to no predicted samples. Use `zero_division` parameter to control this behavior.\n",
      "  _warn_prf(average, modifier, msg_start, len(result))\n",
      "/opt/anaconda3/lib/python3.8/site-packages/sklearn/metrics/_classification.py:1221: UndefinedMetricWarning: Precision is ill-defined and being set to 0.0 due to no predicted samples. Use `zero_division` parameter to control this behavior.\n",
      "  _warn_prf(average, modifier, msg_start, len(result))\n",
      "/opt/anaconda3/lib/python3.8/site-packages/sklearn/metrics/_classification.py:1221: UndefinedMetricWarning: Precision is ill-defined and being set to 0.0 due to no predicted samples. Use `zero_division` parameter to control this behavior.\n",
      "  _warn_prf(average, modifier, msg_start, len(result))\n",
      "/opt/anaconda3/lib/python3.8/site-packages/sklearn/metrics/_classification.py:1221: UndefinedMetricWarning: Precision is ill-defined and being set to 0.0 due to no predicted samples. Use `zero_division` parameter to control this behavior.\n",
      "  _warn_prf(average, modifier, msg_start, len(result))\n",
      "/opt/anaconda3/lib/python3.8/site-packages/sklearn/metrics/_classification.py:1221: UndefinedMetricWarning: Precision is ill-defined and being set to 0.0 due to no predicted samples. Use `zero_division` parameter to control this behavior.\n",
      "  _warn_prf(average, modifier, msg_start, len(result))\n",
      "/opt/anaconda3/lib/python3.8/site-packages/sklearn/metrics/_classification.py:1221: UndefinedMetricWarning: Precision is ill-defined and being set to 0.0 due to no predicted samples. Use `zero_division` parameter to control this behavior.\n",
      "  _warn_prf(average, modifier, msg_start, len(result))\n",
      "/opt/anaconda3/lib/python3.8/site-packages/sklearn/metrics/_classification.py:1221: UndefinedMetricWarning: Precision is ill-defined and being set to 0.0 due to no predicted samples. Use `zero_division` parameter to control this behavior.\n",
      "  _warn_prf(average, modifier, msg_start, len(result))\n",
      "/opt/anaconda3/lib/python3.8/site-packages/sklearn/metrics/_classification.py:1221: UndefinedMetricWarning: Precision is ill-defined and being set to 0.0 due to no predicted samples. Use `zero_division` parameter to control this behavior.\n",
      "  _warn_prf(average, modifier, msg_start, len(result))\n",
      "/opt/anaconda3/lib/python3.8/site-packages/sklearn/metrics/_classification.py:1221: UndefinedMetricWarning: Precision is ill-defined and being set to 0.0 due to no predicted samples. Use `zero_division` parameter to control this behavior.\n",
      "  _warn_prf(average, modifier, msg_start, len(result))\n",
      "/opt/anaconda3/lib/python3.8/site-packages/sklearn/metrics/_classification.py:1221: UndefinedMetricWarning: Precision is ill-defined and being set to 0.0 due to no predicted samples. Use `zero_division` parameter to control this behavior.\n",
      "  _warn_prf(average, modifier, msg_start, len(result))\n",
      "/opt/anaconda3/lib/python3.8/site-packages/sklearn/metrics/_classification.py:1221: UndefinedMetricWarning: Precision is ill-defined and being set to 0.0 due to no predicted samples. Use `zero_division` parameter to control this behavior.\n",
      "  _warn_prf(average, modifier, msg_start, len(result))\n",
      "/opt/anaconda3/lib/python3.8/site-packages/sklearn/metrics/_classification.py:1221: UndefinedMetricWarning: Precision is ill-defined and being set to 0.0 due to no predicted samples. Use `zero_division` parameter to control this behavior.\n",
      "  _warn_prf(average, modifier, msg_start, len(result))\n",
      "/opt/anaconda3/lib/python3.8/site-packages/sklearn/metrics/_classification.py:1221: UndefinedMetricWarning: Precision is ill-defined and being set to 0.0 due to no predicted samples. Use `zero_division` parameter to control this behavior.\n",
      "  _warn_prf(average, modifier, msg_start, len(result))\n",
      "/opt/anaconda3/lib/python3.8/site-packages/sklearn/metrics/_classification.py:1221: UndefinedMetricWarning: Precision is ill-defined and being set to 0.0 due to no predicted samples. Use `zero_division` parameter to control this behavior.\n",
      "  _warn_prf(average, modifier, msg_start, len(result))\n",
      "/opt/anaconda3/lib/python3.8/site-packages/sklearn/metrics/_classification.py:1221: UndefinedMetricWarning: Precision is ill-defined and being set to 0.0 due to no predicted samples. Use `zero_division` parameter to control this behavior.\n",
      "  _warn_prf(average, modifier, msg_start, len(result))\n",
      "/opt/anaconda3/lib/python3.8/site-packages/sklearn/metrics/_classification.py:1221: UndefinedMetricWarning: Precision is ill-defined and being set to 0.0 due to no predicted samples. Use `zero_division` parameter to control this behavior.\n",
      "  _warn_prf(average, modifier, msg_start, len(result))\n",
      "/opt/anaconda3/lib/python3.8/site-packages/sklearn/metrics/_classification.py:1221: UndefinedMetricWarning: Precision is ill-defined and being set to 0.0 due to no predicted samples. Use `zero_division` parameter to control this behavior.\n",
      "  _warn_prf(average, modifier, msg_start, len(result))\n",
      "/opt/anaconda3/lib/python3.8/site-packages/sklearn/metrics/_classification.py:1221: UndefinedMetricWarning: Precision is ill-defined and being set to 0.0 due to no predicted samples. Use `zero_division` parameter to control this behavior.\n",
      "  _warn_prf(average, modifier, msg_start, len(result))\n",
      "/opt/anaconda3/lib/python3.8/site-packages/sklearn/metrics/_classification.py:1221: UndefinedMetricWarning: Precision is ill-defined and being set to 0.0 due to no predicted samples. Use `zero_division` parameter to control this behavior.\n",
      "  _warn_prf(average, modifier, msg_start, len(result))\n",
      "/opt/anaconda3/lib/python3.8/site-packages/sklearn/metrics/_classification.py:1221: UndefinedMetricWarning: Precision is ill-defined and being set to 0.0 due to no predicted samples. Use `zero_division` parameter to control this behavior.\n",
      "  _warn_prf(average, modifier, msg_start, len(result))\n"
     ]
    },
    {
     "name": "stderr",
     "output_type": "stream",
     "text": [
      "/opt/anaconda3/lib/python3.8/site-packages/sklearn/metrics/_classification.py:1221: UndefinedMetricWarning: Precision is ill-defined and being set to 0.0 due to no predicted samples. Use `zero_division` parameter to control this behavior.\n",
      "  _warn_prf(average, modifier, msg_start, len(result))\n",
      "/opt/anaconda3/lib/python3.8/site-packages/sklearn/metrics/_classification.py:1221: UndefinedMetricWarning: Precision is ill-defined and being set to 0.0 due to no predicted samples. Use `zero_division` parameter to control this behavior.\n",
      "  _warn_prf(average, modifier, msg_start, len(result))\n",
      "/opt/anaconda3/lib/python3.8/site-packages/sklearn/metrics/_classification.py:1221: UndefinedMetricWarning: Precision is ill-defined and being set to 0.0 due to no predicted samples. Use `zero_division` parameter to control this behavior.\n",
      "  _warn_prf(average, modifier, msg_start, len(result))\n",
      "/opt/anaconda3/lib/python3.8/site-packages/sklearn/metrics/_classification.py:1221: UndefinedMetricWarning: Precision is ill-defined and being set to 0.0 due to no predicted samples. Use `zero_division` parameter to control this behavior.\n",
      "  _warn_prf(average, modifier, msg_start, len(result))\n",
      "/opt/anaconda3/lib/python3.8/site-packages/sklearn/metrics/_classification.py:1221: UndefinedMetricWarning: Precision is ill-defined and being set to 0.0 due to no predicted samples. Use `zero_division` parameter to control this behavior.\n",
      "  _warn_prf(average, modifier, msg_start, len(result))\n",
      "/opt/anaconda3/lib/python3.8/site-packages/sklearn/metrics/_classification.py:1221: UndefinedMetricWarning: Precision is ill-defined and being set to 0.0 due to no predicted samples. Use `zero_division` parameter to control this behavior.\n",
      "  _warn_prf(average, modifier, msg_start, len(result))\n",
      "[Parallel(n_jobs=1)]: Done  27 out of  27 | elapsed:   37.3s finished\n",
      "\n",
      "[2021-05-24 13:57:14] Features: 1/6 -- score: 0.944414275078522[Parallel(n_jobs=1)]: Using backend SequentialBackend with 1 concurrent workers.\n",
      "[Parallel(n_jobs=1)]: Done   1 out of   1 | elapsed:    1.7s remaining:    0.0s\n",
      "[Parallel(n_jobs=1)]: Done  26 out of  26 | elapsed:   44.5s finished\n",
      "\n",
      "[2021-05-24 13:57:58] Features: 2/6 -- score: 0.9703926624943167[Parallel(n_jobs=1)]: Using backend SequentialBackend with 1 concurrent workers.\n",
      "[Parallel(n_jobs=1)]: Done   1 out of   1 | elapsed:    2.2s remaining:    0.0s\n",
      "[Parallel(n_jobs=1)]: Done  25 out of  25 | elapsed:   50.7s finished\n",
      "\n",
      "[2021-05-24 13:58:49] Features: 3/6 -- score: 0.9828294612449089[Parallel(n_jobs=1)]: Using backend SequentialBackend with 1 concurrent workers.\n",
      "[Parallel(n_jobs=1)]: Done   1 out of   1 | elapsed:    2.4s remaining:    0.0s\n",
      "[Parallel(n_jobs=1)]: Done  24 out of  24 | elapsed:   54.5s finished\n",
      "\n",
      "[2021-05-24 13:59:44] Features: 4/6 -- score: 0.984106423884833[Parallel(n_jobs=1)]: Using backend SequentialBackend with 1 concurrent workers.\n",
      "[Parallel(n_jobs=1)]: Done   1 out of   1 | elapsed:    3.5s remaining:    0.0s\n",
      "[Parallel(n_jobs=1)]: Done  23 out of  23 | elapsed:  1.3min finished\n",
      "\n",
      "[2021-05-24 14:01:01] Features: 5/6 -- score: 0.9846565219531478[Parallel(n_jobs=1)]: Using backend SequentialBackend with 1 concurrent workers.\n",
      "[Parallel(n_jobs=1)]: Done   1 out of   1 | elapsed:    4.6s remaining:    0.0s\n",
      "[Parallel(n_jobs=1)]: Done  22 out of  22 | elapsed:  1.6min finished\n",
      "\n",
      "[2021-05-24 14:02:39] Features: 6/6 -- score: 0.984740600356895"
     ]
    }
   ],
   "source": [
    "from mlxtend.feature_selection import SequentialFeatureSelector as sfs\n",
    "clf2 = DecisionTreeClassifier(max_depth = 8, min_samples_split = 14)\n",
    "sfs2 = sfs(clf2,\n",
    "           k_features=6,\n",
    "           forward=True,\n",
    "           floating=False,\n",
    "           verbose=2,\n",
    "           scoring='precision',\n",
    "           cv=5)\n",
    "\n",
    "# Perform SFFS\n",
    "sfs2 = sfs2.fit(X_train, y_train)"
   ]
  },
  {
   "cell_type": "code",
   "execution_count": 64,
   "metadata": {},
   "outputs": [
    {
     "name": "stdout",
     "output_type": "stream",
     "text": [
      "[1, 2, 4, 5, 6, 12]\n"
     ]
    }
   ],
   "source": [
    "feat_cols2 = list(sfs2.k_feature_idx_)\n",
    "print(feat_cols2)"
   ]
  },
  {
   "cell_type": "code",
   "execution_count": 66,
   "metadata": {},
   "outputs": [
    {
     "name": "stdout",
     "output_type": "stream",
     "text": [
      "<class 'pandas.core.frame.DataFrame'>\n",
      "Int64Index: 895486 entries, 692088 to 767556\n",
      "Data columns (total 27 columns):\n",
      " #   Column                              Non-Null Count   Dtype  \n",
      "---  ------                              --------------   -----  \n",
      " 0   TaxiOuttimeMinutes                  895486 non-null  float64\n",
      " 1   DelayCarrierMinutes                 895486 non-null  float64\n",
      " 2   DelayWeatherMinutes                 895486 non-null  float64\n",
      " 3   DelayNationalAviationSystemMinutes  895486 non-null  float64\n",
      " 4   DelaySecurityMinutes                895486 non-null  float64\n",
      " 5   DelayLateAircraftArrivalMinutes     895486 non-null  float64\n",
      " 6   city                                895486 non-null  float64\n",
      " 7   time                                895486 non-null  float64\n",
      " 8   maxtempC                            895486 non-null  float64\n",
      " 9   mintempC                            895486 non-null  float64\n",
      " 10  totalSnow_cm                        895486 non-null  float64\n",
      " 11  sunHour                             895486 non-null  float64\n",
      " 12  uvIndex                             895486 non-null  float64\n",
      " 13  moon_illumination                   895486 non-null  float64\n",
      " 14  DewPointC                           895486 non-null  float64\n",
      " 15  FeelsLikeC                          895486 non-null  float64\n",
      " 16  HeatIndexC                          895486 non-null  float64\n",
      " 17  WindChillC                          895486 non-null  float64\n",
      " 18  WindGustKmph                        895486 non-null  float64\n",
      " 19  cloudcover                          895486 non-null  float64\n",
      " 20  humidity                            895486 non-null  float64\n",
      " 21  precipMM                            895486 non-null  float64\n",
      " 22  pressure                            895486 non-null  float64\n",
      " 23  tempC                               895486 non-null  float64\n",
      " 24  visibility                          895486 non-null  float64\n",
      " 25  winddirDegree                       895486 non-null  float64\n",
      " 26  windspeedKmph                       895486 non-null  float64\n",
      "dtypes: float64(27)\n",
      "memory usage: 191.3 MB\n"
     ]
    }
   ],
   "source": [
    "X_train.info()"
   ]
  },
  {
   "cell_type": "code",
   "execution_count": 72,
   "metadata": {},
   "outputs": [
    {
     "name": "stdout",
     "output_type": "stream",
     "text": [
      "Predicted       0      1\n",
      "Expected                \n",
      "0          316344   1323\n",
      "1           17939  48174\n"
     ]
    },
    {
     "data": {
      "image/png": "[encoded data removed]",
      "text/plain": [
       "<Figure size 432x288 with 1 Axes>"
      ]
     },
     "metadata": {
      "needs_background": "light"
     },
     "output_type": "display_data"
    }
   ],
   "source": [
    "# Build full model with selected features\n",
    "clf = DecisionTreeClassifier(max_depth = 8, min_samples_split = 14)\n",
    "clf.fit(X_train.iloc[:, feat_cols], y_train)\n",
    "\n",
    "y_train_pred = clf.predict(X_train.iloc[:, feat_cols])\n",
    "#print('Training accuracy on selected features: %.3f' % acc(y_train, y_train_pred))\n",
    "\n",
    "y_test_pred = clf.predict(X_val.iloc[:, feat_cols])\n",
    "#print('Testing accuracy on selected features: %.3f' % acc(y_test, y_test_pred))\n",
    "\n",
    "confusion_matrix =  pd.crosstab(index=y_val, columns=y_test_pred.ravel(), rownames=['Expected'], colnames=['Predicted'])\n",
    "sns.heatmap(confusion_matrix, annot=True, square=False, fmt='', cbar=False)\n",
    "print(confusion_matrix)\n",
    "plt.title(\"Confusion Matrix for test data\", fontsize = 15)\n",
    "plt.show()"
   ]
  },
  {
   "cell_type": "code",
   "execution_count": 73,
   "metadata": {},
   "outputs": [
    {
     "name": "stdout",
     "output_type": "stream",
     "text": [
      "Classification report of default Random forest model: \n",
      "              precision    recall  f1-score   support\n",
      "\n",
      "           0       0.95      1.00      0.97    317667\n",
      "           1       0.97      0.73      0.83     66113\n",
      "\n",
      "    accuracy                           0.95    383780\n",
      "   macro avg       0.96      0.86      0.90    383780\n",
      "weighted avg       0.95      0.95      0.95    383780\n",
      "\n"
     ]
    }
   ],
   "source": [
    "print('Classification report of default Random forest model: ')\n",
    "print(metrics.classification_report(y_val, y_test_pred))"
   ]
  },
  {
   "cell_type": "code",
   "execution_count": 74,
   "metadata": {},
   "outputs": [
    {
     "name": "stdout",
     "output_type": "stream",
     "text": [
      "Predicted       0      1\n",
      "Expected                \n",
      "0          317089    578\n",
      "1           24351  41762\n"
     ]
    },
    {
     "data": {
      "image/png": "[encoded data removed]",
      "text/plain": [
       "<Figure size 432x288 with 1 Axes>"
      ]
     },
     "metadata": {
      "needs_background": "light"
     },
     "output_type": "display_data"
    },
    {
     "name": "stdout",
     "output_type": "stream",
     "text": [
      "Classification report of default Random forest model: \n",
      "              precision    recall  f1-score   support\n",
      "\n",
      "           0       0.93      1.00      0.96    317667\n",
      "           1       0.99      0.63      0.77     66113\n",
      "\n",
      "    accuracy                           0.94    383780\n",
      "   macro avg       0.96      0.81      0.87    383780\n",
      "weighted avg       0.94      0.94      0.93    383780\n",
      "\n"
     ]
    }
   ],
   "source": [
    "# Build full model with selected features\n",
    "clf = DecisionTreeClassifier(max_depth = 8, min_samples_split = 14)\n",
    "clf.fit(X_train.iloc[:, feat_cols2], y_train)\n",
    "\n",
    "y_train_pred = clf.predict(X_train.iloc[:, feat_cols2])\n",
    "#print('Training accuracy on selected features: %.3f' % acc(y_train, y_train_pred))\n",
    "\n",
    "y_test_pred = clf.predict(X_val.iloc[:, feat_cols2])\n",
    "#print('Testing accuracy on selected features: %.3f' % acc(y_test, y_test_pred))\n",
    "\n",
    "confusion_matrix =  pd.crosstab(index=y_val, columns=y_test_pred.ravel(), rownames=['Expected'], colnames=['Predicted'])\n",
    "sns.heatmap(confusion_matrix, annot=True, square=False, fmt='', cbar=False)\n",
    "print(confusion_matrix)\n",
    "plt.title(\"Confusion Matrix for test data\", fontsize = 15)\n",
    "plt.show()\n",
    "\n",
    "print('Classification report of default Random forest model: ')\n",
    "print(metrics.classification_report(y_val, y_test_pred))"
   ]
  },
  {
   "cell_type": "code",
   "execution_count": 75,
   "metadata": {},
   "outputs": [],
   "source": [
    "pca = PCA(n_components=None)\n",
    "pca.fit(X_train)\n",
    "X_train_pca = pca.transform(X_train)\n",
    "X_test_pca = pca.transform(X_val)"
   ]
  },
  {
   "cell_type": "code",
   "execution_count": 82,
   "metadata": {},
   "outputs": [],
   "source": [
    "X_train_pca = X_train_pca[:, 0:10]\n",
    "X_test_pca = X_test_pca[:, 0:10]"
   ]
  },
  {
   "cell_type": "code",
   "execution_count": 83,
   "metadata": {},
   "outputs": [
    {
     "name": "stdout",
     "output_type": "stream",
     "text": [
      "Best parameters of Decision Trees model:  {'max_depth': 2, 'min_samples_split': 8}\n",
      "Enter max_depth: 2\n",
      "Enter min_samples_split: 8\n",
      "Accuracy score of train data:  0.8409243695602164\n",
      "\n",
      "\n",
      "Accuracy score of test data:  0.841469070821825\n",
      "-------------------------------------------------------------------------------------------------------------------\n",
      "Predicted       0     1\n",
      "Expected               \n",
      "0          316036  1631\n",
      "1           59210  6903\n"
     ]
    },
    {
     "data": {
      "image/png": "[encoded data removed]",
      "text/plain": [
       "<Figure size 432x288 with 1 Axes>"
      ]
     },
     "metadata": {
      "needs_background": "light"
     },
     "output_type": "display_data"
    },
    {
     "name": "stdout",
     "output_type": "stream",
     "text": [
      "Classification report of default Random forest model: \n",
      "              precision    recall  f1-score   support\n",
      "\n",
      "           0       0.84      0.99      0.91    317667\n",
      "           1       0.81      0.10      0.18     66113\n",
      "\n",
      "    accuracy                           0.84    383780\n",
      "   macro avg       0.83      0.55      0.55    383780\n",
      "weighted avg       0.84      0.84      0.79    383780\n",
      "\n"
     ]
    }
   ],
   "source": [
    "# Decision tree model with hyperparameter tuning\n",
    "Decision_Tree_model_hp(X_train_pca, y_train, X_test_pca, y_val)"
   ]
  },
  {
   "cell_type": "code",
   "execution_count": 89,
   "metadata": {},
   "outputs": [
    {
     "name": "stdout",
     "output_type": "stream",
     "text": [
      "Feature: 0, Score: 0.01588\n",
      "Feature: 1, Score: 0.30610\n",
      "Feature: 2, Score: 0.04178\n",
      "Feature: 3, Score: 0.14087\n",
      "Feature: 4, Score: 0.00160\n",
      "Feature: 5, Score: 0.49064\n",
      "Feature: 6, Score: 0.00021\n",
      "Feature: 7, Score: 0.00270\n",
      "Feature: 8, Score: 0.00000\n",
      "Feature: 9, Score: 0.00002\n",
      "Feature: 10, Score: 0.00000\n",
      "Feature: 11, Score: 0.00001\n",
      "Feature: 12, Score: 0.00000\n",
      "Feature: 13, Score: 0.00002\n",
      "Feature: 14, Score: 0.00005\n",
      "Feature: 15, Score: 0.00000\n",
      "Feature: 16, Score: 0.00000\n",
      "Feature: 17, Score: 0.00000\n",
      "Feature: 18, Score: 0.00002\n",
      "Feature: 19, Score: 0.00001\n",
      "Feature: 20, Score: 0.00000\n",
      "Feature: 21, Score: 0.00000\n",
      "Feature: 22, Score: 0.00002\n",
      "Feature: 23, Score: 0.00000\n",
      "Feature: 24, Score: 0.00000\n",
      "Feature: 25, Score: 0.00007\n",
      "Feature: 26, Score: 0.00000\n"
     ]
    },
    {
     "data": {
      "image/png": "[encoded data removed]",
      "text/plain": [
       "<Figure size 432x288 with 1 Axes>"
      ]
     },
     "metadata": {
      "needs_background": "light"
     },
     "output_type": "display_data"
    }
   ],
   "source": [
    "model = DecisionTreeClassifier(max_depth = 8, min_samples_split = 14)\n",
    "model.fit(X_train, y_train)\n",
    "importance = model.feature_importances_\n",
    "# summarize feature importance\n",
    "for i,v in enumerate(importance):\n",
    "    print('Feature: %0d, Score: %.5f' % (i,v))\n",
    "# plot feature importance\n",
    "plt.bar([x for x in range(len(importance))], importance)\n",
    "plt.show()"
   ]
  },
  {
   "cell_type": "code",
   "execution_count": 91,
   "metadata": {},
   "outputs": [
    {
     "name": "stdout",
     "output_type": "stream",
     "text": [
      "Feature: 0, Score: 0.36307\n",
      "Feature: 1, Score: 0.05139\n",
      "Feature: 2, Score: 0.00188\n",
      "Feature: 3, Score: 0.58267\n",
      "Feature: 4, Score: 0.00078\n",
      "Feature: 5, Score: 0.00022\n"
     ]
    },
    {
     "data": {
      "image/png": "[encoded data removed]",
      "text/plain": [
       "<Figure size 432x288 with 1 Axes>"
      ]
     },
     "metadata": {
      "needs_background": "light"
     },
     "output_type": "display_data"
    }
   ],
   "source": [
    "model = DecisionTreeClassifier(max_depth = 8, min_samples_split = 14)\n",
    "model.fit(X_train.iloc[:, feat_cols2], y_train)\n",
    "importance = model.feature_importances_\n",
    "\n",
    "for i,v in enumerate(importance):\n",
    "    print('Feature: %0d, Score: %.5f' % (i,v))\n",
    "\n",
    "plt.bar([x for x in range(len(importance))], importance)\n",
    "plt.show()"
   ]
  },
  {
   "cell_type": "code",
   "execution_count": 92,
   "metadata": {},
   "outputs": [
    {
     "name": "stdout",
     "output_type": "stream",
     "text": [
      "<class 'pandas.core.frame.DataFrame'>\n",
      "Int64Index: 895486 entries, 692088 to 767556\n",
      "Data columns (total 6 columns):\n",
      " #   Column                           Non-Null Count   Dtype  \n",
      "---  ------                           --------------   -----  \n",
      " 0   DelayCarrierMinutes              895486 non-null  float64\n",
      " 1   DelayWeatherMinutes              895486 non-null  float64\n",
      " 2   DelaySecurityMinutes             895486 non-null  float64\n",
      " 3   DelayLateAircraftArrivalMinutes  895486 non-null  float64\n",
      " 4   city                             895486 non-null  float64\n",
      " 5   uvIndex                          895486 non-null  float64\n",
      "dtypes: float64(6)\n",
      "memory usage: 47.8 MB\n"
     ]
    }
   ],
   "source": [
    "X_train.iloc[:, feat_cols2].info()"
   ]
  },
  {
   "cell_type": "code",
   "execution_count": 14,
   "metadata": {},
   "outputs": [
    {
     "name": "stdout",
     "output_type": "stream",
     "text": [
      "TaxiOuttimeMinutes = 0.012431399306003931\n",
      "DelayCarrierMinutes = 0.3670416862732651\n",
      "DelayNationalAviationSystemMinutes = 0.18623629064229108\n",
      "DelaySecurityMinutes = 0.0005630113578362519\n",
      "DelayLateAircraftArrivalMinutes = 0.41780790353633074\n",
      "city = 0.0004956552459389008\n",
      "maxtempC = 0.00033754762025880195\n",
      "mintempC = 0.00031275415709042806\n",
      "totalSnow_cm = 0.0003344316090640406\n",
      "sunHour = 0.00028816630915833974\n",
      "uvIndex = 1.0124443819701108e-05\n",
      "moon_illumination = 8.402415467273175e-06\n",
      "DewPointC = 0.0011851041215692948\n",
      "FeelsLikeC = 0.00025572921713217406\n",
      "HeatIndexC = 0.00021822289980639838\n",
      "WindChillC = 0.00028178337060834075\n",
      "WindGustKmph = 0.00037071875278694375\n",
      "cloudcover = 5.9844132336578604e-05\n",
      "humidity = 0.0005046761794749768\n",
      "precipMM = 0.005504119505140221\n",
      "pressure = 0.001709767502453547\n",
      "tempC = 0.00013114202004602885\n",
      "visibility = 0.0035871982980635445\n",
      "winddirDegree = 1.3238587025940689e-05\n",
      "windspeedKmph = 0.00031108249703133977\n"
     ]
    }
   ],
   "source": [
    "rnd_clf = RandomForestClassifier(n_estimators=100, n_jobs=-1, random_state=15, max_depth = 4, min_samples_split = 14)\n",
    "rnd_clf.fit(X_train, y_train)\n",
    "for name, importance in zip(X_train.columns, rnd_clf.feature_importances_):\n",
    "    print(name, \"=\", importance)"
   ]
  },
  {
   "cell_type": "code",
   "execution_count": 16,
   "metadata": {},
   "outputs": [
    {
     "data": {
      "image/png": "[encoded data removed]",
      "text/plain": [
       "<Figure size 1080x720 with 1 Axes>"
      ]
     },
     "metadata": {
      "needs_background": "light"
     },
     "output_type": "display_data"
    }
   ],
   "source": [
    "features = X_train.columns\n",
    "importances = rnd_clf.feature_importances_\n",
    "indices = np.argsort(importances)\n",
    "plt.figure(figsize=(15,10))\n",
    "plt.title('Feature Importances')\n",
    "plt.barh(range(len(indices)), importances[indices], color='brown', align='center')\n",
    "plt.yticks(range(len(indices)), [features[i] for i in indices])\n",
    "plt.xlabel('Relative Importance')\n",
    "plt.show()"
   ]
  },
  {
   "cell_type": "code",
   "execution_count": null,
   "metadata": {},
   "outputs": [],
   "source": []
  }
 ],
 "metadata": {
  "kernelspec": {
   "display_name": "Python 3",
   "language": "python",
   "name": "python3"
  },
  "language_info": {
   "codemirror_mode": {
    "name": "ipython",
    "version": 3
   },
   "file_extension": ".py",
   "mimetype": "text/x-python",
   "name": "python",
   "nbconvert_exporter": "python",
   "pygments_lexer": "ipython3",
   "version": "3.8.8"
  }
 },
 "nbformat": 4,
 "nbformat_minor": 4
}
